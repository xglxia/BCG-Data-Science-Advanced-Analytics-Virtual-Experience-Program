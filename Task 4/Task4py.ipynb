{
 "cells": [
  {
   "cell_type": "code",
   "execution_count": 127,
   "id": "30b28a4f",
   "metadata": {},
   "outputs": [],
   "source": [
    "import numpy as np\n",
    "import pandas as pd\n",
    "import matplotlib.pyplot as plt\n",
    "from matplotlib.pyplot import figure\n",
    "import seaborn as sns"
   ]
  },
  {
   "cell_type": "code",
   "execution_count": 4,
   "id": "f32ed166",
   "metadata": {},
   "outputs": [],
   "source": [
    "my_data = pd.read_csv('C:/Users/Guoli/Documents/Data Science Material/Projects/BCG/Task 3/my_data.csv')\n",
    "hist_data = pd.read_csv('C:/Users/Guoli/Documents/Data Science Material/Projects/BCG/Task 3/hist_data.csv')"
   ]
  },
  {
   "cell_type": "code",
   "execution_count": 5,
   "id": "8112fba9",
   "metadata": {},
   "outputs": [
    {
     "data": {
      "text/html": [
       "<div>\n",
       "<style scoped>\n",
       "    .dataframe tbody tr th:only-of-type {\n",
       "        vertical-align: middle;\n",
       "    }\n",
       "\n",
       "    .dataframe tbody tr th {\n",
       "        vertical-align: top;\n",
       "    }\n",
       "\n",
       "    .dataframe thead th {\n",
       "        text-align: right;\n",
       "    }\n",
       "</style>\n",
       "<table border=\"1\" class=\"dataframe\">\n",
       "  <thead>\n",
       "    <tr style=\"text-align: right;\">\n",
       "      <th></th>\n",
       "      <th>id</th>\n",
       "      <th>cons_12m</th>\n",
       "      <th>cons_gas_12m</th>\n",
       "      <th>cons_last_month</th>\n",
       "      <th>forecast_cons_12m</th>\n",
       "      <th>forecast_meter_rent_12m</th>\n",
       "      <th>forecast_price_energy_p2</th>\n",
       "      <th>forecast_price_pow_p1</th>\n",
       "      <th>imp_cons</th>\n",
       "      <th>margin_gross_pow_ele</th>\n",
       "      <th>...</th>\n",
       "      <th>channel_sales_foos</th>\n",
       "      <th>channel_sales_lmke</th>\n",
       "      <th>channel_sales_sddi</th>\n",
       "      <th>channel_sales_usil</th>\n",
       "      <th>has_gas_t</th>\n",
       "      <th>origin_up_ewxeelce</th>\n",
       "      <th>origin_up_kamkkxfx</th>\n",
       "      <th>origin_up_ldkssxwp</th>\n",
       "      <th>origin_up_lxidpidd</th>\n",
       "      <th>origin_up_usapbepc</th>\n",
       "    </tr>\n",
       "  </thead>\n",
       "  <tbody>\n",
       "    <tr>\n",
       "      <th>0</th>\n",
       "      <td>48ada52261e7cf58715202705a0451c9</td>\n",
       "      <td>12.641989</td>\n",
       "      <td>0.000000</td>\n",
       "      <td>9.212937</td>\n",
       "      <td>10.185703</td>\n",
       "      <td>5.886909</td>\n",
       "      <td>0.088347</td>\n",
       "      <td>58.995952</td>\n",
       "      <td>6.724794</td>\n",
       "      <td>NaN</td>\n",
       "      <td>...</td>\n",
       "      <td>0</td>\n",
       "      <td>1</td>\n",
       "      <td>0</td>\n",
       "      <td>0</td>\n",
       "      <td>0</td>\n",
       "      <td>0</td>\n",
       "      <td>0</td>\n",
       "      <td>1</td>\n",
       "      <td>0</td>\n",
       "      <td>0</td>\n",
       "    </tr>\n",
       "    <tr>\n",
       "      <th>1</th>\n",
       "      <td>24011ae4ebbe3035111d65fa7c15bc57</td>\n",
       "      <td>0.000000</td>\n",
       "      <td>10.914124</td>\n",
       "      <td>0.000000</td>\n",
       "      <td>0.000000</td>\n",
       "      <td>1.022451</td>\n",
       "      <td>0.098142</td>\n",
       "      <td>40.606701</td>\n",
       "      <td>0.000000</td>\n",
       "      <td>3.274878</td>\n",
       "      <td>...</td>\n",
       "      <td>1</td>\n",
       "      <td>0</td>\n",
       "      <td>0</td>\n",
       "      <td>0</td>\n",
       "      <td>1</td>\n",
       "      <td>0</td>\n",
       "      <td>0</td>\n",
       "      <td>0</td>\n",
       "      <td>1</td>\n",
       "      <td>0</td>\n",
       "    </tr>\n",
       "  </tbody>\n",
       "</table>\n",
       "<p>2 rows × 29 columns</p>\n",
       "</div>"
      ],
      "text/plain": [
       "                                 id   cons_12m  cons_gas_12m  cons_last_month  \\\n",
       "0  48ada52261e7cf58715202705a0451c9  12.641989      0.000000         9.212937   \n",
       "1  24011ae4ebbe3035111d65fa7c15bc57   0.000000     10.914124         0.000000   \n",
       "\n",
       "   forecast_cons_12m  forecast_meter_rent_12m  forecast_price_energy_p2  \\\n",
       "0          10.185703                 5.886909                  0.088347   \n",
       "1           0.000000                 1.022451                  0.098142   \n",
       "\n",
       "   forecast_price_pow_p1  imp_cons  margin_gross_pow_ele  ...  \\\n",
       "0              58.995952  6.724794                   NaN  ...   \n",
       "1              40.606701  0.000000              3.274878  ...   \n",
       "\n",
       "   channel_sales_foos  channel_sales_lmke  channel_sales_sddi  \\\n",
       "0                   0                   1                   0   \n",
       "1                   1                   0                   0   \n",
       "\n",
       "   channel_sales_usil  has_gas_t  origin_up_ewxeelce  origin_up_kamkkxfx  \\\n",
       "0                   0          0                   0                   0   \n",
       "1                   0          1                   0                   0   \n",
       "\n",
       "   origin_up_ldkssxwp  origin_up_lxidpidd  origin_up_usapbepc  \n",
       "0                   1                   0                   0  \n",
       "1                   0                   1                   0  \n",
       "\n",
       "[2 rows x 29 columns]"
      ]
     },
     "execution_count": 5,
     "metadata": {},
     "output_type": "execute_result"
    }
   ],
   "source": [
    "my_data.head(2)"
   ]
  },
  {
   "cell_type": "code",
   "execution_count": 6,
   "id": "8e042b81",
   "metadata": {},
   "outputs": [
    {
     "data": {
      "text/html": [
       "<div>\n",
       "<style scoped>\n",
       "    .dataframe tbody tr th:only-of-type {\n",
       "        vertical-align: middle;\n",
       "    }\n",
       "\n",
       "    .dataframe tbody tr th {\n",
       "        vertical-align: top;\n",
       "    }\n",
       "\n",
       "    .dataframe thead th {\n",
       "        text-align: right;\n",
       "    }\n",
       "</style>\n",
       "<table border=\"1\" class=\"dataframe\">\n",
       "  <thead>\n",
       "    <tr style=\"text-align: right;\">\n",
       "      <th></th>\n",
       "      <th>id</th>\n",
       "      <th>mean_year_price_p2_var</th>\n",
       "      <th>mean_year_price_p3_var</th>\n",
       "      <th>mean_year_price_p1_fix</th>\n",
       "      <th>mean_year_price_p2_fix</th>\n",
       "      <th>mean_year_price_p3_fix</th>\n",
       "      <th>mean_year_price_p1</th>\n",
       "      <th>mean_year_price_p2</th>\n",
       "      <th>mean_year_price_p3</th>\n",
       "    </tr>\n",
       "  </thead>\n",
       "  <tbody>\n",
       "    <tr>\n",
       "      <th>0</th>\n",
       "      <td>0002203ffbb812588b632b9e628cc38d</td>\n",
       "      <td>0.103794</td>\n",
       "      <td>0.07316</td>\n",
       "      <td>40.701732</td>\n",
       "      <td>24.421038</td>\n",
       "      <td>16.280694</td>\n",
       "      <td>40.826071</td>\n",
       "      <td>24.524832</td>\n",
       "      <td>16.353854</td>\n",
       "    </tr>\n",
       "    <tr>\n",
       "      <th>1</th>\n",
       "      <td>0004351ebdd665e6ee664792efc4fd13</td>\n",
       "      <td>0.000000</td>\n",
       "      <td>0.00000</td>\n",
       "      <td>44.385450</td>\n",
       "      <td>0.000000</td>\n",
       "      <td>0.000000</td>\n",
       "      <td>44.531877</td>\n",
       "      <td>0.000000</td>\n",
       "      <td>0.000000</td>\n",
       "    </tr>\n",
       "  </tbody>\n",
       "</table>\n",
       "</div>"
      ],
      "text/plain": [
       "                                 id  mean_year_price_p2_var  \\\n",
       "0  0002203ffbb812588b632b9e628cc38d                0.103794   \n",
       "1  0004351ebdd665e6ee664792efc4fd13                0.000000   \n",
       "\n",
       "   mean_year_price_p3_var  mean_year_price_p1_fix  mean_year_price_p2_fix  \\\n",
       "0                 0.07316               40.701732               24.421038   \n",
       "1                 0.00000               44.385450                0.000000   \n",
       "\n",
       "   mean_year_price_p3_fix  mean_year_price_p1  mean_year_price_p2  \\\n",
       "0               16.280694           40.826071           24.524832   \n",
       "1                0.000000           44.531877            0.000000   \n",
       "\n",
       "   mean_year_price_p3  \n",
       "0           16.353854  \n",
       "1            0.000000  "
      ]
     },
     "execution_count": 6,
     "metadata": {},
     "output_type": "execute_result"
    }
   ],
   "source": [
    "hist_data.head(2)"
   ]
  },
  {
   "cell_type": "code",
   "execution_count": 7,
   "id": "38fcd70c",
   "metadata": {},
   "outputs": [],
   "source": [
    "train_data = pd.merge(my_data, hist_data, on ='id')"
   ]
  },
  {
   "cell_type": "code",
   "execution_count": 8,
   "id": "cd4cff89",
   "metadata": {},
   "outputs": [
    {
     "data": {
      "text/html": [
       "<div>\n",
       "<style scoped>\n",
       "    .dataframe tbody tr th:only-of-type {\n",
       "        vertical-align: middle;\n",
       "    }\n",
       "\n",
       "    .dataframe tbody tr th {\n",
       "        vertical-align: top;\n",
       "    }\n",
       "\n",
       "    .dataframe thead th {\n",
       "        text-align: right;\n",
       "    }\n",
       "</style>\n",
       "<table border=\"1\" class=\"dataframe\">\n",
       "  <thead>\n",
       "    <tr style=\"text-align: right;\">\n",
       "      <th></th>\n",
       "      <th>DataFrame Columns</th>\n",
       "    </tr>\n",
       "  </thead>\n",
       "  <tbody>\n",
       "    <tr>\n",
       "      <th>0</th>\n",
       "      <td>id</td>\n",
       "    </tr>\n",
       "    <tr>\n",
       "      <th>1</th>\n",
       "      <td>cons_12m</td>\n",
       "    </tr>\n",
       "    <tr>\n",
       "      <th>2</th>\n",
       "      <td>cons_gas_12m</td>\n",
       "    </tr>\n",
       "    <tr>\n",
       "      <th>3</th>\n",
       "      <td>cons_last_month</td>\n",
       "    </tr>\n",
       "    <tr>\n",
       "      <th>4</th>\n",
       "      <td>forecast_cons_12m</td>\n",
       "    </tr>\n",
       "    <tr>\n",
       "      <th>5</th>\n",
       "      <td>forecast_meter_rent_12m</td>\n",
       "    </tr>\n",
       "    <tr>\n",
       "      <th>6</th>\n",
       "      <td>forecast_price_energy_p2</td>\n",
       "    </tr>\n",
       "    <tr>\n",
       "      <th>7</th>\n",
       "      <td>forecast_price_pow_p1</td>\n",
       "    </tr>\n",
       "    <tr>\n",
       "      <th>8</th>\n",
       "      <td>imp_cons</td>\n",
       "    </tr>\n",
       "    <tr>\n",
       "      <th>9</th>\n",
       "      <td>margin_gross_pow_ele</td>\n",
       "    </tr>\n",
       "    <tr>\n",
       "      <th>10</th>\n",
       "      <td>margin_net_pow_ele</td>\n",
       "    </tr>\n",
       "    <tr>\n",
       "      <th>11</th>\n",
       "      <td>nb_prod_act</td>\n",
       "    </tr>\n",
       "    <tr>\n",
       "      <th>12</th>\n",
       "      <td>net_margin</td>\n",
       "    </tr>\n",
       "    <tr>\n",
       "      <th>13</th>\n",
       "      <td>num_years_antig</td>\n",
       "    </tr>\n",
       "    <tr>\n",
       "      <th>14</th>\n",
       "      <td>pow_max</td>\n",
       "    </tr>\n",
       "    <tr>\n",
       "      <th>15</th>\n",
       "      <td>churn</td>\n",
       "    </tr>\n",
       "    <tr>\n",
       "      <th>16</th>\n",
       "      <td>channel_sales_epum</td>\n",
       "    </tr>\n",
       "    <tr>\n",
       "      <th>17</th>\n",
       "      <td>channel_sales_ewpa</td>\n",
       "    </tr>\n",
       "    <tr>\n",
       "      <th>18</th>\n",
       "      <td>channel_sales_fixd</td>\n",
       "    </tr>\n",
       "    <tr>\n",
       "      <th>19</th>\n",
       "      <td>channel_sales_foos</td>\n",
       "    </tr>\n",
       "    <tr>\n",
       "      <th>20</th>\n",
       "      <td>channel_sales_lmke</td>\n",
       "    </tr>\n",
       "    <tr>\n",
       "      <th>21</th>\n",
       "      <td>channel_sales_sddi</td>\n",
       "    </tr>\n",
       "    <tr>\n",
       "      <th>22</th>\n",
       "      <td>channel_sales_usil</td>\n",
       "    </tr>\n",
       "    <tr>\n",
       "      <th>23</th>\n",
       "      <td>has_gas_t</td>\n",
       "    </tr>\n",
       "    <tr>\n",
       "      <th>24</th>\n",
       "      <td>origin_up_ewxeelce</td>\n",
       "    </tr>\n",
       "    <tr>\n",
       "      <th>25</th>\n",
       "      <td>origin_up_kamkkxfx</td>\n",
       "    </tr>\n",
       "    <tr>\n",
       "      <th>26</th>\n",
       "      <td>origin_up_ldkssxwp</td>\n",
       "    </tr>\n",
       "    <tr>\n",
       "      <th>27</th>\n",
       "      <td>origin_up_lxidpidd</td>\n",
       "    </tr>\n",
       "    <tr>\n",
       "      <th>28</th>\n",
       "      <td>origin_up_usapbepc</td>\n",
       "    </tr>\n",
       "    <tr>\n",
       "      <th>29</th>\n",
       "      <td>mean_year_price_p2_var</td>\n",
       "    </tr>\n",
       "    <tr>\n",
       "      <th>30</th>\n",
       "      <td>mean_year_price_p3_var</td>\n",
       "    </tr>\n",
       "    <tr>\n",
       "      <th>31</th>\n",
       "      <td>mean_year_price_p1_fix</td>\n",
       "    </tr>\n",
       "    <tr>\n",
       "      <th>32</th>\n",
       "      <td>mean_year_price_p2_fix</td>\n",
       "    </tr>\n",
       "    <tr>\n",
       "      <th>33</th>\n",
       "      <td>mean_year_price_p3_fix</td>\n",
       "    </tr>\n",
       "    <tr>\n",
       "      <th>34</th>\n",
       "      <td>mean_year_price_p1</td>\n",
       "    </tr>\n",
       "    <tr>\n",
       "      <th>35</th>\n",
       "      <td>mean_year_price_p2</td>\n",
       "    </tr>\n",
       "    <tr>\n",
       "      <th>36</th>\n",
       "      <td>mean_year_price_p3</td>\n",
       "    </tr>\n",
       "  </tbody>\n",
       "</table>\n",
       "</div>"
      ],
      "text/plain": [
       "           DataFrame Columns\n",
       "0                         id\n",
       "1                   cons_12m\n",
       "2               cons_gas_12m\n",
       "3            cons_last_month\n",
       "4          forecast_cons_12m\n",
       "5    forecast_meter_rent_12m\n",
       "6   forecast_price_energy_p2\n",
       "7      forecast_price_pow_p1\n",
       "8                   imp_cons\n",
       "9       margin_gross_pow_ele\n",
       "10        margin_net_pow_ele\n",
       "11               nb_prod_act\n",
       "12                net_margin\n",
       "13           num_years_antig\n",
       "14                   pow_max\n",
       "15                     churn\n",
       "16        channel_sales_epum\n",
       "17        channel_sales_ewpa\n",
       "18        channel_sales_fixd\n",
       "19        channel_sales_foos\n",
       "20        channel_sales_lmke\n",
       "21        channel_sales_sddi\n",
       "22        channel_sales_usil\n",
       "23                 has_gas_t\n",
       "24        origin_up_ewxeelce\n",
       "25        origin_up_kamkkxfx\n",
       "26        origin_up_ldkssxwp\n",
       "27        origin_up_lxidpidd\n",
       "28        origin_up_usapbepc\n",
       "29    mean_year_price_p2_var\n",
       "30    mean_year_price_p3_var\n",
       "31    mean_year_price_p1_fix\n",
       "32    mean_year_price_p2_fix\n",
       "33    mean_year_price_p3_fix\n",
       "34        mean_year_price_p1\n",
       "35        mean_year_price_p2\n",
       "36        mean_year_price_p3"
      ]
     },
     "execution_count": 8,
     "metadata": {},
     "output_type": "execute_result"
    }
   ],
   "source": [
    "pd.DataFrame({'DataFrame Columns': train_data.columns})"
   ]
  },
  {
   "cell_type": "code",
   "execution_count": 9,
   "id": "e9c58310",
   "metadata": {},
   "outputs": [
    {
     "data": {
      "text/plain": [
       "id                             0\n",
       "cons_12m                      27\n",
       "cons_gas_12m                   5\n",
       "cons_last_month               45\n",
       "forecast_cons_12m             39\n",
       "forecast_meter_rent_12m        3\n",
       "forecast_price_energy_p2       0\n",
       "forecast_price_pow_p1          0\n",
       "imp_cons                      26\n",
       "margin_gross_pow_ele        1049\n",
       "margin_net_pow_ele             0\n",
       "nb_prod_act                    0\n",
       "net_margin                     0\n",
       "num_years_antig                0\n",
       "pow_max                        0\n",
       "churn                          0\n",
       "channel_sales_epum             0\n",
       "channel_sales_ewpa             0\n",
       "channel_sales_fixd             0\n",
       "channel_sales_foos             0\n",
       "channel_sales_lmke             0\n",
       "channel_sales_sddi             0\n",
       "channel_sales_usil             0\n",
       "has_gas_t                      0\n",
       "origin_up_ewxeelce             0\n",
       "origin_up_kamkkxfx             0\n",
       "origin_up_ldkssxwp             0\n",
       "origin_up_lxidpidd             0\n",
       "origin_up_usapbepc             0\n",
       "mean_year_price_p2_var         0\n",
       "mean_year_price_p3_var         0\n",
       "mean_year_price_p1_fix         0\n",
       "mean_year_price_p2_fix         0\n",
       "mean_year_price_p3_fix         0\n",
       "mean_year_price_p1             0\n",
       "mean_year_price_p2             0\n",
       "mean_year_price_p3             0\n",
       "dtype: int64"
      ]
     },
     "execution_count": 9,
     "metadata": {},
     "output_type": "execute_result"
    }
   ],
   "source": [
    "train_data.isna().sum()"
   ]
  },
  {
   "cell_type": "code",
   "execution_count": 26,
   "id": "23b9532a",
   "metadata": {
    "scrolled": true
   },
   "outputs": [],
   "source": [
    "train_data.fillna(train_data.mean(), inplace = True)"
   ]
  },
  {
   "cell_type": "code",
   "execution_count": 33,
   "id": "7fca67ee",
   "metadata": {},
   "outputs": [
    {
     "data": {
      "text/plain": [
       "id                          0\n",
       "cons_12m                    0\n",
       "cons_gas_12m                0\n",
       "cons_last_month             0\n",
       "forecast_cons_12m           0\n",
       "forecast_meter_rent_12m     0\n",
       "forecast_price_energy_p2    0\n",
       "forecast_price_pow_p1       0\n",
       "imp_cons                    0\n",
       "margin_gross_pow_ele        0\n",
       "margin_net_pow_ele          0\n",
       "nb_prod_act                 0\n",
       "net_margin                  0\n",
       "num_years_antig             0\n",
       "pow_max                     0\n",
       "churn                       0\n",
       "channel_sales_epum          0\n",
       "channel_sales_ewpa          0\n",
       "channel_sales_fixd          0\n",
       "channel_sales_foos          0\n",
       "channel_sales_lmke          0\n",
       "channel_sales_sddi          0\n",
       "channel_sales_usil          0\n",
       "has_gas_t                   0\n",
       "origin_up_ewxeelce          0\n",
       "origin_up_kamkkxfx          0\n",
       "origin_up_ldkssxwp          0\n",
       "origin_up_lxidpidd          0\n",
       "origin_up_usapbepc          0\n",
       "mean_year_price_p2_var      0\n",
       "mean_year_price_p3_var      0\n",
       "mean_year_price_p1_fix      0\n",
       "mean_year_price_p2_fix      0\n",
       "mean_year_price_p3_fix      0\n",
       "mean_year_price_p1          0\n",
       "mean_year_price_p2          0\n",
       "mean_year_price_p3          0\n",
       "dtype: int64"
      ]
     },
     "execution_count": 33,
     "metadata": {},
     "output_type": "execute_result"
    }
   ],
   "source": [
    "train_data.isna().sum()"
   ]
  },
  {
   "cell_type": "code",
   "execution_count": 28,
   "id": "bdb0351e",
   "metadata": {},
   "outputs": [
    {
     "data": {
      "text/plain": [
       "Index(['id', 'cons_12m', 'cons_gas_12m', 'cons_last_month',\n",
       "       'forecast_cons_12m', 'forecast_meter_rent_12m',\n",
       "       'forecast_price_energy_p2', 'forecast_price_pow_p1', 'imp_cons',\n",
       "       'margin_gross_pow_ele', 'margin_net_pow_ele', 'nb_prod_act',\n",
       "       'net_margin', 'num_years_antig', 'pow_max', 'churn',\n",
       "       'channel_sales_epum', 'channel_sales_ewpa', 'channel_sales_fixd',\n",
       "       'channel_sales_foos', 'channel_sales_lmke', 'channel_sales_sddi',\n",
       "       'channel_sales_usil', 'has_gas_t', 'origin_up_ewxeelce',\n",
       "       'origin_up_kamkkxfx', 'origin_up_ldkssxwp', 'origin_up_lxidpidd',\n",
       "       'origin_up_usapbepc', 'mean_year_price_p2_var',\n",
       "       'mean_year_price_p3_var', 'mean_year_price_p1_fix',\n",
       "       'mean_year_price_p2_fix', 'mean_year_price_p3_fix',\n",
       "       'mean_year_price_p1', 'mean_year_price_p2', 'mean_year_price_p3'],\n",
       "      dtype='object')"
      ]
     },
     "execution_count": 28,
     "metadata": {},
     "output_type": "execute_result"
    }
   ],
   "source": [
    "train_data.columns"
   ]
  },
  {
   "cell_type": "code",
   "execution_count": 12,
   "id": "3ae47af5",
   "metadata": {},
   "outputs": [],
   "source": [
    "y = train_data[['churn']]"
   ]
  },
  {
   "cell_type": "code",
   "execution_count": 13,
   "id": "42567307",
   "metadata": {},
   "outputs": [],
   "source": [
    "X = train_data.drop(labels = ['id', 'churn'], axis =1)"
   ]
  },
  {
   "cell_type": "code",
   "execution_count": 40,
   "id": "947f42fb",
   "metadata": {},
   "outputs": [],
   "source": [
    "#X.fillna(X.mean(), inplace =True)\n",
    "#X.isna().sum()"
   ]
  },
  {
   "cell_type": "markdown",
   "id": "e10c8c9b",
   "metadata": {},
   "source": [
    "### Modeling by Logistic Regression"
   ]
  },
  {
   "cell_type": "code",
   "execution_count": 30,
   "id": "5c33701d",
   "metadata": {},
   "outputs": [],
   "source": [
    "from sklearn.model_selection import train_test_split\n",
    "from sklearn.linear_model import LogisticRegression"
   ]
  },
  {
   "cell_type": "code",
   "execution_count": 70,
   "id": "a7a8c392",
   "metadata": {
    "scrolled": true
   },
   "outputs": [
    {
     "name": "stdout",
     "output_type": "stream",
     "text": [
      "Accuracy:0.90\n"
     ]
    },
    {
     "name": "stderr",
     "output_type": "stream",
     "text": [
      "C:\\Users\\Guoli\\anaconda3\\lib\\site-packages\\sklearn\\utils\\validation.py:63: DataConversionWarning: A column-vector y was passed when a 1d array was expected. Please change the shape of y to (n_samples, ), for example using ravel().\n",
      "  return f(*args, **kwargs)\n",
      "C:\\Users\\Guoli\\anaconda3\\lib\\site-packages\\sklearn\\linear_model\\_logistic.py:763: ConvergenceWarning: lbfgs failed to converge (status=1):\n",
      "STOP: TOTAL NO. of ITERATIONS REACHED LIMIT.\n",
      "\n",
      "Increase the number of iterations (max_iter) or scale the data as shown in:\n",
      "    https://scikit-learn.org/stable/modules/preprocessing.html\n",
      "Please also refer to the documentation for alternative solver options:\n",
      "    https://scikit-learn.org/stable/modules/linear_model.html#logistic-regression\n",
      "  n_iter_i = _check_optimize_result(\n"
     ]
    }
   ],
   "source": [
    "X_train, X_test, y_train, y_test = train_test_split(X, y,test_size =0.25, random_state =42)\n",
    "logreg = LogisticRegression()\n",
    "logreg.fit(X_train, y_train)\n",
    "print('Accuracy:{:.2f}'.format(logreg.score(X_test, y_test)))"
   ]
  },
  {
   "cell_type": "code",
   "execution_count": 55,
   "id": "204a3f61",
   "metadata": {},
   "outputs": [
    {
     "data": {
      "text/html": [
       "<div>\n",
       "<style scoped>\n",
       "    .dataframe tbody tr th:only-of-type {\n",
       "        vertical-align: middle;\n",
       "    }\n",
       "\n",
       "    .dataframe tbody tr th {\n",
       "        vertical-align: top;\n",
       "    }\n",
       "\n",
       "    .dataframe thead th {\n",
       "        text-align: right;\n",
       "    }\n",
       "</style>\n",
       "<table border=\"1\" class=\"dataframe\">\n",
       "  <thead>\n",
       "    <tr style=\"text-align: right;\">\n",
       "      <th></th>\n",
       "      <th>0</th>\n",
       "    </tr>\n",
       "  </thead>\n",
       "  <tbody>\n",
       "    <tr>\n",
       "      <th>0</th>\n",
       "      <td>0</td>\n",
       "    </tr>\n",
       "    <tr>\n",
       "      <th>1</th>\n",
       "      <td>0</td>\n",
       "    </tr>\n",
       "    <tr>\n",
       "      <th>2</th>\n",
       "      <td>0</td>\n",
       "    </tr>\n",
       "    <tr>\n",
       "      <th>3</th>\n",
       "      <td>0</td>\n",
       "    </tr>\n",
       "    <tr>\n",
       "      <th>4</th>\n",
       "      <td>0</td>\n",
       "    </tr>\n",
       "    <tr>\n",
       "      <th>...</th>\n",
       "      <td>...</td>\n",
       "    </tr>\n",
       "    <tr>\n",
       "      <th>3954</th>\n",
       "      <td>0</td>\n",
       "    </tr>\n",
       "    <tr>\n",
       "      <th>3955</th>\n",
       "      <td>0</td>\n",
       "    </tr>\n",
       "    <tr>\n",
       "      <th>3956</th>\n",
       "      <td>0</td>\n",
       "    </tr>\n",
       "    <tr>\n",
       "      <th>3957</th>\n",
       "      <td>0</td>\n",
       "    </tr>\n",
       "    <tr>\n",
       "      <th>3958</th>\n",
       "      <td>0</td>\n",
       "    </tr>\n",
       "  </tbody>\n",
       "</table>\n",
       "<p>3959 rows × 1 columns</p>\n",
       "</div>"
      ],
      "text/plain": [
       "      0\n",
       "0     0\n",
       "1     0\n",
       "2     0\n",
       "3     0\n",
       "4     0\n",
       "...  ..\n",
       "3954  0\n",
       "3955  0\n",
       "3956  0\n",
       "3957  0\n",
       "3958  0\n",
       "\n",
       "[3959 rows x 1 columns]"
      ]
     },
     "execution_count": 55,
     "metadata": {},
     "output_type": "execute_result"
    }
   ],
   "source": [
    "pd.DataFrame(logreg.predict(X_test))"
   ]
  },
  {
   "cell_type": "code",
   "execution_count": 54,
   "id": "2a9e3cbb",
   "metadata": {},
   "outputs": [
    {
     "data": {
      "text/html": [
       "<div>\n",
       "<style scoped>\n",
       "    .dataframe tbody tr th:only-of-type {\n",
       "        vertical-align: middle;\n",
       "    }\n",
       "\n",
       "    .dataframe tbody tr th {\n",
       "        vertical-align: top;\n",
       "    }\n",
       "\n",
       "    .dataframe thead th {\n",
       "        text-align: right;\n",
       "    }\n",
       "</style>\n",
       "<table border=\"1\" class=\"dataframe\">\n",
       "  <thead>\n",
       "    <tr style=\"text-align: right;\">\n",
       "      <th></th>\n",
       "      <th>churn</th>\n",
       "    </tr>\n",
       "  </thead>\n",
       "  <tbody>\n",
       "    <tr>\n",
       "      <th>13342</th>\n",
       "      <td>0</td>\n",
       "    </tr>\n",
       "    <tr>\n",
       "      <th>169</th>\n",
       "      <td>0</td>\n",
       "    </tr>\n",
       "    <tr>\n",
       "      <th>2099</th>\n",
       "      <td>0</td>\n",
       "    </tr>\n",
       "    <tr>\n",
       "      <th>4948</th>\n",
       "      <td>0</td>\n",
       "    </tr>\n",
       "    <tr>\n",
       "      <th>5771</th>\n",
       "      <td>0</td>\n",
       "    </tr>\n",
       "    <tr>\n",
       "      <th>...</th>\n",
       "      <td>...</td>\n",
       "    </tr>\n",
       "    <tr>\n",
       "      <th>10918</th>\n",
       "      <td>0</td>\n",
       "    </tr>\n",
       "    <tr>\n",
       "      <th>5133</th>\n",
       "      <td>0</td>\n",
       "    </tr>\n",
       "    <tr>\n",
       "      <th>8126</th>\n",
       "      <td>0</td>\n",
       "    </tr>\n",
       "    <tr>\n",
       "      <th>6700</th>\n",
       "      <td>0</td>\n",
       "    </tr>\n",
       "    <tr>\n",
       "      <th>3405</th>\n",
       "      <td>0</td>\n",
       "    </tr>\n",
       "  </tbody>\n",
       "</table>\n",
       "<p>3959 rows × 1 columns</p>\n",
       "</div>"
      ],
      "text/plain": [
       "       churn\n",
       "13342      0\n",
       "169        0\n",
       "2099       0\n",
       "4948       0\n",
       "5771       0\n",
       "...      ...\n",
       "10918      0\n",
       "5133       0\n",
       "8126       0\n",
       "6700       0\n",
       "3405       0\n",
       "\n",
       "[3959 rows x 1 columns]"
      ]
     },
     "execution_count": 54,
     "metadata": {},
     "output_type": "execute_result"
    }
   ],
   "source": [
    "y_test"
   ]
  },
  {
   "cell_type": "markdown",
   "id": "518206c5",
   "metadata": {},
   "source": [
    "### Moledling by Gradient Boosted regression tree"
   ]
  },
  {
   "cell_type": "code",
   "execution_count": 56,
   "id": "e05cddd2",
   "metadata": {},
   "outputs": [],
   "source": [
    "from sklearn.ensemble import GradientBoostingClassifier"
   ]
  },
  {
   "cell_type": "code",
   "execution_count": 69,
   "id": "29a58783",
   "metadata": {},
   "outputs": [
    {
     "name": "stderr",
     "output_type": "stream",
     "text": [
      "C:\\Users\\Guoli\\anaconda3\\lib\\site-packages\\sklearn\\utils\\validation.py:63: DataConversionWarning: A column-vector y was passed when a 1d array was expected. Please change the shape of y to (n_samples, ), for example using ravel().\n",
      "  return f(*args, **kwargs)\n"
     ]
    },
    {
     "name": "stdout",
     "output_type": "stream",
     "text": [
      "Accuracy:0.90\n"
     ]
    }
   ],
   "source": [
    "X_train, X_test, y_train, y_test = train_test_split(X, y,test_size =0.25, random_state =0)\n",
    "gbrt = GradientBoostingClassifier(random_state =0, max_depth =1)\n",
    "gbrt.fit(X_train, y_train)\n",
    "print('Accuracy:{:.2f}'.format(gbrt.score(X_test, y_test)))"
   ]
  },
  {
   "cell_type": "code",
   "execution_count": 136,
   "id": "6dfce7fc",
   "metadata": {},
   "outputs": [],
   "source": [
    "def plot_feature_importances_X(model):\n",
    "    n_features = X.shape[1]\n",
    "    plt.barh(range(n_features), model.feature_importances_, align = 'center')\n",
    "    plt.yticks(np.arange(n_features), X.columns)\n",
    "    plt.xlabel('Feature Importance')\n",
    "    plt.ylabel('Feature')\n",
    "    plt.ylim(-1,n_features)\n",
    "    #figure(figsize=(20,10), dpi=80)"
   ]
  },
  {
   "cell_type": "code",
   "execution_count": 137,
   "id": "f3219fc5",
   "metadata": {
    "scrolled": true
   },
   "outputs": [
    {
     "data": {
      "image/png": "[encoded data removed]",
      "text/plain": [
       "<Figure size 432x288 with 1 Axes>"
      ]
     },
     "metadata": {},
     "output_type": "display_data"
    }
   ],
   "source": [
    "plot_feature_importances_X(gbrt)"
   ]
  },
  {
   "cell_type": "markdown",
   "id": "2f404903",
   "metadata": {},
   "source": [
    "As we can see that 'margin_gross_pow_ele' and  'margin_net_pow_ele' are the most informative features overall."
   ]
  },
  {
   "cell_type": "markdown",
   "id": "35433a77",
   "metadata": {},
   "source": [
    "### Modeling by XGBClassifier"
   ]
  },
  {
   "cell_type": "code",
   "execution_count": 72,
   "id": "dfc00d57",
   "metadata": {},
   "outputs": [],
   "source": [
    "import xgboost as xgb\n",
    "from sklearn.model_selection import StratifiedKFold\n",
    "from sklearn import metrics"
   ]
  },
  {
   "cell_type": "code",
   "execution_count": 73,
   "id": "361dcf11",
   "metadata": {},
   "outputs": [
    {
     "name": "stderr",
     "output_type": "stream",
     "text": [
      "C:\\Users\\Guoli\\anaconda3\\lib\\site-packages\\xgboost\\sklearn.py:1224: UserWarning: The use of label encoder in XGBClassifier is deprecated and will be removed in a future release. To remove this warning, do the following: 1) Pass option use_label_encoder=False when constructing XGBClassifier object; and 2) Encode your labels (y) as integers starting with 0, i.e. 0, 1, 2, ..., [num_class - 1].\n",
      "  warnings.warn(label_encoder_deprecation_msg, UserWarning)\n",
      "C:\\Users\\Guoli\\anaconda3\\lib\\site-packages\\sklearn\\utils\\validation.py:63: DataConversionWarning: A column-vector y was passed when a 1d array was expected. Please change the shape of y to (n_samples, ), for example using ravel().\n",
      "  return f(*args, **kwargs)\n"
     ]
    },
    {
     "name": "stdout",
     "output_type": "stream",
     "text": [
      "[19:48:26] WARNING: C:/Users/Administrator/workspace/xgboost-win64_release_1.5.0/src/learner.cc:1115: Starting in XGBoost 1.3.0, the default evaluation metric used with the objective 'binary:logistic' was changed from 'error' to 'logloss'. Explicitly set eval_metric if you'd like to restore the old behavior.\n"
     ]
    }
   ],
   "source": [
    "model = xgb.XGBClassifier(learning_rate = 0.1, max_depth = 6, n_estimators = 500, n_jobs =-1)\n",
    "train_results = model.fit(X_train, y_train)\n"
   ]
  },
  {
   "cell_type": "code",
   "execution_count": 74,
   "id": "bee4b1b6",
   "metadata": {},
   "outputs": [],
   "source": [
    "pred_result = model.predict(X_test)"
   ]
  },
  {
   "cell_type": "code",
   "execution_count": 76,
   "id": "d2010bc6",
   "metadata": {},
   "outputs": [
    {
     "name": "stdout",
     "output_type": "stream",
     "text": [
      "Accuracy:0.903\n"
     ]
    }
   ],
   "source": [
    "print('Accuracy:{:.3f}'.format(metrics.accuracy_score(y_test, pred_result)))"
   ]
  },
  {
   "cell_type": "code",
   "execution_count": 77,
   "id": "4d925b12",
   "metadata": {},
   "outputs": [
    {
     "name": "stdout",
     "output_type": "stream",
     "text": [
      "Precision:0.656\n"
     ]
    }
   ],
   "source": [
    "#Precision : The ratio of correctly predicted positive observations to the total predicted positive observations\n",
    "print('Precision:{:.3f}'.format(metrics.precision_score(y_test, pred_result)))"
   ]
  },
  {
   "cell_type": "code",
   "execution_count": 80,
   "id": "7b2d7f5c",
   "metadata": {},
   "outputs": [
    {
     "name": "stdout",
     "output_type": "stream",
     "text": [
      "Recall:0.099\n"
     ]
    }
   ],
   "source": [
    "#Recall (Sensitivity): The ratio of correctly predicted positive observations to the all observations in actual class\n",
    "print('Recall:{:.3f}'.format(metrics.recall_score(y_test, pred_result)))"
   ]
  },
  {
   "cell_type": "code",
   "execution_count": 85,
   "id": "01db6fac",
   "metadata": {},
   "outputs": [
    {
     "data": {
      "text/html": [
       "<div>\n",
       "<style scoped>\n",
       "    .dataframe tbody tr th:only-of-type {\n",
       "        vertical-align: middle;\n",
       "    }\n",
       "\n",
       "    .dataframe tbody tr th {\n",
       "        vertical-align: top;\n",
       "    }\n",
       "\n",
       "    .dataframe thead th {\n",
       "        text-align: right;\n",
       "    }\n",
       "</style>\n",
       "<table border=\"1\" class=\"dataframe\">\n",
       "  <thead>\n",
       "    <tr style=\"text-align: right;\">\n",
       "      <th></th>\n",
       "      <th>Accuracy</th>\n",
       "      <th>Precision</th>\n",
       "      <th>Recall</th>\n",
       "    </tr>\n",
       "  </thead>\n",
       "  <tbody>\n",
       "    <tr>\n",
       "      <th>0</th>\n",
       "      <td>0.902501</td>\n",
       "      <td>0.655738</td>\n",
       "      <td>0.098765</td>\n",
       "    </tr>\n",
       "  </tbody>\n",
       "</table>\n",
       "</div>"
      ],
      "text/plain": [
       "   Accuracy  Precision    Recall\n",
       "0  0.902501   0.655738  0.098765"
      ]
     },
     "execution_count": 85,
     "metadata": {},
     "output_type": "execute_result"
    }
   ],
   "source": [
    "pd.DataFrame({'Accuracy':[metrics.accuracy_score(y_test, pred_result)],\n",
    "            'Precision': [metrics.precision_score(y_test, pred_result)],\n",
    "            'Recall':  [metrics.recall_score(y_test, pred_result)]})"
   ]
  },
  {
   "cell_type": "markdown",
   "id": "c69f4ec0",
   "metadata": {},
   "source": [
    "### ROC-AUC \n",
    "(it tells how much model is capable of distinguishing between classes.)"
   ]
  },
  {
   "cell_type": "code",
   "execution_count": 86,
   "id": "e85684d3",
   "metadata": {},
   "outputs": [],
   "source": [
    "def calculate_roc_auc(model_, X_test_, y_test_):\n",
    "    # Get the model predictions\n",
    "    # Note that we are using the prediction for the class 1 -> churn\n",
    "    pred_result_ = model_.predict_proba(X_test_)[:,1]\n",
    "    \n",
    "    # Calculate ROC-AUC\n",
    "    fpr, tpr, thresholds = metrics.roc_curve(y_test_, pred_result_)\n",
    "    \n",
    "    # Print the evaluation metrics as pandas dataframe\n",
    "    score = pd.DataFrame({'ROC-AUC': [metrics.auc(fpr,tpr)]})\n",
    "    \n",
    "    return fpr,tpr,score\n",
    "  "
   ]
  },
  {
   "cell_type": "code",
   "execution_count": 123,
   "id": "74b9eccc",
   "metadata": {},
   "outputs": [],
   "source": [
    "def plot_roc_auc(fpr, tpr):\n",
    "    #Initialize the plot\n",
    "    fig, axes = plt.subplots(figsize=(16,10))\n",
    "    \n",
    "    #plot roc\n",
    "    roc_auc = metrics.auc(fpr,tpr)\n",
    "    axes.plot(fpr, tpr, lw = 2, alpha =0.3, label = 'AUC = %0.2f' % (roc_auc))\n",
    "    \n",
    "    # Plot the random line.\n",
    "    plt.plot([0,1], [0,1], linestyle = '--', lw =3, color = 'r', label = 'Random', alpha = 0.8)\n",
    "    axes.set_xlim([-0.05, 1.05])\n",
    "    axes.set_ylim([-0.05, 1.05])\n",
    "    axes.set_xlabel('False Positive Rate')\n",
    "    axes.set_ylabel('True Positive Rate')\n",
    "    axes.set_title('ROC-AUC')\n",
    "    axes.legend(loc='best')\n",
    "    plt.show()"
   ]
  },
  {
   "cell_type": "code",
   "execution_count": 124,
   "id": "d112fe18",
   "metadata": {},
   "outputs": [],
   "source": [
    "fpr,tpr,auc_score = calculate_roc_auc(model, X_test, y_test)"
   ]
  },
  {
   "cell_type": "code",
   "execution_count": 110,
   "id": "56a16a69",
   "metadata": {},
   "outputs": [
    {
     "data": {
      "text/html": [
       "<div>\n",
       "<style scoped>\n",
       "    .dataframe tbody tr th:only-of-type {\n",
       "        vertical-align: middle;\n",
       "    }\n",
       "\n",
       "    .dataframe tbody tr th {\n",
       "        vertical-align: top;\n",
       "    }\n",
       "\n",
       "    .dataframe thead th {\n",
       "        text-align: right;\n",
       "    }\n",
       "</style>\n",
       "<table border=\"1\" class=\"dataframe\">\n",
       "  <thead>\n",
       "    <tr style=\"text-align: right;\">\n",
       "      <th></th>\n",
       "      <th>ROC-AUC</th>\n",
       "    </tr>\n",
       "  </thead>\n",
       "  <tbody>\n",
       "    <tr>\n",
       "      <th>0</th>\n",
       "      <td>0.678371</td>\n",
       "    </tr>\n",
       "  </tbody>\n",
       "</table>\n",
       "</div>"
      ],
      "text/plain": [
       "    ROC-AUC\n",
       "0  0.678371"
      ]
     },
     "execution_count": 110,
     "metadata": {},
     "output_type": "execute_result"
    }
   ],
   "source": [
    "auc_score"
   ]
  },
  {
   "cell_type": "code",
   "execution_count": 111,
   "id": "f363b7a1",
   "metadata": {},
   "outputs": [
    {
     "data": {
      "text/html": [
       "<div>\n",
       "<style scoped>\n",
       "    .dataframe tbody tr th:only-of-type {\n",
       "        vertical-align: middle;\n",
       "    }\n",
       "\n",
       "    .dataframe tbody tr th {\n",
       "        vertical-align: top;\n",
       "    }\n",
       "\n",
       "    .dataframe thead th {\n",
       "        text-align: right;\n",
       "    }\n",
       "</style>\n",
       "<table border=\"1\" class=\"dataframe\">\n",
       "  <thead>\n",
       "    <tr style=\"text-align: right;\">\n",
       "      <th></th>\n",
       "      <th>ROC-AUC</th>\n",
       "    </tr>\n",
       "  </thead>\n",
       "  <tbody>\n",
       "    <tr>\n",
       "      <th>0</th>\n",
       "      <td>0.6731</td>\n",
       "    </tr>\n",
       "  </tbody>\n",
       "</table>\n",
       "</div>"
      ],
      "text/plain": [
       "   ROC-AUC\n",
       "0   0.6731"
      ]
     },
     "execution_count": 111,
     "metadata": {},
     "output_type": "execute_result"
    }
   ],
   "source": [
    "#Gradient Boost Regression model\n",
    "calculate_roc_auc(gbrt, X_test, y_test)[2]"
   ]
  },
  {
   "cell_type": "code",
   "execution_count": 112,
   "id": "31730f89",
   "metadata": {},
   "outputs": [
    {
     "data": {
      "text/html": [
       "<div>\n",
       "<style scoped>\n",
       "    .dataframe tbody tr th:only-of-type {\n",
       "        vertical-align: middle;\n",
       "    }\n",
       "\n",
       "    .dataframe tbody tr th {\n",
       "        vertical-align: top;\n",
       "    }\n",
       "\n",
       "    .dataframe thead th {\n",
       "        text-align: right;\n",
       "    }\n",
       "</style>\n",
       "<table border=\"1\" class=\"dataframe\">\n",
       "  <thead>\n",
       "    <tr style=\"text-align: right;\">\n",
       "      <th></th>\n",
       "      <th>ROC-AUC</th>\n",
       "    </tr>\n",
       "  </thead>\n",
       "  <tbody>\n",
       "    <tr>\n",
       "      <th>0</th>\n",
       "      <td>0.628742</td>\n",
       "    </tr>\n",
       "  </tbody>\n",
       "</table>\n",
       "</div>"
      ],
      "text/plain": [
       "    ROC-AUC\n",
       "0  0.628742"
      ]
     },
     "execution_count": 112,
     "metadata": {},
     "output_type": "execute_result"
    }
   ],
   "source": [
    "#Logistic Regression model\n",
    "calculate_roc_auc(logreg, X_test, y_test)[2]"
   ]
  },
  {
   "cell_type": "code",
   "execution_count": 113,
   "id": "e75c4536",
   "metadata": {},
   "outputs": [
    {
     "data": {
      "image/png": "[encoded data removed]",
      "text/plain": [
       "<Figure size 1152x720 with 1 Axes>"
      ]
     },
     "metadata": {},
     "output_type": "display_data"
    }
   ],
   "source": [
    "sns.set(color_codes = True)\n",
    "plot_roc_auc(fpr, tpr)"
   ]
  },
  {
   "cell_type": "code",
   "execution_count": 116,
   "id": "44d5f7e3",
   "metadata": {},
   "outputs": [],
   "source": [
    "#Create a model with the parameters found\n",
    "model_grid = xgb.XGBClassifier(objective='binary:logistic', silent=True, nthread=1)"
   ]
  },
  {
   "cell_type": "code",
   "execution_count": 140,
   "id": "9369e1a1",
   "metadata": {},
   "outputs": [
    {
     "data": {
      "text/plain": [
       "<AxesSubplot:title={'center':'Feature importance'}, xlabel='F score', ylabel='Features'>"
      ]
     },
     "execution_count": 140,
     "metadata": {},
     "output_type": "execute_result"
    },
    {
     "data": {
      "image/png": "[encoded data removed]",
      "text/plain": [
       "<Figure size 1440x2160 with 1 Axes>"
      ]
     },
     "metadata": {},
     "output_type": "display_data"
    }
   ],
   "source": [
    "fig, axx = plt.subplots(figsize = (20,30))\n",
    "xgb.plot_importance(model, ax = axx)"
   ]
  },
  {
   "cell_type": "markdown",
   "id": "dc9bac82",
   "metadata": {},
   "source": [
    "In the feature importance graph above, we can see that cons_12m and forecast_meter_rent_12m are the features that appear the most in our model. So we could infere that these two features have a significent importance in our model."
   ]
  },
  {
   "cell_type": "code",
   "execution_count": null,
   "id": "1114b74d",
   "metadata": {},
   "outputs": [],
   "source": []
  }
 ],
 "metadata": {
  "kernelspec": {
   "display_name": "Python 3",
   "language": "python",
   "name": "python3"
  },
  "language_info": {
   "codemirror_mode": {
    "name": "ipython",
    "version": 3
   },
   "file_extension": ".py",
   "mimetype": "text/x-python",
   "name": "python",
   "nbconvert_exporter": "python",
   "pygments_lexer": "ipython3",
   "version": "3.8.8"
  }
 },
 "nbformat": 4,
 "nbformat_minor": 5
}
