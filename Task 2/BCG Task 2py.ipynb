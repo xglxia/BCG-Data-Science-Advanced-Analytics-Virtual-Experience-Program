{
 "cells": [
  {
   "cell_type": "code",
   "execution_count": 2,
   "id": "2689d3c3",
   "metadata": {},
   "outputs": [],
   "source": [
    "import pandas as pd\n",
    "import numpy as np\n",
    "import matplotlib.pyplot as plt\n",
    "import seaborn as sns\n",
    "%matplotlib inline\n",
    "\n",
    "import warnings\n",
    "warnings.filterwarnings('ignore')"
   ]
  },
  {
   "cell_type": "code",
   "execution_count": 3,
   "id": "f14cfd9c",
   "metadata": {},
   "outputs": [],
   "source": [
    "data = pd.read_csv('C:/Users/Guoli/Documents/Data Science Material/Projects/BCG/Task 2/ml_case_training_data.csv')"
   ]
  },
  {
   "cell_type": "code",
   "execution_count": 4,
   "id": "ae71ab24",
   "metadata": {},
   "outputs": [
    {
     "data": {
      "text/plain": [
       "(16096, 32)"
      ]
     },
     "execution_count": 4,
     "metadata": {},
     "output_type": "execute_result"
    }
   ],
   "source": [
    "data.shape"
   ]
  },
  {
   "cell_type": "code",
   "execution_count": 5,
   "id": "4b08b27b",
   "metadata": {},
   "outputs": [
    {
     "name": "stdout",
     "output_type": "stream",
     "text": [
      "<class 'pandas.core.frame.DataFrame'>\n",
      "RangeIndex: 16096 entries, 0 to 16095\n",
      "Data columns (total 32 columns):\n",
      " #   Column                    Non-Null Count  Dtype  \n",
      "---  ------                    --------------  -----  \n",
      " 0   id                        16096 non-null  object \n",
      " 1   activity_new              6551 non-null   object \n",
      " 2   campaign_disc_ele         0 non-null      float64\n",
      " 3   channel_sales             11878 non-null  object \n",
      " 4   cons_12m                  16096 non-null  int64  \n",
      " 5   cons_gas_12m              16096 non-null  int64  \n",
      " 6   cons_last_month           16096 non-null  int64  \n",
      " 7   date_activ                16096 non-null  object \n",
      " 8   date_end                  16094 non-null  object \n",
      " 9   date_first_activ          3508 non-null   object \n",
      " 10  date_modif_prod           15939 non-null  object \n",
      " 11  date_renewal              16056 non-null  object \n",
      " 12  forecast_base_bill_ele    3508 non-null   float64\n",
      " 13  forecast_base_bill_year   3508 non-null   float64\n",
      " 14  forecast_bill_12m         3508 non-null   float64\n",
      " 15  forecast_cons             3508 non-null   float64\n",
      " 16  forecast_cons_12m         16096 non-null  float64\n",
      " 17  forecast_cons_year        16096 non-null  int64  \n",
      " 18  forecast_discount_energy  15970 non-null  float64\n",
      " 19  forecast_meter_rent_12m   16096 non-null  float64\n",
      " 20  forecast_price_energy_p1  15970 non-null  float64\n",
      " 21  forecast_price_energy_p2  15970 non-null  float64\n",
      " 22  forecast_price_pow_p1     15970 non-null  float64\n",
      " 23  has_gas                   16096 non-null  object \n",
      " 24  imp_cons                  16096 non-null  float64\n",
      " 25  margin_gross_pow_ele      16083 non-null  float64\n",
      " 26  margin_net_pow_ele        16083 non-null  float64\n",
      " 27  nb_prod_act               16096 non-null  int64  \n",
      " 28  net_margin                16081 non-null  float64\n",
      " 29  num_years_antig           16096 non-null  int64  \n",
      " 30  origin_up                 16009 non-null  object \n",
      " 31  pow_max                   16093 non-null  float64\n",
      "dtypes: float64(16), int64(6), object(10)\n",
      "memory usage: 3.9+ MB\n"
     ]
    }
   ],
   "source": [
    "data.info()"
   ]
  },
  {
   "cell_type": "code",
   "execution_count": 6,
   "id": "2e0d4cca",
   "metadata": {},
   "outputs": [],
   "source": [
    "# 'campaign_disc_ele' has all null values\n",
    "data = data.drop(['campaign_disc_ele'], axis = 1)"
   ]
  },
  {
   "cell_type": "code",
   "execution_count": 7,
   "id": "c6eed056",
   "metadata": {},
   "outputs": [
    {
     "data": {
      "text/html": [
       "<div>\n",
       "<style scoped>\n",
       "    .dataframe tbody tr th:only-of-type {\n",
       "        vertical-align: middle;\n",
       "    }\n",
       "\n",
       "    .dataframe tbody tr th {\n",
       "        vertical-align: top;\n",
       "    }\n",
       "\n",
       "    .dataframe thead th {\n",
       "        text-align: right;\n",
       "    }\n",
       "</style>\n",
       "<table border=\"1\" class=\"dataframe\">\n",
       "  <thead>\n",
       "    <tr style=\"text-align: right;\">\n",
       "      <th></th>\n",
       "      <th>id</th>\n",
       "      <th>churn</th>\n",
       "    </tr>\n",
       "  </thead>\n",
       "  <tbody>\n",
       "    <tr>\n",
       "      <th>0</th>\n",
       "      <td>48ada52261e7cf58715202705a0451c9</td>\n",
       "      <td>0</td>\n",
       "    </tr>\n",
       "    <tr>\n",
       "      <th>1</th>\n",
       "      <td>24011ae4ebbe3035111d65fa7c15bc57</td>\n",
       "      <td>1</td>\n",
       "    </tr>\n",
       "    <tr>\n",
       "      <th>2</th>\n",
       "      <td>d29c2c54acc38ff3c0614d0a653813dd</td>\n",
       "      <td>0</td>\n",
       "    </tr>\n",
       "  </tbody>\n",
       "</table>\n",
       "</div>"
      ],
      "text/plain": [
       "                                 id  churn\n",
       "0  48ada52261e7cf58715202705a0451c9      0\n",
       "1  24011ae4ebbe3035111d65fa7c15bc57      1\n",
       "2  d29c2c54acc38ff3c0614d0a653813dd      0"
      ]
     },
     "execution_count": 7,
     "metadata": {},
     "output_type": "execute_result"
    }
   ],
   "source": [
    "data_churn = pd.read_csv('C:/Users/Guoli/Documents/Data Science Material/Projects/BCG/Task 2/ml_case_training_output.csv')\n",
    "data_churn.head(3)"
   ]
  },
  {
   "cell_type": "code",
   "execution_count": 8,
   "id": "1722a9ff",
   "metadata": {},
   "outputs": [
    {
     "data": {
      "text/plain": [
       "(16096, 2)"
      ]
     },
     "execution_count": 8,
     "metadata": {},
     "output_type": "execute_result"
    }
   ],
   "source": [
    "data_churn.shape"
   ]
  },
  {
   "cell_type": "code",
   "execution_count": 9,
   "id": "0d1b5e95",
   "metadata": {},
   "outputs": [
    {
     "data": {
      "text/html": [
       "<div>\n",
       "<style scoped>\n",
       "    .dataframe tbody tr th:only-of-type {\n",
       "        vertical-align: middle;\n",
       "    }\n",
       "\n",
       "    .dataframe tbody tr th {\n",
       "        vertical-align: top;\n",
       "    }\n",
       "\n",
       "    .dataframe thead th {\n",
       "        text-align: right;\n",
       "    }\n",
       "</style>\n",
       "<table border=\"1\" class=\"dataframe\">\n",
       "  <thead>\n",
       "    <tr style=\"text-align: right;\">\n",
       "      <th></th>\n",
       "      <th>id</th>\n",
       "    </tr>\n",
       "    <tr>\n",
       "      <th>churn</th>\n",
       "      <th></th>\n",
       "    </tr>\n",
       "  </thead>\n",
       "  <tbody>\n",
       "    <tr>\n",
       "      <th>0</th>\n",
       "      <td>90.090706</td>\n",
       "    </tr>\n",
       "    <tr>\n",
       "      <th>1</th>\n",
       "      <td>9.909294</td>\n",
       "    </tr>\n",
       "  </tbody>\n",
       "</table>\n",
       "</div>"
      ],
      "text/plain": [
       "              id\n",
       "churn           \n",
       "0      90.090706\n",
       "1       9.909294"
      ]
     },
     "execution_count": 9,
     "metadata": {},
     "output_type": "execute_result"
    }
   ],
   "source": [
    "churn_total = data_churn.groupby(data_churn['churn']).count()\n",
    "churn_percentage = churn_total/churn_total.sum()*100\n",
    "churn_percentage"
   ]
  },
  {
   "cell_type": "code",
   "execution_count": 10,
   "id": "78023665",
   "metadata": {},
   "outputs": [],
   "source": [
    "def plot_stacked_bars(dataframe, title_, size_=(18, 10), rot_=0, legend_=\"upper right\"):\n",
    " \"\"\"\n",
    " Plot stacked bars with annotations\n",
    " \"\"\"\n",
    " ax = dataframe.plot(kind=\"bar\",\n",
    " stacked=True,\n",
    "figsize=size_,\n",
    "rot=rot_,\n",
    "title=title_)\n",
    " # Annotate bars\n",
    " annotate_stacked_bars(ax, textsize=14)\n",
    " # Rename legend\n",
    " plt.legend([\"Retention\", \"Churn\"], loc=legend_)\n",
    " # Labels\n",
    " plt.ylabel(\"Company base (%)\")\n",
    " plt.show()\n",
    "\n",
    "\n",
    "def annotate_stacked_bars(ax, pad=0.99, colour=\"white\", textsize=13):\n",
    "    '''\n",
    "    Add value annotations to the bars\n",
    "    '''\n",
    "    # Iterate over the plotted rectanges/bars\n",
    "    for p in ax.patches:\n",
    "        #calculate annotations\n",
    "        value = str(round(p.get_height(),1))\n",
    "        #if value is 0 donot annotate\n",
    "        if value =='0.0':\n",
    "            continue\n",
    "        ax.annotate(value,\n",
    "                    ((p.get_x()+ p.get_width()/2)*pad-0.05, (p.get_y()+p.get_height()/2)*pad),\n",
    "                    color=colour,\n",
    "                    size=textsize,\n",
    "                   )\n",
    "            \n"
   ]
  },
  {
   "cell_type": "code",
   "execution_count": 11,
   "id": "d15711cb",
   "metadata": {},
   "outputs": [
    {
     "data": {
      "image/png": "[encoded data removed]",
      "text/plain": [
       "<Figure size 360x360 with 1 Axes>"
      ]
     },
     "metadata": {
      "needs_background": "light"
     },
     "output_type": "display_data"
    }
   ],
   "source": [
    "plot_stacked_bars(churn_percentage.transpose(),\"Churning status\", (5,5), legend_=\"lower right\")\n"
   ]
  },
  {
   "cell_type": "markdown",
   "id": "633b762b",
   "metadata": {},
   "source": [
    "About 10% of the of total customers have churned."
   ]
  },
  {
   "cell_type": "code",
   "execution_count": 12,
   "id": "fdf7993b",
   "metadata": {},
   "outputs": [],
   "source": [
    "#Put two dataframes together\n",
    "data['churn'] = data_churn['churn']"
   ]
  },
  {
   "cell_type": "markdown",
   "id": "90dd88f4",
   "metadata": {},
   "source": [
    "check statistical summary of all the quantitative variables of dataset."
   ]
  },
  {
   "cell_type": "code",
   "execution_count": 13,
   "id": "ea6aa6ca",
   "metadata": {
    "scrolled": false
   },
   "outputs": [
    {
     "data": {
      "text/html": [
       "<div>\n",
       "<style scoped>\n",
       "    .dataframe tbody tr th:only-of-type {\n",
       "        vertical-align: middle;\n",
       "    }\n",
       "\n",
       "    .dataframe tbody tr th {\n",
       "        vertical-align: top;\n",
       "    }\n",
       "\n",
       "    .dataframe thead th {\n",
       "        text-align: right;\n",
       "    }\n",
       "</style>\n",
       "<table border=\"1\" class=\"dataframe\">\n",
       "  <thead>\n",
       "    <tr style=\"text-align: right;\">\n",
       "      <th></th>\n",
       "      <th>cons_12m</th>\n",
       "      <th>cons_gas_12m</th>\n",
       "      <th>cons_last_month</th>\n",
       "      <th>forecast_base_bill_ele</th>\n",
       "      <th>forecast_base_bill_year</th>\n",
       "      <th>forecast_bill_12m</th>\n",
       "      <th>forecast_cons</th>\n",
       "      <th>forecast_cons_12m</th>\n",
       "      <th>forecast_cons_year</th>\n",
       "      <th>forecast_discount_energy</th>\n",
       "      <th>...</th>\n",
       "      <th>forecast_price_energy_p2</th>\n",
       "      <th>forecast_price_pow_p1</th>\n",
       "      <th>imp_cons</th>\n",
       "      <th>margin_gross_pow_ele</th>\n",
       "      <th>margin_net_pow_ele</th>\n",
       "      <th>nb_prod_act</th>\n",
       "      <th>net_margin</th>\n",
       "      <th>num_years_antig</th>\n",
       "      <th>pow_max</th>\n",
       "      <th>churn</th>\n",
       "    </tr>\n",
       "  </thead>\n",
       "  <tbody>\n",
       "    <tr>\n",
       "      <th>count</th>\n",
       "      <td>1.609600e+04</td>\n",
       "      <td>1.609600e+04</td>\n",
       "      <td>1.609600e+04</td>\n",
       "      <td>3508.000000</td>\n",
       "      <td>3508.000000</td>\n",
       "      <td>3508.000000</td>\n",
       "      <td>3508.000000</td>\n",
       "      <td>16096.000000</td>\n",
       "      <td>16096.000000</td>\n",
       "      <td>15970.000000</td>\n",
       "      <td>...</td>\n",
       "      <td>15970.000000</td>\n",
       "      <td>15970.000000</td>\n",
       "      <td>16096.000000</td>\n",
       "      <td>16083.000000</td>\n",
       "      <td>16083.000000</td>\n",
       "      <td>16096.000000</td>\n",
       "      <td>16081.000000</td>\n",
       "      <td>16096.000000</td>\n",
       "      <td>16093.000000</td>\n",
       "      <td>16096.000000</td>\n",
       "    </tr>\n",
       "    <tr>\n",
       "      <th>mean</th>\n",
       "      <td>1.948044e+05</td>\n",
       "      <td>3.191164e+04</td>\n",
       "      <td>1.946154e+04</td>\n",
       "      <td>335.843857</td>\n",
       "      <td>335.843857</td>\n",
       "      <td>3837.441866</td>\n",
       "      <td>206.845165</td>\n",
       "      <td>2370.555949</td>\n",
       "      <td>1907.347229</td>\n",
       "      <td>0.991547</td>\n",
       "      <td>...</td>\n",
       "      <td>0.052951</td>\n",
       "      <td>43.533496</td>\n",
       "      <td>196.123447</td>\n",
       "      <td>22.462276</td>\n",
       "      <td>21.460318</td>\n",
       "      <td>1.347788</td>\n",
       "      <td>217.987028</td>\n",
       "      <td>5.030629</td>\n",
       "      <td>20.604131</td>\n",
       "      <td>0.099093</td>\n",
       "    </tr>\n",
       "    <tr>\n",
       "      <th>std</th>\n",
       "      <td>6.795151e+05</td>\n",
       "      <td>1.775885e+05</td>\n",
       "      <td>8.235676e+04</td>\n",
       "      <td>649.406000</td>\n",
       "      <td>649.406000</td>\n",
       "      <td>5425.744327</td>\n",
       "      <td>455.634288</td>\n",
       "      <td>4035.085664</td>\n",
       "      <td>5257.364759</td>\n",
       "      <td>5.160969</td>\n",
       "      <td>...</td>\n",
       "      <td>0.048617</td>\n",
       "      <td>5.212252</td>\n",
       "      <td>494.366979</td>\n",
       "      <td>23.700883</td>\n",
       "      <td>27.917349</td>\n",
       "      <td>1.459808</td>\n",
       "      <td>366.742030</td>\n",
       "      <td>1.676101</td>\n",
       "      <td>21.772421</td>\n",
       "      <td>0.298796</td>\n",
       "    </tr>\n",
       "    <tr>\n",
       "      <th>min</th>\n",
       "      <td>-1.252760e+05</td>\n",
       "      <td>-3.037000e+03</td>\n",
       "      <td>-9.138600e+04</td>\n",
       "      <td>-364.940000</td>\n",
       "      <td>-364.940000</td>\n",
       "      <td>-2503.480000</td>\n",
       "      <td>0.000000</td>\n",
       "      <td>-16689.260000</td>\n",
       "      <td>-85627.000000</td>\n",
       "      <td>0.000000</td>\n",
       "      <td>...</td>\n",
       "      <td>0.000000</td>\n",
       "      <td>-0.122184</td>\n",
       "      <td>-9038.210000</td>\n",
       "      <td>-525.540000</td>\n",
       "      <td>-615.660000</td>\n",
       "      <td>1.000000</td>\n",
       "      <td>-4148.990000</td>\n",
       "      <td>1.000000</td>\n",
       "      <td>1.000000</td>\n",
       "      <td>0.000000</td>\n",
       "    </tr>\n",
       "    <tr>\n",
       "      <th>25%</th>\n",
       "      <td>5.906250e+03</td>\n",
       "      <td>0.000000e+00</td>\n",
       "      <td>0.000000e+00</td>\n",
       "      <td>0.000000</td>\n",
       "      <td>0.000000</td>\n",
       "      <td>1158.175000</td>\n",
       "      <td>0.000000</td>\n",
       "      <td>513.230000</td>\n",
       "      <td>0.000000</td>\n",
       "      <td>0.000000</td>\n",
       "      <td>...</td>\n",
       "      <td>0.000000</td>\n",
       "      <td>40.606701</td>\n",
       "      <td>0.000000</td>\n",
       "      <td>11.960000</td>\n",
       "      <td>11.950000</td>\n",
       "      <td>1.000000</td>\n",
       "      <td>51.970000</td>\n",
       "      <td>4.000000</td>\n",
       "      <td>12.500000</td>\n",
       "      <td>0.000000</td>\n",
       "    </tr>\n",
       "    <tr>\n",
       "      <th>50%</th>\n",
       "      <td>1.533250e+04</td>\n",
       "      <td>0.000000e+00</td>\n",
       "      <td>9.010000e+02</td>\n",
       "      <td>162.955000</td>\n",
       "      <td>162.955000</td>\n",
       "      <td>2187.230000</td>\n",
       "      <td>42.215000</td>\n",
       "      <td>1179.160000</td>\n",
       "      <td>378.000000</td>\n",
       "      <td>0.000000</td>\n",
       "      <td>...</td>\n",
       "      <td>0.086163</td>\n",
       "      <td>44.311378</td>\n",
       "      <td>44.465000</td>\n",
       "      <td>21.090000</td>\n",
       "      <td>20.970000</td>\n",
       "      <td>1.000000</td>\n",
       "      <td>119.680000</td>\n",
       "      <td>5.000000</td>\n",
       "      <td>13.856000</td>\n",
       "      <td>0.000000</td>\n",
       "    </tr>\n",
       "    <tr>\n",
       "      <th>75%</th>\n",
       "      <td>5.022150e+04</td>\n",
       "      <td>0.000000e+00</td>\n",
       "      <td>4.127000e+03</td>\n",
       "      <td>396.185000</td>\n",
       "      <td>396.185000</td>\n",
       "      <td>4246.555000</td>\n",
       "      <td>228.117500</td>\n",
       "      <td>2692.077500</td>\n",
       "      <td>1994.250000</td>\n",
       "      <td>0.000000</td>\n",
       "      <td>...</td>\n",
       "      <td>0.098837</td>\n",
       "      <td>44.311378</td>\n",
       "      <td>218.090000</td>\n",
       "      <td>29.640000</td>\n",
       "      <td>29.640000</td>\n",
       "      <td>1.000000</td>\n",
       "      <td>275.810000</td>\n",
       "      <td>6.000000</td>\n",
       "      <td>19.800000</td>\n",
       "      <td>0.000000</td>\n",
       "    </tr>\n",
       "    <tr>\n",
       "      <th>max</th>\n",
       "      <td>1.609711e+07</td>\n",
       "      <td>4.188440e+06</td>\n",
       "      <td>4.538720e+06</td>\n",
       "      <td>12566.080000</td>\n",
       "      <td>12566.080000</td>\n",
       "      <td>81122.630000</td>\n",
       "      <td>9682.890000</td>\n",
       "      <td>103801.930000</td>\n",
       "      <td>175375.000000</td>\n",
       "      <td>50.000000</td>\n",
       "      <td>...</td>\n",
       "      <td>0.195975</td>\n",
       "      <td>59.444710</td>\n",
       "      <td>15042.790000</td>\n",
       "      <td>374.640000</td>\n",
       "      <td>374.640000</td>\n",
       "      <td>32.000000</td>\n",
       "      <td>24570.650000</td>\n",
       "      <td>16.000000</td>\n",
       "      <td>500.000000</td>\n",
       "      <td>1.000000</td>\n",
       "    </tr>\n",
       "  </tbody>\n",
       "</table>\n",
       "<p>8 rows × 22 columns</p>\n",
       "</div>"
      ],
      "text/plain": [
       "           cons_12m  cons_gas_12m  cons_last_month  forecast_base_bill_ele  \\\n",
       "count  1.609600e+04  1.609600e+04     1.609600e+04             3508.000000   \n",
       "mean   1.948044e+05  3.191164e+04     1.946154e+04              335.843857   \n",
       "std    6.795151e+05  1.775885e+05     8.235676e+04              649.406000   \n",
       "min   -1.252760e+05 -3.037000e+03    -9.138600e+04             -364.940000   \n",
       "25%    5.906250e+03  0.000000e+00     0.000000e+00                0.000000   \n",
       "50%    1.533250e+04  0.000000e+00     9.010000e+02              162.955000   \n",
       "75%    5.022150e+04  0.000000e+00     4.127000e+03              396.185000   \n",
       "max    1.609711e+07  4.188440e+06     4.538720e+06            12566.080000   \n",
       "\n",
       "       forecast_base_bill_year  forecast_bill_12m  forecast_cons  \\\n",
       "count              3508.000000        3508.000000    3508.000000   \n",
       "mean                335.843857        3837.441866     206.845165   \n",
       "std                 649.406000        5425.744327     455.634288   \n",
       "min                -364.940000       -2503.480000       0.000000   \n",
       "25%                   0.000000        1158.175000       0.000000   \n",
       "50%                 162.955000        2187.230000      42.215000   \n",
       "75%                 396.185000        4246.555000     228.117500   \n",
       "max               12566.080000       81122.630000    9682.890000   \n",
       "\n",
       "       forecast_cons_12m  forecast_cons_year  forecast_discount_energy  ...  \\\n",
       "count       16096.000000        16096.000000              15970.000000  ...   \n",
       "mean         2370.555949         1907.347229                  0.991547  ...   \n",
       "std          4035.085664         5257.364759                  5.160969  ...   \n",
       "min        -16689.260000       -85627.000000                  0.000000  ...   \n",
       "25%           513.230000            0.000000                  0.000000  ...   \n",
       "50%          1179.160000          378.000000                  0.000000  ...   \n",
       "75%          2692.077500         1994.250000                  0.000000  ...   \n",
       "max        103801.930000       175375.000000                 50.000000  ...   \n",
       "\n",
       "       forecast_price_energy_p2  forecast_price_pow_p1      imp_cons  \\\n",
       "count              15970.000000           15970.000000  16096.000000   \n",
       "mean                   0.052951              43.533496    196.123447   \n",
       "std                    0.048617               5.212252    494.366979   \n",
       "min                    0.000000              -0.122184  -9038.210000   \n",
       "25%                    0.000000              40.606701      0.000000   \n",
       "50%                    0.086163              44.311378     44.465000   \n",
       "75%                    0.098837              44.311378    218.090000   \n",
       "max                    0.195975              59.444710  15042.790000   \n",
       "\n",
       "       margin_gross_pow_ele  margin_net_pow_ele   nb_prod_act    net_margin  \\\n",
       "count          16083.000000        16083.000000  16096.000000  16081.000000   \n",
       "mean              22.462276           21.460318      1.347788    217.987028   \n",
       "std               23.700883           27.917349      1.459808    366.742030   \n",
       "min             -525.540000         -615.660000      1.000000  -4148.990000   \n",
       "25%               11.960000           11.950000      1.000000     51.970000   \n",
       "50%               21.090000           20.970000      1.000000    119.680000   \n",
       "75%               29.640000           29.640000      1.000000    275.810000   \n",
       "max              374.640000          374.640000     32.000000  24570.650000   \n",
       "\n",
       "       num_years_antig       pow_max         churn  \n",
       "count     16096.000000  16093.000000  16096.000000  \n",
       "mean          5.030629     20.604131      0.099093  \n",
       "std           1.676101     21.772421      0.298796  \n",
       "min           1.000000      1.000000      0.000000  \n",
       "25%           4.000000     12.500000      0.000000  \n",
       "50%           5.000000     13.856000      0.000000  \n",
       "75%           6.000000     19.800000      0.000000  \n",
       "max          16.000000    500.000000      1.000000  \n",
       "\n",
       "[8 rows x 22 columns]"
      ]
     },
     "execution_count": 13,
     "metadata": {},
     "output_type": "execute_result"
    }
   ],
   "source": [
    "data.describe()"
   ]
  },
  {
   "cell_type": "markdown",
   "id": "b18b7b4d",
   "metadata": {},
   "source": [
    "Identifying Outliers with Interquartile Range (IQR)"
   ]
  },
  {
   "cell_type": "code",
   "execution_count": 14,
   "id": "a2168604",
   "metadata": {},
   "outputs": [
    {
     "name": "stdout",
     "output_type": "stream",
     "text": [
      "cons_12m                    3.957724e+06\n",
      "cons_gas_12m                9.315016e+05\n",
      "cons_last_month             4.692100e+05\n",
      "forecast_base_bill_ele      2.988201e+03\n",
      "forecast_base_bill_year     2.988201e+03\n",
      "forecast_bill_12m           2.669321e+04\n",
      "forecast_cons               2.136867e+03\n",
      "forecast_cons_12m           1.853463e+04\n",
      "forecast_cons_year          1.999005e+04\n",
      "forecast_discount_energy    3.000000e+01\n",
      "forecast_meter_rent_12m     3.595605e+02\n",
      "forecast_price_energy_p1    1.368190e-01\n",
      "forecast_price_energy_p2    1.305250e-01\n",
      "forecast_price_pow_p1       1.838925e+01\n",
      "imp_cons                    1.936229e+03\n",
      "margin_gross_pow_ele        1.216764e+02\n",
      "margin_net_pow_ele          1.197242e+02\n",
      "nb_prod_act                 3.000000e+00\n",
      "net_margin                  1.382302e+03\n",
      "num_years_antig             8.000000e+00\n",
      "pow_max                     9.970000e+01\n",
      "churn                       1.000000e+00\n",
      "dtype: float64\n"
     ]
    }
   ],
   "source": [
    "Q1 = data.quantile(0.010)\n",
    "Q3 = data.quantile(0.990)\n",
    "MIQR = Q3 - Q1\n",
    "print(MIQR)"
   ]
  },
  {
   "cell_type": "code",
   "execution_count": 15,
   "id": "ec6b3a6f",
   "metadata": {},
   "outputs": [],
   "source": [
    "#print(data < (Q1 - 1.5 * MIQR)) | (data > (Q3 + 1.5 * MIQR))"
   ]
  },
  {
   "cell_type": "markdown",
   "id": "49890cb5",
   "metadata": {},
   "source": [
    "Delete very higher or lower outliers"
   ]
  },
  {
   "cell_type": "code",
   "execution_count": 16,
   "id": "8aa23b4d",
   "metadata": {},
   "outputs": [
    {
     "data": {
      "text/plain": [
       "(15835, 32)"
      ]
     },
     "execution_count": 16,
     "metadata": {},
     "output_type": "execute_result"
    }
   ],
   "source": [
    "data_1 = data[~((data < (Q1 - 1.5 * MIQR)) |(data > (Q3 + 1.5 * MIQR))).any(axis=1)]\n",
    "data_1.shape\n"
   ]
  },
  {
   "cell_type": "code",
   "execution_count": 17,
   "id": "323fe931",
   "metadata": {},
   "outputs": [
    {
     "name": "stdout",
     "output_type": "stream",
     "text": [
      "<class 'pandas.core.frame.DataFrame'>\n",
      "Int64Index: 15835 entries, 0 to 16095\n",
      "Data columns (total 32 columns):\n",
      " #   Column                    Non-Null Count  Dtype  \n",
      "---  ------                    --------------  -----  \n",
      " 0   id                        15835 non-null  object \n",
      " 1   activity_new              6434 non-null   object \n",
      " 2   channel_sales             11744 non-null  object \n",
      " 3   cons_12m                  15835 non-null  int64  \n",
      " 4   cons_gas_12m              15835 non-null  int64  \n",
      " 5   cons_last_month           15835 non-null  int64  \n",
      " 6   date_activ                15835 non-null  object \n",
      " 7   date_end                  15833 non-null  object \n",
      " 8   date_first_activ          3428 non-null   object \n",
      " 9   date_modif_prod           15678 non-null  object \n",
      " 10  date_renewal              15796 non-null  object \n",
      " 11  forecast_base_bill_ele    3428 non-null   float64\n",
      " 12  forecast_base_bill_year   3428 non-null   float64\n",
      " 13  forecast_bill_12m         3428 non-null   float64\n",
      " 14  forecast_cons             3428 non-null   float64\n",
      " 15  forecast_cons_12m         15835 non-null  float64\n",
      " 16  forecast_cons_year        15835 non-null  int64  \n",
      " 17  forecast_discount_energy  15713 non-null  float64\n",
      " 18  forecast_meter_rent_12m   15835 non-null  float64\n",
      " 19  forecast_price_energy_p1  15713 non-null  float64\n",
      " 20  forecast_price_energy_p2  15713 non-null  float64\n",
      " 21  forecast_price_pow_p1     15713 non-null  float64\n",
      " 22  has_gas                   15835 non-null  object \n",
      " 23  imp_cons                  15835 non-null  float64\n",
      " 24  margin_gross_pow_ele      15823 non-null  float64\n",
      " 25  margin_net_pow_ele        15823 non-null  float64\n",
      " 26  nb_prod_act               15835 non-null  int64  \n",
      " 27  net_margin                15821 non-null  float64\n",
      " 28  num_years_antig           15835 non-null  int64  \n",
      " 29  origin_up                 15749 non-null  object \n",
      " 30  pow_max                   15832 non-null  float64\n",
      " 31  churn                     15835 non-null  int64  \n",
      "dtypes: float64(15), int64(7), object(10)\n",
      "memory usage: 4.0+ MB\n"
     ]
    }
   ],
   "source": [
    "data_1.info()"
   ]
  },
  {
   "cell_type": "code",
   "execution_count": null,
   "id": "d16b243c",
   "metadata": {},
   "outputs": [],
   "source": []
  },
  {
   "cell_type": "markdown",
   "id": "4989e0c3",
   "metadata": {},
   "source": [
    "Now let's check the missing values."
   ]
  },
  {
   "cell_type": "code",
   "execution_count": 18,
   "id": "7404e9ac",
   "metadata": {},
   "outputs": [
    {
     "data": {
      "text/plain": [
       "id                              0\n",
       "activity_new                 9401\n",
       "channel_sales                4091\n",
       "cons_12m                        0\n",
       "cons_gas_12m                    0\n",
       "cons_last_month                 0\n",
       "date_activ                      0\n",
       "date_end                        2\n",
       "date_first_activ            12407\n",
       "date_modif_prod               157\n",
       "date_renewal                   39\n",
       "forecast_base_bill_ele      12407\n",
       "forecast_base_bill_year     12407\n",
       "forecast_bill_12m           12407\n",
       "forecast_cons               12407\n",
       "forecast_cons_12m               0\n",
       "forecast_cons_year              0\n",
       "forecast_discount_energy      122\n",
       "forecast_meter_rent_12m         0\n",
       "forecast_price_energy_p1      122\n",
       "forecast_price_energy_p2      122\n",
       "forecast_price_pow_p1         122\n",
       "has_gas                         0\n",
       "imp_cons                        0\n",
       "margin_gross_pow_ele           12\n",
       "margin_net_pow_ele             12\n",
       "nb_prod_act                     0\n",
       "net_margin                     14\n",
       "num_years_antig                 0\n",
       "origin_up                      86\n",
       "pow_max                         3\n",
       "churn                           0\n",
       "dtype: int64"
      ]
     },
     "execution_count": 18,
     "metadata": {},
     "output_type": "execute_result"
    }
   ],
   "source": [
    "null_values_1 = data_1.isna().sum()\n",
    "null_values_1"
   ]
  },
  {
   "cell_type": "code",
   "execution_count": 43,
   "id": "2e7c7f15",
   "metadata": {},
   "outputs": [
    {
     "data": {
      "text/html": [
       "<div>\n",
       "<style scoped>\n",
       "    .dataframe tbody tr th:only-of-type {\n",
       "        vertical-align: middle;\n",
       "    }\n",
       "\n",
       "    .dataframe tbody tr th {\n",
       "        vertical-align: top;\n",
       "    }\n",
       "\n",
       "    .dataframe thead th {\n",
       "        text-align: right;\n",
       "    }\n",
       "</style>\n",
       "<table border=\"1\" class=\"dataframe\">\n",
       "  <thead>\n",
       "    <tr style=\"text-align: right;\">\n",
       "      <th></th>\n",
       "      <th>Number of null values</th>\n",
       "      <th>Percentage</th>\n",
       "    </tr>\n",
       "  </thead>\n",
       "  <tbody>\n",
       "    <tr>\n",
       "      <th>activity_new</th>\n",
       "      <td>9401</td>\n",
       "      <td>59.37</td>\n",
       "    </tr>\n",
       "    <tr>\n",
       "      <th>channel_sales</th>\n",
       "      <td>4091</td>\n",
       "      <td>25.84</td>\n",
       "    </tr>\n",
       "    <tr>\n",
       "      <th>date_end</th>\n",
       "      <td>2</td>\n",
       "      <td>0.01</td>\n",
       "    </tr>\n",
       "    <tr>\n",
       "      <th>date_first_activ</th>\n",
       "      <td>12407</td>\n",
       "      <td>78.35</td>\n",
       "    </tr>\n",
       "    <tr>\n",
       "      <th>date_modif_prod</th>\n",
       "      <td>157</td>\n",
       "      <td>0.99</td>\n",
       "    </tr>\n",
       "    <tr>\n",
       "      <th>date_renewal</th>\n",
       "      <td>39</td>\n",
       "      <td>0.25</td>\n",
       "    </tr>\n",
       "    <tr>\n",
       "      <th>forecast_base_bill_ele</th>\n",
       "      <td>12407</td>\n",
       "      <td>78.35</td>\n",
       "    </tr>\n",
       "    <tr>\n",
       "      <th>forecast_base_bill_year</th>\n",
       "      <td>12407</td>\n",
       "      <td>78.35</td>\n",
       "    </tr>\n",
       "    <tr>\n",
       "      <th>forecast_bill_12m</th>\n",
       "      <td>12407</td>\n",
       "      <td>78.35</td>\n",
       "    </tr>\n",
       "    <tr>\n",
       "      <th>forecast_cons</th>\n",
       "      <td>12407</td>\n",
       "      <td>78.35</td>\n",
       "    </tr>\n",
       "    <tr>\n",
       "      <th>forecast_discount_energy</th>\n",
       "      <td>122</td>\n",
       "      <td>0.77</td>\n",
       "    </tr>\n",
       "    <tr>\n",
       "      <th>forecast_price_energy_p1</th>\n",
       "      <td>122</td>\n",
       "      <td>0.77</td>\n",
       "    </tr>\n",
       "    <tr>\n",
       "      <th>forecast_price_energy_p2</th>\n",
       "      <td>122</td>\n",
       "      <td>0.77</td>\n",
       "    </tr>\n",
       "    <tr>\n",
       "      <th>forecast_price_pow_p1</th>\n",
       "      <td>122</td>\n",
       "      <td>0.77</td>\n",
       "    </tr>\n",
       "    <tr>\n",
       "      <th>margin_gross_pow_ele</th>\n",
       "      <td>12</td>\n",
       "      <td>0.08</td>\n",
       "    </tr>\n",
       "    <tr>\n",
       "      <th>margin_net_pow_ele</th>\n",
       "      <td>12</td>\n",
       "      <td>0.08</td>\n",
       "    </tr>\n",
       "    <tr>\n",
       "      <th>net_margin</th>\n",
       "      <td>14</td>\n",
       "      <td>0.09</td>\n",
       "    </tr>\n",
       "    <tr>\n",
       "      <th>origin_up</th>\n",
       "      <td>86</td>\n",
       "      <td>0.54</td>\n",
       "    </tr>\n",
       "    <tr>\n",
       "      <th>pow_max</th>\n",
       "      <td>3</td>\n",
       "      <td>0.02</td>\n",
       "    </tr>\n",
       "  </tbody>\n",
       "</table>\n",
       "</div>"
      ],
      "text/plain": [
       "                          Number of null values  Percentage\n",
       "activity_new                               9401       59.37\n",
       "channel_sales                              4091       25.84\n",
       "date_end                                      2        0.01\n",
       "date_first_activ                          12407       78.35\n",
       "date_modif_prod                             157        0.99\n",
       "date_renewal                                 39        0.25\n",
       "forecast_base_bill_ele                    12407       78.35\n",
       "forecast_base_bill_year                   12407       78.35\n",
       "forecast_bill_12m                         12407       78.35\n",
       "forecast_cons                             12407       78.35\n",
       "forecast_discount_energy                    122        0.77\n",
       "forecast_price_energy_p1                    122        0.77\n",
       "forecast_price_energy_p2                    122        0.77\n",
       "forecast_price_pow_p1                       122        0.77\n",
       "margin_gross_pow_ele                         12        0.08\n",
       "margin_net_pow_ele                           12        0.08\n",
       "net_margin                                   14        0.09\n",
       "origin_up                                    86        0.54\n",
       "pow_max                                       3        0.02"
      ]
     },
     "execution_count": 43,
     "metadata": {},
     "output_type": "execute_result"
    }
   ],
   "source": [
    "null_values_1 = null_values_1[null_values_1 > 0]\n",
    "null_values1_percentage = round(null_values_1 / len(data_1), 4) * 100\n",
    "pd.DataFrame({'Number of null values': null_values_1, 'Percentage': null_values1_percentage})"
   ]
  },
  {
   "cell_type": "markdown",
   "id": "59562180",
   "metadata": {},
   "source": [
    "We can see that columns 'activity_new', 'date_first_activ', 'forecast_base_bill_ele', 'forecast_base_bill_year', 'forecast_bill_12m', and 'forecast_bill_12m' have significant amount of missing values, so we can remove it."
   ]
  },
  {
   "cell_type": "code",
   "execution_count": 44,
   "id": "f30dbc62",
   "metadata": {},
   "outputs": [
    {
     "data": {
      "text/html": [
       "<div>\n",
       "<style scoped>\n",
       "    .dataframe tbody tr th:only-of-type {\n",
       "        vertical-align: middle;\n",
       "    }\n",
       "\n",
       "    .dataframe tbody tr th {\n",
       "        vertical-align: top;\n",
       "    }\n",
       "\n",
       "    .dataframe thead th {\n",
       "        text-align: right;\n",
       "    }\n",
       "</style>\n",
       "<table border=\"1\" class=\"dataframe\">\n",
       "  <thead>\n",
       "    <tr style=\"text-align: right;\">\n",
       "      <th></th>\n",
       "      <th>id</th>\n",
       "      <th>channel_sales</th>\n",
       "      <th>cons_12m</th>\n",
       "      <th>cons_gas_12m</th>\n",
       "      <th>cons_last_month</th>\n",
       "      <th>date_activ</th>\n",
       "      <th>date_end</th>\n",
       "      <th>date_modif_prod</th>\n",
       "      <th>date_renewal</th>\n",
       "      <th>forecast_cons_12m</th>\n",
       "      <th>...</th>\n",
       "      <th>has_gas</th>\n",
       "      <th>imp_cons</th>\n",
       "      <th>margin_gross_pow_ele</th>\n",
       "      <th>margin_net_pow_ele</th>\n",
       "      <th>nb_prod_act</th>\n",
       "      <th>net_margin</th>\n",
       "      <th>num_years_antig</th>\n",
       "      <th>origin_up</th>\n",
       "      <th>pow_max</th>\n",
       "      <th>churn</th>\n",
       "    </tr>\n",
       "  </thead>\n",
       "  <tbody>\n",
       "    <tr>\n",
       "      <th>0</th>\n",
       "      <td>48ada52261e7cf58715202705a0451c9</td>\n",
       "      <td>lmkebamcaaclubfxadlmueccxoimlema</td>\n",
       "      <td>309275</td>\n",
       "      <td>0</td>\n",
       "      <td>10025</td>\n",
       "      <td>2012-11-07</td>\n",
       "      <td>2016-11-06</td>\n",
       "      <td>2012-11-07</td>\n",
       "      <td>2015-11-09</td>\n",
       "      <td>26520.30</td>\n",
       "      <td>...</td>\n",
       "      <td>f</td>\n",
       "      <td>831.8</td>\n",
       "      <td>-41.76</td>\n",
       "      <td>-41.76</td>\n",
       "      <td>1</td>\n",
       "      <td>1732.36</td>\n",
       "      <td>3</td>\n",
       "      <td>ldkssxwpmemidmecebumciepifcamkci</td>\n",
       "      <td>180.000</td>\n",
       "      <td>0</td>\n",
       "    </tr>\n",
       "    <tr>\n",
       "      <th>1</th>\n",
       "      <td>24011ae4ebbe3035111d65fa7c15bc57</td>\n",
       "      <td>foosdfpfkusacimwkcsosbicdxkicaua</td>\n",
       "      <td>0</td>\n",
       "      <td>54946</td>\n",
       "      <td>0</td>\n",
       "      <td>2013-06-15</td>\n",
       "      <td>2016-06-15</td>\n",
       "      <td>NaN</td>\n",
       "      <td>2015-06-23</td>\n",
       "      <td>0.00</td>\n",
       "      <td>...</td>\n",
       "      <td>t</td>\n",
       "      <td>0.0</td>\n",
       "      <td>25.44</td>\n",
       "      <td>25.44</td>\n",
       "      <td>2</td>\n",
       "      <td>678.99</td>\n",
       "      <td>3</td>\n",
       "      <td>lxidpiddsbxsbosboudacockeimpuepw</td>\n",
       "      <td>43.648</td>\n",
       "      <td>1</td>\n",
       "    </tr>\n",
       "    <tr>\n",
       "      <th>2</th>\n",
       "      <td>d29c2c54acc38ff3c0614d0a653813dd</td>\n",
       "      <td>NaN</td>\n",
       "      <td>4660</td>\n",
       "      <td>0</td>\n",
       "      <td>0</td>\n",
       "      <td>2009-08-21</td>\n",
       "      <td>2016-08-30</td>\n",
       "      <td>2009-08-21</td>\n",
       "      <td>2015-08-31</td>\n",
       "      <td>189.95</td>\n",
       "      <td>...</td>\n",
       "      <td>f</td>\n",
       "      <td>0.0</td>\n",
       "      <td>16.38</td>\n",
       "      <td>16.38</td>\n",
       "      <td>1</td>\n",
       "      <td>18.89</td>\n",
       "      <td>6</td>\n",
       "      <td>kamkkxfxxuwbdslkwifmmcsiusiuosws</td>\n",
       "      <td>13.800</td>\n",
       "      <td>0</td>\n",
       "    </tr>\n",
       "  </tbody>\n",
       "</table>\n",
       "<p>3 rows × 26 columns</p>\n",
       "</div>"
      ],
      "text/plain": [
       "                                 id                     channel_sales  \\\n",
       "0  48ada52261e7cf58715202705a0451c9  lmkebamcaaclubfxadlmueccxoimlema   \n",
       "1  24011ae4ebbe3035111d65fa7c15bc57  foosdfpfkusacimwkcsosbicdxkicaua   \n",
       "2  d29c2c54acc38ff3c0614d0a653813dd                               NaN   \n",
       "\n",
       "   cons_12m  cons_gas_12m  cons_last_month  date_activ    date_end  \\\n",
       "0    309275             0            10025  2012-11-07  2016-11-06   \n",
       "1         0         54946                0  2013-06-15  2016-06-15   \n",
       "2      4660             0                0  2009-08-21  2016-08-30   \n",
       "\n",
       "  date_modif_prod date_renewal  forecast_cons_12m  ...  has_gas  imp_cons  \\\n",
       "0      2012-11-07   2015-11-09           26520.30  ...        f     831.8   \n",
       "1             NaN   2015-06-23               0.00  ...        t       0.0   \n",
       "2      2009-08-21   2015-08-31             189.95  ...        f       0.0   \n",
       "\n",
       "   margin_gross_pow_ele  margin_net_pow_ele  nb_prod_act  net_margin  \\\n",
       "0                -41.76              -41.76            1     1732.36   \n",
       "1                 25.44               25.44            2      678.99   \n",
       "2                 16.38               16.38            1       18.89   \n",
       "\n",
       "  num_years_antig                         origin_up  pow_max  churn  \n",
       "0               3  ldkssxwpmemidmecebumciepifcamkci  180.000      0  \n",
       "1               3  lxidpiddsbxsbosboudacockeimpuepw   43.648      1  \n",
       "2               6  kamkkxfxxuwbdslkwifmmcsiusiuosws   13.800      0  \n",
       "\n",
       "[3 rows x 26 columns]"
      ]
     },
     "execution_count": 44,
     "metadata": {},
     "output_type": "execute_result"
    }
   ],
   "source": [
    "data_2 = data_1.drop(['activity_new', 'date_first_activ', 'forecast_base_bill_ele', 'forecast_base_bill_year', 'forecast_bill_12m', 'forecast_bill_12m', 'forecast_cons'], axis = 1)\n",
    "data_2.head(3)"
   ]
  },
  {
   "cell_type": "code",
   "execution_count": 45,
   "id": "837544ca",
   "metadata": {},
   "outputs": [
    {
     "data": {
      "text/plain": [
       "id                             0\n",
       "channel_sales               4091\n",
       "cons_12m                       0\n",
       "cons_gas_12m                   0\n",
       "cons_last_month                0\n",
       "date_activ                     0\n",
       "date_end                       2\n",
       "date_modif_prod              157\n",
       "date_renewal                  39\n",
       "forecast_cons_12m              0\n",
       "forecast_cons_year             0\n",
       "forecast_discount_energy     122\n",
       "forecast_meter_rent_12m        0\n",
       "forecast_price_energy_p1     122\n",
       "forecast_price_energy_p2     122\n",
       "forecast_price_pow_p1        122\n",
       "has_gas                        0\n",
       "imp_cons                       0\n",
       "margin_gross_pow_ele          12\n",
       "margin_net_pow_ele            12\n",
       "nb_prod_act                    0\n",
       "net_margin                    14\n",
       "num_years_antig                0\n",
       "origin_up                     86\n",
       "pow_max                        3\n",
       "churn                          0\n",
       "dtype: int64"
      ]
     },
     "execution_count": 45,
     "metadata": {},
     "output_type": "execute_result"
    }
   ],
   "source": [
    "null_values_2 = data_2.isna().sum()\n",
    "null_values_2"
   ]
  },
  {
   "cell_type": "code",
   "execution_count": 46,
   "id": "7b7dba0a",
   "metadata": {},
   "outputs": [
    {
     "data": {
      "text/html": [
       "<div>\n",
       "<style scoped>\n",
       "    .dataframe tbody tr th:only-of-type {\n",
       "        vertical-align: middle;\n",
       "    }\n",
       "\n",
       "    .dataframe tbody tr th {\n",
       "        vertical-align: top;\n",
       "    }\n",
       "\n",
       "    .dataframe thead th {\n",
       "        text-align: right;\n",
       "    }\n",
       "</style>\n",
       "<table border=\"1\" class=\"dataframe\">\n",
       "  <thead>\n",
       "    <tr style=\"text-align: right;\">\n",
       "      <th></th>\n",
       "      <th>Number of null values</th>\n",
       "      <th>Percentage</th>\n",
       "    </tr>\n",
       "  </thead>\n",
       "  <tbody>\n",
       "    <tr>\n",
       "      <th>channel_sales</th>\n",
       "      <td>4091</td>\n",
       "      <td>25.84</td>\n",
       "    </tr>\n",
       "    <tr>\n",
       "      <th>date_end</th>\n",
       "      <td>2</td>\n",
       "      <td>0.01</td>\n",
       "    </tr>\n",
       "    <tr>\n",
       "      <th>date_modif_prod</th>\n",
       "      <td>157</td>\n",
       "      <td>0.99</td>\n",
       "    </tr>\n",
       "    <tr>\n",
       "      <th>date_renewal</th>\n",
       "      <td>39</td>\n",
       "      <td>0.25</td>\n",
       "    </tr>\n",
       "    <tr>\n",
       "      <th>forecast_discount_energy</th>\n",
       "      <td>122</td>\n",
       "      <td>0.77</td>\n",
       "    </tr>\n",
       "    <tr>\n",
       "      <th>forecast_price_energy_p1</th>\n",
       "      <td>122</td>\n",
       "      <td>0.77</td>\n",
       "    </tr>\n",
       "    <tr>\n",
       "      <th>forecast_price_energy_p2</th>\n",
       "      <td>122</td>\n",
       "      <td>0.77</td>\n",
       "    </tr>\n",
       "    <tr>\n",
       "      <th>forecast_price_pow_p1</th>\n",
       "      <td>122</td>\n",
       "      <td>0.77</td>\n",
       "    </tr>\n",
       "    <tr>\n",
       "      <th>margin_gross_pow_ele</th>\n",
       "      <td>12</td>\n",
       "      <td>0.08</td>\n",
       "    </tr>\n",
       "    <tr>\n",
       "      <th>margin_net_pow_ele</th>\n",
       "      <td>12</td>\n",
       "      <td>0.08</td>\n",
       "    </tr>\n",
       "    <tr>\n",
       "      <th>net_margin</th>\n",
       "      <td>14</td>\n",
       "      <td>0.09</td>\n",
       "    </tr>\n",
       "    <tr>\n",
       "      <th>origin_up</th>\n",
       "      <td>86</td>\n",
       "      <td>0.54</td>\n",
       "    </tr>\n",
       "    <tr>\n",
       "      <th>pow_max</th>\n",
       "      <td>3</td>\n",
       "      <td>0.02</td>\n",
       "    </tr>\n",
       "  </tbody>\n",
       "</table>\n",
       "</div>"
      ],
      "text/plain": [
       "                          Number of null values  Percentage\n",
       "channel_sales                              4091       25.84\n",
       "date_end                                      2        0.01\n",
       "date_modif_prod                             157        0.99\n",
       "date_renewal                                 39        0.25\n",
       "forecast_discount_energy                    122        0.77\n",
       "forecast_price_energy_p1                    122        0.77\n",
       "forecast_price_energy_p2                    122        0.77\n",
       "forecast_price_pow_p1                       122        0.77\n",
       "margin_gross_pow_ele                         12        0.08\n",
       "margin_net_pow_ele                           12        0.08\n",
       "net_margin                                   14        0.09\n",
       "origin_up                                    86        0.54\n",
       "pow_max                                       3        0.02"
      ]
     },
     "execution_count": 46,
     "metadata": {},
     "output_type": "execute_result"
    }
   ],
   "source": [
    "null_values_2 = null_values_2[null_values_2 > 0]\n",
    "null_values2_percentage = round(null_values_2 / len(data_2), 4) * 100\n",
    "null_frame = pd.DataFrame({'Number of null values': null_values_2, 'Percentage': null_values2_percentage})\n",
    "null_frame"
   ]
  },
  {
   "cell_type": "code",
   "execution_count": 47,
   "id": "7cc7e459",
   "metadata": {},
   "outputs": [
    {
     "data": {
      "text/html": [
       "<div>\n",
       "<style scoped>\n",
       "    .dataframe tbody tr th:only-of-type {\n",
       "        vertical-align: middle;\n",
       "    }\n",
       "\n",
       "    .dataframe tbody tr th {\n",
       "        vertical-align: top;\n",
       "    }\n",
       "\n",
       "    .dataframe thead th {\n",
       "        text-align: right;\n",
       "    }\n",
       "</style>\n",
       "<table border=\"1\" class=\"dataframe\">\n",
       "  <thead>\n",
       "    <tr style=\"text-align: right;\">\n",
       "      <th></th>\n",
       "      <th>cons_12m</th>\n",
       "      <th>cons_gas_12m</th>\n",
       "      <th>cons_last_month</th>\n",
       "      <th>forecast_cons_12m</th>\n",
       "      <th>forecast_cons_year</th>\n",
       "      <th>forecast_discount_energy</th>\n",
       "      <th>forecast_meter_rent_12m</th>\n",
       "      <th>forecast_price_energy_p1</th>\n",
       "      <th>forecast_price_energy_p2</th>\n",
       "      <th>forecast_price_pow_p1</th>\n",
       "      <th>imp_cons</th>\n",
       "      <th>margin_gross_pow_ele</th>\n",
       "      <th>margin_net_pow_ele</th>\n",
       "      <th>nb_prod_act</th>\n",
       "      <th>net_margin</th>\n",
       "      <th>num_years_antig</th>\n",
       "      <th>pow_max</th>\n",
       "      <th>churn</th>\n",
       "    </tr>\n",
       "  </thead>\n",
       "  <tbody>\n",
       "    <tr>\n",
       "      <th>count</th>\n",
       "      <td>1.583500e+04</td>\n",
       "      <td>1.583500e+04</td>\n",
       "      <td>15835.000000</td>\n",
       "      <td>15835.000000</td>\n",
       "      <td>15835.000000</td>\n",
       "      <td>15713.000000</td>\n",
       "      <td>15835.000000</td>\n",
       "      <td>15713.000000</td>\n",
       "      <td>15713.000000</td>\n",
       "      <td>15713.000000</td>\n",
       "      <td>15835.000000</td>\n",
       "      <td>15823.000000</td>\n",
       "      <td>15823.000000</td>\n",
       "      <td>15835.000000</td>\n",
       "      <td>15821.000000</td>\n",
       "      <td>15835.000000</td>\n",
       "      <td>15832.000000</td>\n",
       "      <td>15835.000000</td>\n",
       "    </tr>\n",
       "    <tr>\n",
       "      <th>mean</th>\n",
       "      <td>1.837763e+05</td>\n",
       "      <td>2.880609e+04</td>\n",
       "      <td>17700.875971</td>\n",
       "      <td>2278.346841</td>\n",
       "      <td>1732.528702</td>\n",
       "      <td>0.981035</td>\n",
       "      <td>69.808238</td>\n",
       "      <td>0.136666</td>\n",
       "      <td>0.053115</td>\n",
       "      <td>43.786028</td>\n",
       "      <td>180.946832</td>\n",
       "      <td>22.667249</td>\n",
       "      <td>22.345903</td>\n",
       "      <td>1.287401</td>\n",
       "      <td>211.362319</td>\n",
       "      <td>5.012251</td>\n",
       "      <td>20.123820</td>\n",
       "      <td>0.099590</td>\n",
       "    </tr>\n",
       "    <tr>\n",
       "      <th>std</th>\n",
       "      <td>6.363726e+05</td>\n",
       "      <td>1.572265e+05</td>\n",
       "      <td>67975.861374</td>\n",
       "      <td>3377.173551</td>\n",
       "      <td>3575.933315</td>\n",
       "      <td>5.125129</td>\n",
       "      <td>74.517733</td>\n",
       "      <td>0.023629</td>\n",
       "      <td>0.048586</td>\n",
       "      <td>3.846059</td>\n",
       "      <td>348.028420</td>\n",
       "      <td>21.107130</td>\n",
       "      <td>21.511348</td>\n",
       "      <td>0.632228</td>\n",
       "      <td>268.932017</td>\n",
       "      <td>1.656867</td>\n",
       "      <td>18.685788</td>\n",
       "      <td>0.299461</td>\n",
       "    </tr>\n",
       "    <tr>\n",
       "      <th>min</th>\n",
       "      <td>-1.252760e+05</td>\n",
       "      <td>-3.037000e+03</td>\n",
       "      <td>-91386.000000</td>\n",
       "      <td>-16689.260000</td>\n",
       "      <td>-19057.000000</td>\n",
       "      <td>0.000000</td>\n",
       "      <td>-242.960000</td>\n",
       "      <td>0.092453</td>\n",
       "      <td>0.000000</td>\n",
       "      <td>35.555768</td>\n",
       "      <td>-1824.080000</td>\n",
       "      <td>-61.520000</td>\n",
       "      <td>-194.780000</td>\n",
       "      <td>1.000000</td>\n",
       "      <td>-2031.150000</td>\n",
       "      <td>1.000000</td>\n",
       "      <td>1.000000</td>\n",
       "      <td>0.000000</td>\n",
       "    </tr>\n",
       "    <tr>\n",
       "      <th>25%</th>\n",
       "      <td>5.862500e+03</td>\n",
       "      <td>0.000000e+00</td>\n",
       "      <td>0.000000</td>\n",
       "      <td>521.050000</td>\n",
       "      <td>0.000000</td>\n",
       "      <td>0.000000</td>\n",
       "      <td>16.250000</td>\n",
       "      <td>0.115237</td>\n",
       "      <td>0.000000</td>\n",
       "      <td>40.606701</td>\n",
       "      <td>0.000000</td>\n",
       "      <td>12.360000</td>\n",
       "      <td>12.300000</td>\n",
       "      <td>1.000000</td>\n",
       "      <td>51.670000</td>\n",
       "      <td>4.000000</td>\n",
       "      <td>12.500000</td>\n",
       "      <td>0.000000</td>\n",
       "    </tr>\n",
       "    <tr>\n",
       "      <th>50%</th>\n",
       "      <td>1.518000e+04</td>\n",
       "      <td>0.000000e+00</td>\n",
       "      <td>889.000000</td>\n",
       "      <td>1186.250000</td>\n",
       "      <td>373.000000</td>\n",
       "      <td>0.000000</td>\n",
       "      <td>19.450000</td>\n",
       "      <td>0.142881</td>\n",
       "      <td>0.086163</td>\n",
       "      <td>44.311378</td>\n",
       "      <td>45.230000</td>\n",
       "      <td>21.090000</td>\n",
       "      <td>21.090000</td>\n",
       "      <td>1.000000</td>\n",
       "      <td>118.520000</td>\n",
       "      <td>5.000000</td>\n",
       "      <td>13.856000</td>\n",
       "      <td>0.000000</td>\n",
       "    </tr>\n",
       "    <tr>\n",
       "      <th>75%</th>\n",
       "      <td>4.895950e+04</td>\n",
       "      <td>0.000000e+00</td>\n",
       "      <td>4023.500000</td>\n",
       "      <td>2681.135000</td>\n",
       "      <td>1964.000000</td>\n",
       "      <td>0.000000</td>\n",
       "      <td>131.445000</td>\n",
       "      <td>0.146348</td>\n",
       "      <td>0.098837</td>\n",
       "      <td>44.311378</td>\n",
       "      <td>217.245000</td>\n",
       "      <td>29.640000</td>\n",
       "      <td>29.640000</td>\n",
       "      <td>1.000000</td>\n",
       "      <td>273.590000</td>\n",
       "      <td>6.000000</td>\n",
       "      <td>19.800000</td>\n",
       "      <td>0.000000</td>\n",
       "    </tr>\n",
       "    <tr>\n",
       "      <th>max</th>\n",
       "      <td>6.286272e+06</td>\n",
       "      <td>2.055098e+06</td>\n",
       "      <td>771203.000000</td>\n",
       "      <td>43634.950000</td>\n",
       "      <td>48782.000000</td>\n",
       "      <td>30.000000</td>\n",
       "      <td>725.170000</td>\n",
       "      <td>0.273963</td>\n",
       "      <td>0.195975</td>\n",
       "      <td>59.266378</td>\n",
       "      <td>4402.570000</td>\n",
       "      <td>272.880000</td>\n",
       "      <td>272.880000</td>\n",
       "      <td>8.000000</td>\n",
       "      <td>3407.650000</td>\n",
       "      <td>16.000000</td>\n",
       "      <td>255.000000</td>\n",
       "      <td>1.000000</td>\n",
       "    </tr>\n",
       "  </tbody>\n",
       "</table>\n",
       "</div>"
      ],
      "text/plain": [
       "           cons_12m  cons_gas_12m  cons_last_month  forecast_cons_12m  \\\n",
       "count  1.583500e+04  1.583500e+04     15835.000000       15835.000000   \n",
       "mean   1.837763e+05  2.880609e+04     17700.875971        2278.346841   \n",
       "std    6.363726e+05  1.572265e+05     67975.861374        3377.173551   \n",
       "min   -1.252760e+05 -3.037000e+03    -91386.000000      -16689.260000   \n",
       "25%    5.862500e+03  0.000000e+00         0.000000         521.050000   \n",
       "50%    1.518000e+04  0.000000e+00       889.000000        1186.250000   \n",
       "75%    4.895950e+04  0.000000e+00      4023.500000        2681.135000   \n",
       "max    6.286272e+06  2.055098e+06    771203.000000       43634.950000   \n",
       "\n",
       "       forecast_cons_year  forecast_discount_energy  forecast_meter_rent_12m  \\\n",
       "count        15835.000000              15713.000000             15835.000000   \n",
       "mean          1732.528702                  0.981035                69.808238   \n",
       "std           3575.933315                  5.125129                74.517733   \n",
       "min         -19057.000000                  0.000000              -242.960000   \n",
       "25%              0.000000                  0.000000                16.250000   \n",
       "50%            373.000000                  0.000000                19.450000   \n",
       "75%           1964.000000                  0.000000               131.445000   \n",
       "max          48782.000000                 30.000000               725.170000   \n",
       "\n",
       "       forecast_price_energy_p1  forecast_price_energy_p2  \\\n",
       "count              15713.000000              15713.000000   \n",
       "mean                   0.136666                  0.053115   \n",
       "std                    0.023629                  0.048586   \n",
       "min                    0.092453                  0.000000   \n",
       "25%                    0.115237                  0.000000   \n",
       "50%                    0.142881                  0.086163   \n",
       "75%                    0.146348                  0.098837   \n",
       "max                    0.273963                  0.195975   \n",
       "\n",
       "       forecast_price_pow_p1      imp_cons  margin_gross_pow_ele  \\\n",
       "count           15713.000000  15835.000000          15823.000000   \n",
       "mean               43.786028    180.946832             22.667249   \n",
       "std                 3.846059    348.028420             21.107130   \n",
       "min                35.555768  -1824.080000            -61.520000   \n",
       "25%                40.606701      0.000000             12.360000   \n",
       "50%                44.311378     45.230000             21.090000   \n",
       "75%                44.311378    217.245000             29.640000   \n",
       "max                59.266378   4402.570000            272.880000   \n",
       "\n",
       "       margin_net_pow_ele   nb_prod_act    net_margin  num_years_antig  \\\n",
       "count        15823.000000  15835.000000  15821.000000     15835.000000   \n",
       "mean            22.345903      1.287401    211.362319         5.012251   \n",
       "std             21.511348      0.632228    268.932017         1.656867   \n",
       "min           -194.780000      1.000000  -2031.150000         1.000000   \n",
       "25%             12.300000      1.000000     51.670000         4.000000   \n",
       "50%             21.090000      1.000000    118.520000         5.000000   \n",
       "75%             29.640000      1.000000    273.590000         6.000000   \n",
       "max            272.880000      8.000000   3407.650000        16.000000   \n",
       "\n",
       "            pow_max         churn  \n",
       "count  15832.000000  15835.000000  \n",
       "mean      20.123820      0.099590  \n",
       "std       18.685788      0.299461  \n",
       "min        1.000000      0.000000  \n",
       "25%       12.500000      0.000000  \n",
       "50%       13.856000      0.000000  \n",
       "75%       19.800000      0.000000  \n",
       "max      255.000000      1.000000  "
      ]
     },
     "execution_count": 47,
     "metadata": {},
     "output_type": "execute_result"
    }
   ],
   "source": [
    "data_2.describe()"
   ]
  },
  {
   "cell_type": "markdown",
   "id": "f1265e22",
   "metadata": {},
   "source": [
    "Frome the above statistical summary we can see that there are 0.81% of missing values in the column 'forecast_discount_energy' and rest values are all zeros."
   ]
  },
  {
   "cell_type": "code",
   "execution_count": 48,
   "id": "ac665059",
   "metadata": {},
   "outputs": [],
   "source": [
    "data_2 = data_2.drop(['forecast_discount_energy'], axis = 1)"
   ]
  },
  {
   "cell_type": "markdown",
   "id": "c28a4263",
   "metadata": {},
   "source": [
    "Next to check columns with missing values."
   ]
  },
  {
   "cell_type": "code",
   "execution_count": 49,
   "id": "57d3c695",
   "metadata": {
    "scrolled": true
   },
   "outputs": [
    {
     "data": {
      "text/html": [
       "<div>\n",
       "<style scoped>\n",
       "    .dataframe tbody tr th:only-of-type {\n",
       "        vertical-align: middle;\n",
       "    }\n",
       "\n",
       "    .dataframe tbody tr th {\n",
       "        vertical-align: top;\n",
       "    }\n",
       "\n",
       "    .dataframe thead th {\n",
       "        text-align: right;\n",
       "    }\n",
       "</style>\n",
       "<table border=\"1\" class=\"dataframe\">\n",
       "  <thead>\n",
       "    <tr style=\"text-align: right;\">\n",
       "      <th></th>\n",
       "      <th>id</th>\n",
       "      <th>channel_sales</th>\n",
       "      <th>cons_12m</th>\n",
       "      <th>cons_gas_12m</th>\n",
       "      <th>cons_last_month</th>\n",
       "      <th>date_activ</th>\n",
       "      <th>date_end</th>\n",
       "      <th>date_modif_prod</th>\n",
       "      <th>date_renewal</th>\n",
       "      <th>forecast_cons_12m</th>\n",
       "      <th>...</th>\n",
       "      <th>has_gas</th>\n",
       "      <th>imp_cons</th>\n",
       "      <th>margin_gross_pow_ele</th>\n",
       "      <th>margin_net_pow_ele</th>\n",
       "      <th>nb_prod_act</th>\n",
       "      <th>net_margin</th>\n",
       "      <th>num_years_antig</th>\n",
       "      <th>origin_up</th>\n",
       "      <th>pow_max</th>\n",
       "      <th>churn</th>\n",
       "    </tr>\n",
       "  </thead>\n",
       "  <tbody>\n",
       "    <tr>\n",
       "      <th>0</th>\n",
       "      <td>48ada52261e7cf58715202705a0451c9</td>\n",
       "      <td>lmkebamcaaclubfxadlmueccxoimlema</td>\n",
       "      <td>309275</td>\n",
       "      <td>0</td>\n",
       "      <td>10025</td>\n",
       "      <td>2012-11-07</td>\n",
       "      <td>2016-11-06</td>\n",
       "      <td>2012-11-07</td>\n",
       "      <td>2015-11-09</td>\n",
       "      <td>26520.30</td>\n",
       "      <td>...</td>\n",
       "      <td>f</td>\n",
       "      <td>831.8</td>\n",
       "      <td>-41.76</td>\n",
       "      <td>-41.76</td>\n",
       "      <td>1</td>\n",
       "      <td>1732.36</td>\n",
       "      <td>3</td>\n",
       "      <td>ldkssxwpmemidmecebumciepifcamkci</td>\n",
       "      <td>180.000</td>\n",
       "      <td>0</td>\n",
       "    </tr>\n",
       "    <tr>\n",
       "      <th>1</th>\n",
       "      <td>24011ae4ebbe3035111d65fa7c15bc57</td>\n",
       "      <td>foosdfpfkusacimwkcsosbicdxkicaua</td>\n",
       "      <td>0</td>\n",
       "      <td>54946</td>\n",
       "      <td>0</td>\n",
       "      <td>2013-06-15</td>\n",
       "      <td>2016-06-15</td>\n",
       "      <td>NaN</td>\n",
       "      <td>2015-06-23</td>\n",
       "      <td>0.00</td>\n",
       "      <td>...</td>\n",
       "      <td>t</td>\n",
       "      <td>0.0</td>\n",
       "      <td>25.44</td>\n",
       "      <td>25.44</td>\n",
       "      <td>2</td>\n",
       "      <td>678.99</td>\n",
       "      <td>3</td>\n",
       "      <td>lxidpiddsbxsbosboudacockeimpuepw</td>\n",
       "      <td>43.648</td>\n",
       "      <td>1</td>\n",
       "    </tr>\n",
       "    <tr>\n",
       "      <th>2</th>\n",
       "      <td>d29c2c54acc38ff3c0614d0a653813dd</td>\n",
       "      <td>NaN</td>\n",
       "      <td>4660</td>\n",
       "      <td>0</td>\n",
       "      <td>0</td>\n",
       "      <td>2009-08-21</td>\n",
       "      <td>2016-08-30</td>\n",
       "      <td>2009-08-21</td>\n",
       "      <td>2015-08-31</td>\n",
       "      <td>189.95</td>\n",
       "      <td>...</td>\n",
       "      <td>f</td>\n",
       "      <td>0.0</td>\n",
       "      <td>16.38</td>\n",
       "      <td>16.38</td>\n",
       "      <td>1</td>\n",
       "      <td>18.89</td>\n",
       "      <td>6</td>\n",
       "      <td>kamkkxfxxuwbdslkwifmmcsiusiuosws</td>\n",
       "      <td>13.800</td>\n",
       "      <td>0</td>\n",
       "    </tr>\n",
       "  </tbody>\n",
       "</table>\n",
       "<p>3 rows × 25 columns</p>\n",
       "</div>"
      ],
      "text/plain": [
       "                                 id                     channel_sales  \\\n",
       "0  48ada52261e7cf58715202705a0451c9  lmkebamcaaclubfxadlmueccxoimlema   \n",
       "1  24011ae4ebbe3035111d65fa7c15bc57  foosdfpfkusacimwkcsosbicdxkicaua   \n",
       "2  d29c2c54acc38ff3c0614d0a653813dd                               NaN   \n",
       "\n",
       "   cons_12m  cons_gas_12m  cons_last_month  date_activ    date_end  \\\n",
       "0    309275             0            10025  2012-11-07  2016-11-06   \n",
       "1         0         54946                0  2013-06-15  2016-06-15   \n",
       "2      4660             0                0  2009-08-21  2016-08-30   \n",
       "\n",
       "  date_modif_prod date_renewal  forecast_cons_12m  ...  has_gas  imp_cons  \\\n",
       "0      2012-11-07   2015-11-09           26520.30  ...        f     831.8   \n",
       "1             NaN   2015-06-23               0.00  ...        t       0.0   \n",
       "2      2009-08-21   2015-08-31             189.95  ...        f       0.0   \n",
       "\n",
       "   margin_gross_pow_ele  margin_net_pow_ele  nb_prod_act net_margin  \\\n",
       "0                -41.76              -41.76            1    1732.36   \n",
       "1                 25.44               25.44            2     678.99   \n",
       "2                 16.38               16.38            1      18.89   \n",
       "\n",
       "   num_years_antig                         origin_up  pow_max  churn  \n",
       "0                3  ldkssxwpmemidmecebumciepifcamkci  180.000      0  \n",
       "1                3  lxidpiddsbxsbosboudacockeimpuepw   43.648      1  \n",
       "2                6  kamkkxfxxuwbdslkwifmmcsiusiuosws   13.800      0  \n",
       "\n",
       "[3 rows x 25 columns]"
      ]
     },
     "execution_count": 49,
     "metadata": {},
     "output_type": "execute_result"
    }
   ],
   "source": [
    "data_2.head(3)"
   ]
  },
  {
   "cell_type": "code",
   "execution_count": 50,
   "id": "7fd8cfe9",
   "metadata": {},
   "outputs": [
    {
     "data": {
      "text/plain": [
       "foosdfpfkusacimwkcsosbicdxkicaua    7315\n",
       "NaN                                 4091\n",
       "lmkebamcaaclubfxadlmueccxoimlema    2018\n",
       "usilxuppasemubllopkaafesmlibmsdf    1434\n",
       "ewpakwlliwisiwduibdlfmalxowmwpci     959\n",
       "sddiedcslfslkckwlfkdpoeeailfpeds      12\n",
       "epumfxlbckeskwekxbiuasklxalciiuu       4\n",
       "fixdbufsefwooaasfcxdxadsiekoceaa       2\n",
       "Name: channel_sales, dtype: int64"
      ]
     },
     "execution_count": 50,
     "metadata": {},
     "output_type": "execute_result"
    }
   ],
   "source": [
    "data_2.channel_sales.value_counts(dropna = False)"
   ]
  },
  {
   "cell_type": "code",
   "execution_count": 51,
   "id": "d9ecb8a1",
   "metadata": {},
   "outputs": [],
   "source": [
    "data_2['channel_sales'].fillna('n/a', inplace = True)"
   ]
  },
  {
   "cell_type": "code",
   "execution_count": 52,
   "id": "74575a9b",
   "metadata": {},
   "outputs": [
    {
     "data": {
      "text/html": [
       "<div>\n",
       "<style scoped>\n",
       "    .dataframe tbody tr th:only-of-type {\n",
       "        vertical-align: middle;\n",
       "    }\n",
       "\n",
       "    .dataframe tbody tr th {\n",
       "        vertical-align: top;\n",
       "    }\n",
       "\n",
       "    .dataframe thead th {\n",
       "        text-align: right;\n",
       "    }\n",
       "</style>\n",
       "<table border=\"1\" class=\"dataframe\">\n",
       "  <thead>\n",
       "    <tr style=\"text-align: right;\">\n",
       "      <th></th>\n",
       "      <th>date_end</th>\n",
       "    </tr>\n",
       "  </thead>\n",
       "  <tbody>\n",
       "    <tr>\n",
       "      <th>2016-02-01</th>\n",
       "      <td>148</td>\n",
       "    </tr>\n",
       "    <tr>\n",
       "      <th>2016-08-01</th>\n",
       "      <td>136</td>\n",
       "    </tr>\n",
       "    <tr>\n",
       "      <th>2016-09-01</th>\n",
       "      <td>120</td>\n",
       "    </tr>\n",
       "    <tr>\n",
       "      <th>2016-12-31</th>\n",
       "      <td>117</td>\n",
       "    </tr>\n",
       "    <tr>\n",
       "      <th>2016-10-05</th>\n",
       "      <td>116</td>\n",
       "    </tr>\n",
       "    <tr>\n",
       "      <th>2016-10-25</th>\n",
       "      <td>109</td>\n",
       "    </tr>\n",
       "    <tr>\n",
       "      <th>2016-03-01</th>\n",
       "      <td>101</td>\n",
       "    </tr>\n",
       "    <tr>\n",
       "      <th>2016-09-02</th>\n",
       "      <td>98</td>\n",
       "    </tr>\n",
       "    <tr>\n",
       "      <th>2016-06-01</th>\n",
       "      <td>94</td>\n",
       "    </tr>\n",
       "    <tr>\n",
       "      <th>2016-07-01</th>\n",
       "      <td>91</td>\n",
       "    </tr>\n",
       "  </tbody>\n",
       "</table>\n",
       "</div>"
      ],
      "text/plain": [
       "            date_end\n",
       "2016-02-01       148\n",
       "2016-08-01       136\n",
       "2016-09-01       120\n",
       "2016-12-31       117\n",
       "2016-10-05       116\n",
       "2016-10-25       109\n",
       "2016-03-01       101\n",
       "2016-09-02        98\n",
       "2016-06-01        94\n",
       "2016-07-01        91"
      ]
     },
     "execution_count": 52,
     "metadata": {},
     "output_type": "execute_result"
    }
   ],
   "source": [
    "# date_end: registered date of the end of the contract\n",
    "#data_2['date_end'].fillna('n/a', inplace = True)\n",
    "#data_2 = data_2[data_2.date_end != 'n/a']\n",
    "pd.DataFrame(data_2['date_end'].value_counts(dropna = False)).head(10)"
   ]
  },
  {
   "cell_type": "code",
   "execution_count": 53,
   "id": "808d82b2",
   "metadata": {},
   "outputs": [
    {
     "data": {
      "text/plain": [
       "array(['2016-11-06', '2016-06-15', '2016-08-30', '2016-04-16',\n",
       "       '2016-03-30', '2016-04-08', '2016-03-07', '2016-12-09',\n",
       "       '2016-12-02', '2016-04-21', '2016-09-23', '2016-05-04',\n",
       "       '2016-07-11', '2016-11-26', '2016-10-30', '2017-01-22',\n",
       "       '2016-10-31', '2016-12-01', '2016-04-20', '2016-02-15',\n",
       "       '2016-07-25', '2016-05-27', '2016-05-28', '2016-10-01',\n",
       "       '2016-03-04', '2016-12-31', '2016-04-04', '2016-02-27',\n",
       "       '2016-12-07', '2016-11-17', '2016-07-12', '2016-12-12',\n",
       "       '2016-09-20', '2016-07-07', '2016-08-06', '2016-07-03',\n",
       "       '2016-10-10', '2016-03-28', '2016-11-04', '2016-06-22',\n",
       "       '2016-03-12', '2016-06-08', '2016-11-23', '2016-09-01',\n",
       "       '2016-07-09', '2016-02-29', '2016-03-15', '2016-04-28',\n",
       "       '2016-08-01', '2016-02-14', '2016-03-05', '2016-10-09',\n",
       "       '2016-03-13', '2016-04-09', '2016-12-20', '2016-11-01',\n",
       "       '2016-12-17', '2016-04-01', '2017-01-06', '2016-04-10',\n",
       "       '2017-01-08', '2016-01-28', '2016-06-09', '2016-03-08',\n",
       "       '2016-06-14', '2016-02-09', '2016-06-11', '2016-06-03',\n",
       "       '2016-09-09', '2016-03-22', '2016-02-04', '2017-01-21',\n",
       "       '2016-12-08', '2017-01-01', '2016-06-02', '2016-07-14',\n",
       "       '2016-03-16', '2016-09-15', '2016-11-18', '2016-03-10',\n",
       "       '2016-09-04', '2016-06-10', '2016-04-27', '2016-04-12',\n",
       "       '2016-07-21', '2016-03-09', '2017-01-24', '2016-02-17',\n",
       "       '2016-03-03', '2016-04-18', '2016-07-02', '2016-05-22',\n",
       "       '2016-09-30', '2016-09-29', '2016-05-01', '2016-04-29',\n",
       "       '2016-02-23', '2016-10-18', '2016-11-10', '2016-02-25',\n",
       "       '2016-09-14', '2016-05-18', '2016-05-21', '2016-06-17',\n",
       "       '2016-08-17', '2016-11-11', '2016-07-30', '2016-09-17',\n",
       "       '2016-10-25', '2016-10-03', '2016-05-13', '2016-07-01',\n",
       "       '2016-12-06', '2016-03-17', '2016-08-26', '2016-02-01',\n",
       "       '2016-05-05', '2016-04-06', '2016-12-29', '2016-10-14',\n",
       "       '2016-03-23', '2016-05-16', '2016-04-07', '2017-01-26',\n",
       "       '2016-08-09', '2016-07-29', '2016-12-16', '2016-02-02',\n",
       "       '2016-07-16', '2016-10-06', '2016-06-16', '2016-11-22',\n",
       "       '2016-06-29', '2016-07-20', '2016-11-08', '2016-08-31',\n",
       "       '2017-01-17', '2016-08-10', '2016-01-30', '2016-11-14',\n",
       "       '2016-06-18', '2016-10-16', '2016-11-12', '2016-04-03',\n",
       "       '2016-02-16', '2016-03-26', '2016-11-19', '2016-08-18',\n",
       "       '2017-01-02', '2016-11-03', '2016-11-02', '2016-09-02',\n",
       "       '2017-01-18', '2016-07-13', '2016-02-24', '2016-04-11',\n",
       "       '2016-08-02', '2016-12-19', '2016-07-17', '2016-09-28',\n",
       "       '2016-10-04', '2016-12-13', '2016-08-14', '2016-12-10',\n",
       "       '2016-08-07', '2017-01-15', '2016-05-24', '2016-10-29',\n",
       "       '2016-12-28', '2016-03-02', '2016-09-08', '2016-09-18',\n",
       "       '2016-06-04', '2016-08-05', '2016-03-01', '2016-11-20',\n",
       "       '2016-08-25', '2016-08-19', '2016-08-16', '2016-07-06',\n",
       "       '2016-02-26', '2016-05-14', '2016-09-12', '2016-04-15',\n",
       "       '2016-03-25', '2016-02-03', '2017-01-10', '2017-01-05',\n",
       "       '2016-07-28', '2017-01-09', '2016-02-06', '2016-06-13',\n",
       "       '2016-07-27', '2016-08-13', '2016-09-24', '2016-09-05',\n",
       "       '2016-08-11', '2016-11-24', '2016-03-19', '2016-08-03',\n",
       "       '2016-12-21', '2016-10-20', '2016-11-30', '2016-09-10',\n",
       "       '2016-10-15', '2016-06-25', '2016-07-19', '2017-01-13',\n",
       "       '2016-09-06', '2016-11-09', '2016-06-12', '2017-01-20',\n",
       "       '2016-05-07', '2016-09-22', '2016-10-07', '2016-07-05',\n",
       "       '2016-03-27', '2017-01-27', '2016-08-27', '2016-05-17',\n",
       "       '2016-11-27', '2017-01-25', '2016-07-08', '2016-07-10',\n",
       "       '2017-01-04', '2016-10-19', '2016-12-22', '2017-01-12',\n",
       "       '2016-02-11', '2016-08-24', '2016-06-07', '2016-12-15',\n",
       "       '2016-03-11', '2016-07-22', '2016-02-05', '2016-06-06',\n",
       "       '2016-08-20', '2016-11-16', '2016-02-12', '2016-12-03',\n",
       "       '2016-04-26', '2016-06-19', '2016-12-04', '2016-05-12',\n",
       "       '2016-05-09', '2016-12-27', '2016-05-30', '2016-12-14',\n",
       "       '2016-06-05', '2016-02-08', '2017-01-03', '2016-03-06',\n",
       "       '2016-04-02', '2016-06-01', '2016-09-13', '2016-11-05',\n",
       "       '2016-05-11', '2016-05-03', '2016-06-27', '2017-01-07',\n",
       "       '2016-03-29', '2016-07-04', '2016-10-22', '2016-12-30',\n",
       "       '2016-06-30', '2016-03-18', '2016-12-24', '2016-04-25',\n",
       "       '2016-11-29', '2016-10-13', '2016-10-23', '2017-01-19',\n",
       "       '2016-10-28', '2016-10-05', '2016-09-07', '2016-05-29',\n",
       "       '2016-11-07', '2016-04-30', '2016-10-17', '2016-06-20',\n",
       "       '2016-02-20', '2016-10-11', '2016-12-05', '2016-05-25',\n",
       "       '2016-06-23', '2016-07-15', '2016-08-29', '2016-07-18',\n",
       "       '2016-03-24', '2016-05-10', '2016-04-24', '2016-02-07',\n",
       "       '2016-04-17', '2016-12-26', '2016-10-02', '2016-03-20',\n",
       "       '2016-02-21', '2016-10-21', '2016-10-24', '2016-04-13',\n",
       "       '2016-06-28', '2016-04-14', '2017-01-14', '2017-01-16',\n",
       "       '2016-11-25', '2016-09-19', '2016-05-26', '2016-07-31',\n",
       "       '2016-08-21', '2016-09-03', '2016-05-23', '2016-08-23',\n",
       "       '2016-07-26', '2016-12-23', '2016-05-19', '2016-09-26',\n",
       "       '2016-05-08', '2016-06-24', '2016-03-14', '2016-02-22',\n",
       "       '2016-05-06', '2016-09-25', '2016-08-22', '2016-11-15',\n",
       "       '2016-02-18', '2016-04-23', '2016-06-21', '2016-08-08',\n",
       "       '2016-03-21', '2016-11-21', '2016-09-11', '2016-07-23',\n",
       "       '2016-12-11', '2016-09-16', '2017-01-23', '2016-05-31',\n",
       "       '2016-05-20', '2016-04-19', '2016-01-29', '2016-09-21',\n",
       "       '2016-10-08', '2016-05-15', '2016-04-05', '2016-02-19',\n",
       "       '2016-02-13', '2016-10-27', '2016-08-28', '2016-03-31',\n",
       "       '2017-01-11', '2016-11-13', '2016-01-31', '2016-05-02',\n",
       "       '2016-09-27', '2016-12-18', '2016-12-25', '2016-11-28',\n",
       "       '2016-08-15', '2016-08-04', '2016-02-10', '2017-01-29',\n",
       "       '2016-08-12', '2016-06-26', '2016-10-12', '2016-04-22', nan,\n",
       "       '2016-07-24', '2006-08-26', '2017-06-01', '2017-01-28',\n",
       "       '2017-06-13', '2013-05-06', '2017-06-11'], dtype=object)"
      ]
     },
     "execution_count": 53,
     "metadata": {},
     "output_type": "execute_result"
    }
   ],
   "source": [
    "data_2['date_end'].unique()"
   ]
  },
  {
   "cell_type": "code",
   "execution_count": 54,
   "id": "271108cf",
   "metadata": {},
   "outputs": [
    {
     "data": {
      "text/html": [
       "<div>\n",
       "<style scoped>\n",
       "    .dataframe tbody tr th:only-of-type {\n",
       "        vertical-align: middle;\n",
       "    }\n",
       "\n",
       "    .dataframe tbody tr th {\n",
       "        vertical-align: top;\n",
       "    }\n",
       "\n",
       "    .dataframe thead th {\n",
       "        text-align: right;\n",
       "    }\n",
       "</style>\n",
       "<table border=\"1\" class=\"dataframe\">\n",
       "  <thead>\n",
       "    <tr style=\"text-align: right;\">\n",
       "      <th></th>\n",
       "      <th>id</th>\n",
       "      <th>channel_sales</th>\n",
       "      <th>cons_12m</th>\n",
       "      <th>cons_gas_12m</th>\n",
       "      <th>cons_last_month</th>\n",
       "      <th>date_activ</th>\n",
       "      <th>date_end</th>\n",
       "      <th>date_modif_prod</th>\n",
       "      <th>date_renewal</th>\n",
       "      <th>forecast_cons_12m</th>\n",
       "      <th>...</th>\n",
       "      <th>imp_cons</th>\n",
       "      <th>margin_gross_pow_ele</th>\n",
       "      <th>margin_net_pow_ele</th>\n",
       "      <th>nb_prod_act</th>\n",
       "      <th>net_margin</th>\n",
       "      <th>num_years_antig</th>\n",
       "      <th>origin_up</th>\n",
       "      <th>pow_max</th>\n",
       "      <th>churn</th>\n",
       "      <th>end_month</th>\n",
       "    </tr>\n",
       "  </thead>\n",
       "  <tbody>\n",
       "    <tr>\n",
       "      <th>0</th>\n",
       "      <td>48ada52261e7cf58715202705a0451c9</td>\n",
       "      <td>lmkebamcaaclubfxadlmueccxoimlema</td>\n",
       "      <td>309275</td>\n",
       "      <td>0</td>\n",
       "      <td>10025</td>\n",
       "      <td>2012-11-07</td>\n",
       "      <td>2016-11-06</td>\n",
       "      <td>2012-11-07</td>\n",
       "      <td>2015-11-09</td>\n",
       "      <td>26520.30</td>\n",
       "      <td>...</td>\n",
       "      <td>831.8</td>\n",
       "      <td>-41.76</td>\n",
       "      <td>-41.76</td>\n",
       "      <td>1</td>\n",
       "      <td>1732.36</td>\n",
       "      <td>3</td>\n",
       "      <td>ldkssxwpmemidmecebumciepifcamkci</td>\n",
       "      <td>180.000</td>\n",
       "      <td>0</td>\n",
       "      <td>201611.0</td>\n",
       "    </tr>\n",
       "    <tr>\n",
       "      <th>1</th>\n",
       "      <td>24011ae4ebbe3035111d65fa7c15bc57</td>\n",
       "      <td>foosdfpfkusacimwkcsosbicdxkicaua</td>\n",
       "      <td>0</td>\n",
       "      <td>54946</td>\n",
       "      <td>0</td>\n",
       "      <td>2013-06-15</td>\n",
       "      <td>2016-06-15</td>\n",
       "      <td>NaN</td>\n",
       "      <td>2015-06-23</td>\n",
       "      <td>0.00</td>\n",
       "      <td>...</td>\n",
       "      <td>0.0</td>\n",
       "      <td>25.44</td>\n",
       "      <td>25.44</td>\n",
       "      <td>2</td>\n",
       "      <td>678.99</td>\n",
       "      <td>3</td>\n",
       "      <td>lxidpiddsbxsbosboudacockeimpuepw</td>\n",
       "      <td>43.648</td>\n",
       "      <td>1</td>\n",
       "      <td>201606.0</td>\n",
       "    </tr>\n",
       "    <tr>\n",
       "      <th>2</th>\n",
       "      <td>d29c2c54acc38ff3c0614d0a653813dd</td>\n",
       "      <td>n/a</td>\n",
       "      <td>4660</td>\n",
       "      <td>0</td>\n",
       "      <td>0</td>\n",
       "      <td>2009-08-21</td>\n",
       "      <td>2016-08-30</td>\n",
       "      <td>2009-08-21</td>\n",
       "      <td>2015-08-31</td>\n",
       "      <td>189.95</td>\n",
       "      <td>...</td>\n",
       "      <td>0.0</td>\n",
       "      <td>16.38</td>\n",
       "      <td>16.38</td>\n",
       "      <td>1</td>\n",
       "      <td>18.89</td>\n",
       "      <td>6</td>\n",
       "      <td>kamkkxfxxuwbdslkwifmmcsiusiuosws</td>\n",
       "      <td>13.800</td>\n",
       "      <td>0</td>\n",
       "      <td>201608.0</td>\n",
       "    </tr>\n",
       "  </tbody>\n",
       "</table>\n",
       "<p>3 rows × 26 columns</p>\n",
       "</div>"
      ],
      "text/plain": [
       "                                 id                     channel_sales  \\\n",
       "0  48ada52261e7cf58715202705a0451c9  lmkebamcaaclubfxadlmueccxoimlema   \n",
       "1  24011ae4ebbe3035111d65fa7c15bc57  foosdfpfkusacimwkcsosbicdxkicaua   \n",
       "2  d29c2c54acc38ff3c0614d0a653813dd                               n/a   \n",
       "\n",
       "   cons_12m  cons_gas_12m  cons_last_month  date_activ   date_end  \\\n",
       "0    309275             0            10025  2012-11-07 2016-11-06   \n",
       "1         0         54946                0  2013-06-15 2016-06-15   \n",
       "2      4660             0                0  2009-08-21 2016-08-30   \n",
       "\n",
       "  date_modif_prod date_renewal  forecast_cons_12m  ...  imp_cons  \\\n",
       "0      2012-11-07   2015-11-09           26520.30  ...     831.8   \n",
       "1             NaN   2015-06-23               0.00  ...       0.0   \n",
       "2      2009-08-21   2015-08-31             189.95  ...       0.0   \n",
       "\n",
       "   margin_gross_pow_ele  margin_net_pow_ele  nb_prod_act  net_margin  \\\n",
       "0                -41.76              -41.76            1     1732.36   \n",
       "1                 25.44               25.44            2      678.99   \n",
       "2                 16.38               16.38            1       18.89   \n",
       "\n",
       "  num_years_antig                         origin_up  pow_max  churn  end_month  \n",
       "0               3  ldkssxwpmemidmecebumciepifcamkci  180.000      0   201611.0  \n",
       "1               3  lxidpiddsbxsbosboudacockeimpuepw   43.648      1   201606.0  \n",
       "2               6  kamkkxfxxuwbdslkwifmmcsiusiuosws   13.800      0   201608.0  \n",
       "\n",
       "[3 rows x 26 columns]"
      ]
     },
     "execution_count": 54,
     "metadata": {},
     "output_type": "execute_result"
    }
   ],
   "source": [
    "data_2['date_end'] = pd.to_datetime(data_2['date_end']) # convert string Date time into Python Date time object.\n",
    "\n",
    "data_2['end_month'] = [x.year * 100 + x.month  for x in data_2['date_end']]\n",
    "data_2.head(3)"
   ]
  },
  {
   "cell_type": "code",
   "execution_count": 55,
   "id": "ac72fec9",
   "metadata": {},
   "outputs": [
    {
     "data": {
      "text/plain": [
       "201611.0    1493\n",
       "201612.0    1491\n",
       "201606.0    1483\n",
       "201610.0    1478\n",
       "201602.0    1430\n",
       "201603.0    1420\n",
       "201609.0    1231\n",
       "201608.0    1230\n",
       "201607.0    1227\n",
       "201605.0    1212\n",
       "201604.0    1084\n",
       "201701.0     943\n",
       "201601.0     106\n",
       "201706.0       3\n",
       "201305.0       1\n",
       "200608.0       1\n",
       "Name: end_month, dtype: int64"
      ]
     },
     "execution_count": 55,
     "metadata": {},
     "output_type": "execute_result"
    }
   ],
   "source": [
    "data_2.end_month.value_counts()"
   ]
  },
  {
   "cell_type": "code",
   "execution_count": 56,
   "id": "e65a4e08",
   "metadata": {},
   "outputs": [
    {
     "data": {
      "text/plain": [
       "<AxesSubplot:xlabel='count', ylabel='end_month'>"
      ]
     },
     "execution_count": 56,
     "metadata": {},
     "output_type": "execute_result"
    },
    {
     "data": {
      "image/png": "[encoded data removed]",
      "text/plain": [
       "<Figure size 432x288 with 1 Axes>"
      ]
     },
     "metadata": {
      "needs_background": "light"
     },
     "output_type": "display_data"
    }
   ],
   "source": [
    "sns.countplot(y = data_2['end_month'], data = data_2 )"
   ]
  },
  {
   "cell_type": "markdown",
   "id": "b388453e",
   "metadata": {},
   "source": [
    "We can see that most customers registered the date of the end of the contract were in 2016-10, 2016-11, 2016-12, and 2016-03, 2016-06, 2016-02, i.e. the last period or the first period of a year."
   ]
  },
  {
   "cell_type": "code",
   "execution_count": 57,
   "id": "c91537ed",
   "metadata": {},
   "outputs": [
    {
     "data": {
      "text/plain": [
       "157"
      ]
     },
     "execution_count": 57,
     "metadata": {},
     "output_type": "execute_result"
    }
   ],
   "source": [
    "data_2['date_modif_prod'].isna().sum()"
   ]
  },
  {
   "cell_type": "code",
   "execution_count": 58,
   "id": "27aca8c3",
   "metadata": {},
   "outputs": [
    {
     "data": {
      "text/plain": [
       "39"
      ]
     },
     "execution_count": 58,
     "metadata": {},
     "output_type": "execute_result"
    }
   ],
   "source": [
    "data_2['date_renewal'].isna().sum()"
   ]
  },
  {
   "cell_type": "code",
   "execution_count": 59,
   "id": "fbb15b54",
   "metadata": {},
   "outputs": [],
   "source": [
    "data_2['date_modif_prod'].fillna(data_2['date_end'], inplace = True)"
   ]
  },
  {
   "cell_type": "code",
   "execution_count": 60,
   "id": "7bcaf74c",
   "metadata": {},
   "outputs": [],
   "source": [
    "data_2['date_renewal'].fillna('n/a', inplace = True)"
   ]
  },
  {
   "cell_type": "code",
   "execution_count": 61,
   "id": "90d1a088",
   "metadata": {},
   "outputs": [
    {
     "data": {
      "text/html": [
       "<div>\n",
       "<style scoped>\n",
       "    .dataframe tbody tr th:only-of-type {\n",
       "        vertical-align: middle;\n",
       "    }\n",
       "\n",
       "    .dataframe tbody tr th {\n",
       "        vertical-align: top;\n",
       "    }\n",
       "\n",
       "    .dataframe thead th {\n",
       "        text-align: right;\n",
       "    }\n",
       "</style>\n",
       "<table border=\"1\" class=\"dataframe\">\n",
       "  <thead>\n",
       "    <tr style=\"text-align: right;\">\n",
       "      <th></th>\n",
       "      <th>Number of null values</th>\n",
       "      <th>Percentage</th>\n",
       "    </tr>\n",
       "  </thead>\n",
       "  <tbody>\n",
       "    <tr>\n",
       "      <th>channel_sales</th>\n",
       "      <td>4091</td>\n",
       "      <td>25.84</td>\n",
       "    </tr>\n",
       "    <tr>\n",
       "      <th>date_end</th>\n",
       "      <td>2</td>\n",
       "      <td>0.01</td>\n",
       "    </tr>\n",
       "    <tr>\n",
       "      <th>date_modif_prod</th>\n",
       "      <td>157</td>\n",
       "      <td>0.99</td>\n",
       "    </tr>\n",
       "    <tr>\n",
       "      <th>date_renewal</th>\n",
       "      <td>39</td>\n",
       "      <td>0.25</td>\n",
       "    </tr>\n",
       "    <tr>\n",
       "      <th>forecast_discount_energy</th>\n",
       "      <td>122</td>\n",
       "      <td>0.77</td>\n",
       "    </tr>\n",
       "    <tr>\n",
       "      <th>forecast_price_energy_p1</th>\n",
       "      <td>122</td>\n",
       "      <td>0.77</td>\n",
       "    </tr>\n",
       "    <tr>\n",
       "      <th>forecast_price_energy_p2</th>\n",
       "      <td>122</td>\n",
       "      <td>0.77</td>\n",
       "    </tr>\n",
       "    <tr>\n",
       "      <th>forecast_price_pow_p1</th>\n",
       "      <td>122</td>\n",
       "      <td>0.77</td>\n",
       "    </tr>\n",
       "    <tr>\n",
       "      <th>margin_gross_pow_ele</th>\n",
       "      <td>12</td>\n",
       "      <td>0.08</td>\n",
       "    </tr>\n",
       "    <tr>\n",
       "      <th>margin_net_pow_ele</th>\n",
       "      <td>12</td>\n",
       "      <td>0.08</td>\n",
       "    </tr>\n",
       "    <tr>\n",
       "      <th>net_margin</th>\n",
       "      <td>14</td>\n",
       "      <td>0.09</td>\n",
       "    </tr>\n",
       "    <tr>\n",
       "      <th>origin_up</th>\n",
       "      <td>86</td>\n",
       "      <td>0.54</td>\n",
       "    </tr>\n",
       "    <tr>\n",
       "      <th>pow_max</th>\n",
       "      <td>3</td>\n",
       "      <td>0.02</td>\n",
       "    </tr>\n",
       "  </tbody>\n",
       "</table>\n",
       "</div>"
      ],
      "text/plain": [
       "                          Number of null values  Percentage\n",
       "channel_sales                              4091       25.84\n",
       "date_end                                      2        0.01\n",
       "date_modif_prod                             157        0.99\n",
       "date_renewal                                 39        0.25\n",
       "forecast_discount_energy                    122        0.77\n",
       "forecast_price_energy_p1                    122        0.77\n",
       "forecast_price_energy_p2                    122        0.77\n",
       "forecast_price_pow_p1                       122        0.77\n",
       "margin_gross_pow_ele                         12        0.08\n",
       "margin_net_pow_ele                           12        0.08\n",
       "net_margin                                   14        0.09\n",
       "origin_up                                    86        0.54\n",
       "pow_max                                       3        0.02"
      ]
     },
     "execution_count": 61,
     "metadata": {},
     "output_type": "execute_result"
    }
   ],
   "source": [
    "null_frame"
   ]
  },
  {
   "cell_type": "code",
   "execution_count": 62,
   "id": "55f36552",
   "metadata": {},
   "outputs": [
    {
     "data": {
      "text/plain": [
       "Index(['id', 'channel_sales', 'cons_12m', 'cons_gas_12m', 'cons_last_month',\n",
       "       'date_activ', 'date_end', 'date_modif_prod', 'date_renewal',\n",
       "       'forecast_cons_12m', 'forecast_cons_year', 'forecast_meter_rent_12m',\n",
       "       'forecast_price_energy_p1', 'forecast_price_energy_p2',\n",
       "       'forecast_price_pow_p1', 'has_gas', 'imp_cons', 'margin_gross_pow_ele',\n",
       "       'margin_net_pow_ele', 'nb_prod_act', 'net_margin', 'num_years_antig',\n",
       "       'origin_up', 'pow_max', 'churn', 'end_month'],\n",
       "      dtype='object')"
      ]
     },
     "execution_count": 62,
     "metadata": {},
     "output_type": "execute_result"
    }
   ],
   "source": [
    "data_2.columns"
   ]
  },
  {
   "cell_type": "code",
   "execution_count": 63,
   "id": "1b37df24",
   "metadata": {},
   "outputs": [],
   "source": [
    "data_2['forecast_price_energy_p1'].fillna(data_2['forecast_price_energy_p1'].mean(), inplace = True)\n",
    "data_2['forecast_price_energy_p2'].fillna(data_2['forecast_price_energy_p2'].mean(), inplace = True)\n",
    "data_2['forecast_price_pow_p1'].fillna(data_2['forecast_price_pow_p1'].mean(), inplace = True)\n",
    "data_2['margin_gross_pow_ele'].fillna(data_2['margin_gross_pow_ele'].mean(), inplace = True)"
   ]
  },
  {
   "cell_type": "code",
   "execution_count": 64,
   "id": "43973efe",
   "metadata": {},
   "outputs": [],
   "source": [
    "data_2['margin_net_pow_ele'].fillna(data_2['margin_net_pow_ele'].mean(), inplace = True)\n",
    "data_2['net_margin'].fillna(data_2['net_margin'].mean(), inplace = True)\n",
    "data_2['pow_max'].fillna(data_2['pow_max'].mean(), inplace = True)"
   ]
  },
  {
   "cell_type": "code",
   "execution_count": 65,
   "id": "0a0daa7e",
   "metadata": {},
   "outputs": [
    {
     "data": {
      "text/plain": [
       "lxidpiddsbxsbosboudacockeimpuepw    7698\n",
       "kamkkxfxxuwbdslkwifmmcsiusiuosws    4479\n",
       "ldkssxwpmemidmecebumciepifcamkci    3569\n",
       "NaN                                   86\n",
       "usapbepcfoloekilkwsdiboslwaxobdp       2\n",
       "ewxeelcelemmiwuafmddpobolfuxioce       1\n",
       "Name: origin_up, dtype: int64"
      ]
     },
     "execution_count": 65,
     "metadata": {},
     "output_type": "execute_result"
    }
   ],
   "source": [
    "data_2.origin_up.value_counts(dropna = False)"
   ]
  },
  {
   "cell_type": "code",
   "execution_count": 66,
   "id": "68c0eb9b",
   "metadata": {},
   "outputs": [],
   "source": [
    "data_2['origin_up'].fillna('n/a', inplace = True)"
   ]
  },
  {
   "cell_type": "code",
   "execution_count": 67,
   "id": "530efce1",
   "metadata": {},
   "outputs": [
    {
     "name": "stdout",
     "output_type": "stream",
     "text": [
      "<class 'pandas.core.frame.DataFrame'>\n",
      "Int64Index: 15835 entries, 0 to 16095\n",
      "Data columns (total 26 columns):\n",
      " #   Column                    Non-Null Count  Dtype         \n",
      "---  ------                    --------------  -----         \n",
      " 0   id                        15835 non-null  object        \n",
      " 1   channel_sales             15835 non-null  object        \n",
      " 2   cons_12m                  15835 non-null  int64         \n",
      " 3   cons_gas_12m              15835 non-null  int64         \n",
      " 4   cons_last_month           15835 non-null  int64         \n",
      " 5   date_activ                15835 non-null  object        \n",
      " 6   date_end                  15833 non-null  datetime64[ns]\n",
      " 7   date_modif_prod           15834 non-null  object        \n",
      " 8   date_renewal              15835 non-null  object        \n",
      " 9   forecast_cons_12m         15835 non-null  float64       \n",
      " 10  forecast_cons_year        15835 non-null  int64         \n",
      " 11  forecast_meter_rent_12m   15835 non-null  float64       \n",
      " 12  forecast_price_energy_p1  15835 non-null  float64       \n",
      " 13  forecast_price_energy_p2  15835 non-null  float64       \n",
      " 14  forecast_price_pow_p1     15835 non-null  float64       \n",
      " 15  has_gas                   15835 non-null  object        \n",
      " 16  imp_cons                  15835 non-null  float64       \n",
      " 17  margin_gross_pow_ele      15835 non-null  float64       \n",
      " 18  margin_net_pow_ele        15835 non-null  float64       \n",
      " 19  nb_prod_act               15835 non-null  int64         \n",
      " 20  net_margin                15835 non-null  float64       \n",
      " 21  num_years_antig           15835 non-null  int64         \n",
      " 22  origin_up                 15835 non-null  object        \n",
      " 23  pow_max                   15835 non-null  float64       \n",
      " 24  churn                     15835 non-null  int64         \n",
      " 25  end_month                 15833 non-null  float64       \n",
      "dtypes: datetime64[ns](1), float64(11), int64(7), object(7)\n",
      "memory usage: 3.8+ MB\n"
     ]
    }
   ],
   "source": [
    "data_2.info()"
   ]
  },
  {
   "cell_type": "code",
   "execution_count": 68,
   "id": "02d13c95",
   "metadata": {},
   "outputs": [
    {
     "data": {
      "text/html": [
       "<div>\n",
       "<style scoped>\n",
       "    .dataframe tbody tr th:only-of-type {\n",
       "        vertical-align: middle;\n",
       "    }\n",
       "\n",
       "    .dataframe tbody tr th {\n",
       "        vertical-align: top;\n",
       "    }\n",
       "\n",
       "    .dataframe thead th {\n",
       "        text-align: right;\n",
       "    }\n",
       "</style>\n",
       "<table border=\"1\" class=\"dataframe\">\n",
       "  <thead>\n",
       "    <tr style=\"text-align: right;\">\n",
       "      <th></th>\n",
       "      <th>id</th>\n",
       "      <th>channel_sales</th>\n",
       "      <th>cons_12m</th>\n",
       "      <th>cons_gas_12m</th>\n",
       "      <th>cons_last_month</th>\n",
       "      <th>date_activ</th>\n",
       "      <th>date_end</th>\n",
       "      <th>date_modif_prod</th>\n",
       "      <th>date_renewal</th>\n",
       "      <th>forecast_cons_12m</th>\n",
       "      <th>...</th>\n",
       "      <th>imp_cons</th>\n",
       "      <th>margin_gross_pow_ele</th>\n",
       "      <th>margin_net_pow_ele</th>\n",
       "      <th>nb_prod_act</th>\n",
       "      <th>net_margin</th>\n",
       "      <th>num_years_antig</th>\n",
       "      <th>origin_up</th>\n",
       "      <th>pow_max</th>\n",
       "      <th>churn</th>\n",
       "      <th>end_month</th>\n",
       "    </tr>\n",
       "  </thead>\n",
       "  <tbody>\n",
       "    <tr>\n",
       "      <th>0</th>\n",
       "      <td>48ada52261e7cf58715202705a0451c9</td>\n",
       "      <td>lmkebamcaaclubfxadlmueccxoimlema</td>\n",
       "      <td>309275</td>\n",
       "      <td>0</td>\n",
       "      <td>10025</td>\n",
       "      <td>2012-11-07</td>\n",
       "      <td>2016-11-06</td>\n",
       "      <td>2012-11-07</td>\n",
       "      <td>2015-11-09</td>\n",
       "      <td>26520.30</td>\n",
       "      <td>...</td>\n",
       "      <td>831.8</td>\n",
       "      <td>-41.76</td>\n",
       "      <td>-41.76</td>\n",
       "      <td>1</td>\n",
       "      <td>1732.36</td>\n",
       "      <td>3</td>\n",
       "      <td>ldkssxwpmemidmecebumciepifcamkci</td>\n",
       "      <td>180.000</td>\n",
       "      <td>0</td>\n",
       "      <td>201611.0</td>\n",
       "    </tr>\n",
       "    <tr>\n",
       "      <th>1</th>\n",
       "      <td>24011ae4ebbe3035111d65fa7c15bc57</td>\n",
       "      <td>foosdfpfkusacimwkcsosbicdxkicaua</td>\n",
       "      <td>0</td>\n",
       "      <td>54946</td>\n",
       "      <td>0</td>\n",
       "      <td>2013-06-15</td>\n",
       "      <td>2016-06-15</td>\n",
       "      <td>2016-06-15 00:00:00</td>\n",
       "      <td>2015-06-23</td>\n",
       "      <td>0.00</td>\n",
       "      <td>...</td>\n",
       "      <td>0.0</td>\n",
       "      <td>25.44</td>\n",
       "      <td>25.44</td>\n",
       "      <td>2</td>\n",
       "      <td>678.99</td>\n",
       "      <td>3</td>\n",
       "      <td>lxidpiddsbxsbosboudacockeimpuepw</td>\n",
       "      <td>43.648</td>\n",
       "      <td>1</td>\n",
       "      <td>201606.0</td>\n",
       "    </tr>\n",
       "    <tr>\n",
       "      <th>2</th>\n",
       "      <td>d29c2c54acc38ff3c0614d0a653813dd</td>\n",
       "      <td>n/a</td>\n",
       "      <td>4660</td>\n",
       "      <td>0</td>\n",
       "      <td>0</td>\n",
       "      <td>2009-08-21</td>\n",
       "      <td>2016-08-30</td>\n",
       "      <td>2009-08-21</td>\n",
       "      <td>2015-08-31</td>\n",
       "      <td>189.95</td>\n",
       "      <td>...</td>\n",
       "      <td>0.0</td>\n",
       "      <td>16.38</td>\n",
       "      <td>16.38</td>\n",
       "      <td>1</td>\n",
       "      <td>18.89</td>\n",
       "      <td>6</td>\n",
       "      <td>kamkkxfxxuwbdslkwifmmcsiusiuosws</td>\n",
       "      <td>13.800</td>\n",
       "      <td>0</td>\n",
       "      <td>201608.0</td>\n",
       "    </tr>\n",
       "    <tr>\n",
       "      <th>3</th>\n",
       "      <td>764c75f661154dac3a6c254cd082ea7d</td>\n",
       "      <td>foosdfpfkusacimwkcsosbicdxkicaua</td>\n",
       "      <td>544</td>\n",
       "      <td>0</td>\n",
       "      <td>0</td>\n",
       "      <td>2010-04-16</td>\n",
       "      <td>2016-04-16</td>\n",
       "      <td>2010-04-16</td>\n",
       "      <td>2015-04-17</td>\n",
       "      <td>47.96</td>\n",
       "      <td>...</td>\n",
       "      <td>0.0</td>\n",
       "      <td>28.60</td>\n",
       "      <td>28.60</td>\n",
       "      <td>1</td>\n",
       "      <td>6.60</td>\n",
       "      <td>6</td>\n",
       "      <td>kamkkxfxxuwbdslkwifmmcsiusiuosws</td>\n",
       "      <td>13.856</td>\n",
       "      <td>0</td>\n",
       "      <td>201604.0</td>\n",
       "    </tr>\n",
       "    <tr>\n",
       "      <th>4</th>\n",
       "      <td>bba03439a292a1e166f80264c16191cb</td>\n",
       "      <td>lmkebamcaaclubfxadlmueccxoimlema</td>\n",
       "      <td>1584</td>\n",
       "      <td>0</td>\n",
       "      <td>0</td>\n",
       "      <td>2010-03-30</td>\n",
       "      <td>2016-03-30</td>\n",
       "      <td>2010-03-30</td>\n",
       "      <td>2015-03-31</td>\n",
       "      <td>240.04</td>\n",
       "      <td>...</td>\n",
       "      <td>0.0</td>\n",
       "      <td>30.22</td>\n",
       "      <td>30.22</td>\n",
       "      <td>1</td>\n",
       "      <td>25.46</td>\n",
       "      <td>6</td>\n",
       "      <td>kamkkxfxxuwbdslkwifmmcsiusiuosws</td>\n",
       "      <td>13.200</td>\n",
       "      <td>0</td>\n",
       "      <td>201603.0</td>\n",
       "    </tr>\n",
       "  </tbody>\n",
       "</table>\n",
       "<p>5 rows × 26 columns</p>\n",
       "</div>"
      ],
      "text/plain": [
       "                                 id                     channel_sales  \\\n",
       "0  48ada52261e7cf58715202705a0451c9  lmkebamcaaclubfxadlmueccxoimlema   \n",
       "1  24011ae4ebbe3035111d65fa7c15bc57  foosdfpfkusacimwkcsosbicdxkicaua   \n",
       "2  d29c2c54acc38ff3c0614d0a653813dd                               n/a   \n",
       "3  764c75f661154dac3a6c254cd082ea7d  foosdfpfkusacimwkcsosbicdxkicaua   \n",
       "4  bba03439a292a1e166f80264c16191cb  lmkebamcaaclubfxadlmueccxoimlema   \n",
       "\n",
       "   cons_12m  cons_gas_12m  cons_last_month  date_activ   date_end  \\\n",
       "0    309275             0            10025  2012-11-07 2016-11-06   \n",
       "1         0         54946                0  2013-06-15 2016-06-15   \n",
       "2      4660             0                0  2009-08-21 2016-08-30   \n",
       "3       544             0                0  2010-04-16 2016-04-16   \n",
       "4      1584             0                0  2010-03-30 2016-03-30   \n",
       "\n",
       "       date_modif_prod date_renewal  forecast_cons_12m  ...  imp_cons  \\\n",
       "0           2012-11-07   2015-11-09           26520.30  ...     831.8   \n",
       "1  2016-06-15 00:00:00   2015-06-23               0.00  ...       0.0   \n",
       "2           2009-08-21   2015-08-31             189.95  ...       0.0   \n",
       "3           2010-04-16   2015-04-17              47.96  ...       0.0   \n",
       "4           2010-03-30   2015-03-31             240.04  ...       0.0   \n",
       "\n",
       "   margin_gross_pow_ele  margin_net_pow_ele  nb_prod_act  net_margin  \\\n",
       "0                -41.76              -41.76            1     1732.36   \n",
       "1                 25.44               25.44            2      678.99   \n",
       "2                 16.38               16.38            1       18.89   \n",
       "3                 28.60               28.60            1        6.60   \n",
       "4                 30.22               30.22            1       25.46   \n",
       "\n",
       "  num_years_antig                         origin_up  pow_max  churn  end_month  \n",
       "0               3  ldkssxwpmemidmecebumciepifcamkci  180.000      0   201611.0  \n",
       "1               3  lxidpiddsbxsbosboudacockeimpuepw   43.648      1   201606.0  \n",
       "2               6  kamkkxfxxuwbdslkwifmmcsiusiuosws   13.800      0   201608.0  \n",
       "3               6  kamkkxfxxuwbdslkwifmmcsiusiuosws   13.856      0   201604.0  \n",
       "4               6  kamkkxfxxuwbdslkwifmmcsiusiuosws   13.200      0   201603.0  \n",
       "\n",
       "[5 rows x 26 columns]"
      ]
     },
     "execution_count": 68,
     "metadata": {},
     "output_type": "execute_result"
    }
   ],
   "source": [
    "data_2.head()"
   ]
  },
  {
   "cell_type": "code",
   "execution_count": 69,
   "id": "e81f7372",
   "metadata": {},
   "outputs": [
    {
     "data": {
      "text/plain": [
       "0    14258\n",
       "1     1577\n",
       "Name: churn, dtype: int64"
      ]
     },
     "execution_count": 69,
     "metadata": {},
     "output_type": "execute_result"
    }
   ],
   "source": [
    "data_2.churn.value_counts(dropna =False)"
   ]
  },
  {
   "cell_type": "code",
   "execution_count": 70,
   "id": "717a828c",
   "metadata": {},
   "outputs": [],
   "source": [
    "data_2.to_csv('C:/Users/Guoli/Documents/Data Science Material/Projects/BCG/Task 2/data_2.csv')\n",
    "my_data = data_2.copy()"
   ]
  },
  {
   "cell_type": "code",
   "execution_count": 71,
   "id": "940e496a",
   "metadata": {
    "scrolled": true
   },
   "outputs": [
    {
     "data": {
      "text/html": [
       "<div>\n",
       "<style scoped>\n",
       "    .dataframe tbody tr th:only-of-type {\n",
       "        vertical-align: middle;\n",
       "    }\n",
       "\n",
       "    .dataframe tbody tr th {\n",
       "        vertical-align: top;\n",
       "    }\n",
       "\n",
       "    .dataframe thead th {\n",
       "        text-align: right;\n",
       "    }\n",
       "</style>\n",
       "<table border=\"1\" class=\"dataframe\">\n",
       "  <thead>\n",
       "    <tr style=\"text-align: right;\">\n",
       "      <th></th>\n",
       "      <th>id</th>\n",
       "      <th>channel_sales</th>\n",
       "      <th>cons_12m</th>\n",
       "      <th>cons_gas_12m</th>\n",
       "      <th>cons_last_month</th>\n",
       "      <th>date_activ</th>\n",
       "      <th>date_end</th>\n",
       "      <th>date_modif_prod</th>\n",
       "      <th>date_renewal</th>\n",
       "      <th>forecast_cons_12m</th>\n",
       "      <th>...</th>\n",
       "      <th>imp_cons</th>\n",
       "      <th>margin_gross_pow_ele</th>\n",
       "      <th>margin_net_pow_ele</th>\n",
       "      <th>nb_prod_act</th>\n",
       "      <th>net_margin</th>\n",
       "      <th>num_years_antig</th>\n",
       "      <th>origin_up</th>\n",
       "      <th>pow_max</th>\n",
       "      <th>churn</th>\n",
       "      <th>end_month</th>\n",
       "    </tr>\n",
       "  </thead>\n",
       "  <tbody>\n",
       "    <tr>\n",
       "      <th>0</th>\n",
       "      <td>48ada52261e7cf58715202705a0451c9</td>\n",
       "      <td>lmkebamcaaclubfxadlmueccxoimlema</td>\n",
       "      <td>309275</td>\n",
       "      <td>0</td>\n",
       "      <td>10025</td>\n",
       "      <td>2012-11-07</td>\n",
       "      <td>2016-11-06</td>\n",
       "      <td>2012-11-07</td>\n",
       "      <td>2015-11-09</td>\n",
       "      <td>26520.3</td>\n",
       "      <td>...</td>\n",
       "      <td>831.8</td>\n",
       "      <td>-41.76</td>\n",
       "      <td>-41.76</td>\n",
       "      <td>1</td>\n",
       "      <td>1732.36</td>\n",
       "      <td>3</td>\n",
       "      <td>ldkssxwpmemidmecebumciepifcamkci</td>\n",
       "      <td>180.000</td>\n",
       "      <td>0</td>\n",
       "      <td>201611.0</td>\n",
       "    </tr>\n",
       "    <tr>\n",
       "      <th>1</th>\n",
       "      <td>24011ae4ebbe3035111d65fa7c15bc57</td>\n",
       "      <td>foosdfpfkusacimwkcsosbicdxkicaua</td>\n",
       "      <td>0</td>\n",
       "      <td>54946</td>\n",
       "      <td>0</td>\n",
       "      <td>2013-06-15</td>\n",
       "      <td>2016-06-15</td>\n",
       "      <td>2016-06-15 00:00:00</td>\n",
       "      <td>2015-06-23</td>\n",
       "      <td>0.0</td>\n",
       "      <td>...</td>\n",
       "      <td>0.0</td>\n",
       "      <td>25.44</td>\n",
       "      <td>25.44</td>\n",
       "      <td>2</td>\n",
       "      <td>678.99</td>\n",
       "      <td>3</td>\n",
       "      <td>lxidpiddsbxsbosboudacockeimpuepw</td>\n",
       "      <td>43.648</td>\n",
       "      <td>1</td>\n",
       "      <td>201606.0</td>\n",
       "    </tr>\n",
       "  </tbody>\n",
       "</table>\n",
       "<p>2 rows × 26 columns</p>\n",
       "</div>"
      ],
      "text/plain": [
       "                                 id                     channel_sales  \\\n",
       "0  48ada52261e7cf58715202705a0451c9  lmkebamcaaclubfxadlmueccxoimlema   \n",
       "1  24011ae4ebbe3035111d65fa7c15bc57  foosdfpfkusacimwkcsosbicdxkicaua   \n",
       "\n",
       "   cons_12m  cons_gas_12m  cons_last_month  date_activ   date_end  \\\n",
       "0    309275             0            10025  2012-11-07 2016-11-06   \n",
       "1         0         54946                0  2013-06-15 2016-06-15   \n",
       "\n",
       "       date_modif_prod date_renewal  forecast_cons_12m  ...  imp_cons  \\\n",
       "0           2012-11-07   2015-11-09            26520.3  ...     831.8   \n",
       "1  2016-06-15 00:00:00   2015-06-23                0.0  ...       0.0   \n",
       "\n",
       "   margin_gross_pow_ele  margin_net_pow_ele  nb_prod_act  net_margin  \\\n",
       "0                -41.76              -41.76            1     1732.36   \n",
       "1                 25.44               25.44            2      678.99   \n",
       "\n",
       "  num_years_antig                         origin_up  pow_max  churn  end_month  \n",
       "0               3  ldkssxwpmemidmecebumciepifcamkci  180.000      0   201611.0  \n",
       "1               3  lxidpiddsbxsbosboudacockeimpuepw   43.648      1   201606.0  \n",
       "\n",
       "[2 rows x 26 columns]"
      ]
     },
     "execution_count": 71,
     "metadata": {},
     "output_type": "execute_result"
    }
   ],
   "source": [
    "my_data.head(2)"
   ]
  },
  {
   "cell_type": "markdown",
   "id": "ab5415f2",
   "metadata": {},
   "source": [
    "Check if there is any duplicates"
   ]
  },
  {
   "cell_type": "code",
   "execution_count": 72,
   "id": "9896661a",
   "metadata": {},
   "outputs": [
    {
     "data": {
      "text/html": [
       "<div>\n",
       "<style scoped>\n",
       "    .dataframe tbody tr th:only-of-type {\n",
       "        vertical-align: middle;\n",
       "    }\n",
       "\n",
       "    .dataframe tbody tr th {\n",
       "        vertical-align: top;\n",
       "    }\n",
       "\n",
       "    .dataframe thead th {\n",
       "        text-align: right;\n",
       "    }\n",
       "</style>\n",
       "<table border=\"1\" class=\"dataframe\">\n",
       "  <thead>\n",
       "    <tr style=\"text-align: right;\">\n",
       "      <th></th>\n",
       "      <th>id</th>\n",
       "      <th>channel_sales</th>\n",
       "      <th>cons_12m</th>\n",
       "      <th>cons_gas_12m</th>\n",
       "      <th>cons_last_month</th>\n",
       "      <th>date_activ</th>\n",
       "      <th>date_end</th>\n",
       "      <th>date_modif_prod</th>\n",
       "      <th>date_renewal</th>\n",
       "      <th>forecast_cons_12m</th>\n",
       "      <th>...</th>\n",
       "      <th>imp_cons</th>\n",
       "      <th>margin_gross_pow_ele</th>\n",
       "      <th>margin_net_pow_ele</th>\n",
       "      <th>nb_prod_act</th>\n",
       "      <th>net_margin</th>\n",
       "      <th>num_years_antig</th>\n",
       "      <th>origin_up</th>\n",
       "      <th>pow_max</th>\n",
       "      <th>churn</th>\n",
       "      <th>end_month</th>\n",
       "    </tr>\n",
       "  </thead>\n",
       "  <tbody>\n",
       "  </tbody>\n",
       "</table>\n",
       "<p>0 rows × 26 columns</p>\n",
       "</div>"
      ],
      "text/plain": [
       "Empty DataFrame\n",
       "Columns: [id, channel_sales, cons_12m, cons_gas_12m, cons_last_month, date_activ, date_end, date_modif_prod, date_renewal, forecast_cons_12m, forecast_cons_year, forecast_meter_rent_12m, forecast_price_energy_p1, forecast_price_energy_p2, forecast_price_pow_p1, has_gas, imp_cons, margin_gross_pow_ele, margin_net_pow_ele, nb_prod_act, net_margin, num_years_antig, origin_up, pow_max, churn, end_month]\n",
       "Index: []\n",
       "\n",
       "[0 rows x 26 columns]"
      ]
     },
     "execution_count": 72,
     "metadata": {},
     "output_type": "execute_result"
    }
   ],
   "source": [
    "my_data[my_data.duplicated()]"
   ]
  },
  {
   "cell_type": "markdown",
   "id": "cbdd80be",
   "metadata": {},
   "source": [
    "### cons_12 & cons_gas_12m & cons_last_month vs churn"
   ]
  },
  {
   "cell_type": "code",
   "execution_count": 73,
   "id": "ffec0974",
   "metadata": {
    "scrolled": true
   },
   "outputs": [
    {
     "data": {
      "text/plain": [
       "<AxesSubplot:xlabel='cons_12m'>"
      ]
     },
     "execution_count": 73,
     "metadata": {},
     "output_type": "execute_result"
    },
    {
     "data": {
      "image/png": "[encoded data removed]",
      "text/plain": [
       "<Figure size 432x288 with 1 Axes>"
      ]
     },
     "metadata": {
      "needs_background": "light"
     },
     "output_type": "display_data"
    }
   ],
   "source": [
    "sns.boxplot(my_data['cons_12m'])"
   ]
  },
  {
   "cell_type": "code",
   "execution_count": 74,
   "id": "64c3f8f8",
   "metadata": {},
   "outputs": [],
   "source": [
    "cons_12m = my_data[['cons_12m', 'churn']]\n",
    "cons_12m_1 =cons_12m[cons_12m['churn']==1]\n",
    "cons_12m_0 = cons_12m[cons_12m['churn'] == 0]"
   ]
  },
  {
   "cell_type": "code",
   "execution_count": 75,
   "id": "bfbcf28d",
   "metadata": {},
   "outputs": [
    {
     "data": {
      "text/html": [
       "<div>\n",
       "<style scoped>\n",
       "    .dataframe tbody tr th:only-of-type {\n",
       "        vertical-align: middle;\n",
       "    }\n",
       "\n",
       "    .dataframe tbody tr th {\n",
       "        vertical-align: top;\n",
       "    }\n",
       "\n",
       "    .dataframe thead th {\n",
       "        text-align: right;\n",
       "    }\n",
       "</style>\n",
       "<table border=\"1\" class=\"dataframe\">\n",
       "  <thead>\n",
       "    <tr style=\"text-align: right;\">\n",
       "      <th></th>\n",
       "      <th>cons_12m</th>\n",
       "      <th>churn</th>\n",
       "    </tr>\n",
       "  </thead>\n",
       "  <tbody>\n",
       "    <tr>\n",
       "      <th>1</th>\n",
       "      <td>0</td>\n",
       "      <td>1</td>\n",
       "    </tr>\n",
       "    <tr>\n",
       "      <th>7</th>\n",
       "      <td>8302</td>\n",
       "      <td>1</td>\n",
       "    </tr>\n",
       "    <tr>\n",
       "      <th>8</th>\n",
       "      <td>45097</td>\n",
       "      <td>1</td>\n",
       "    </tr>\n",
       "    <tr>\n",
       "      <th>26</th>\n",
       "      <td>21097</td>\n",
       "      <td>1</td>\n",
       "    </tr>\n",
       "    <tr>\n",
       "      <th>29</th>\n",
       "      <td>3584</td>\n",
       "      <td>1</td>\n",
       "    </tr>\n",
       "  </tbody>\n",
       "</table>\n",
       "</div>"
      ],
      "text/plain": [
       "    cons_12m  churn\n",
       "1          0      1\n",
       "7       8302      1\n",
       "8      45097      1\n",
       "26     21097      1\n",
       "29      3584      1"
      ]
     },
     "execution_count": 75,
     "metadata": {},
     "output_type": "execute_result"
    }
   ],
   "source": [
    "cons_12m_1.head()"
   ]
  },
  {
   "cell_type": "code",
   "execution_count": 76,
   "id": "adfc39c6",
   "metadata": {},
   "outputs": [
    {
     "data": {
      "text/html": [
       "<div>\n",
       "<style scoped>\n",
       "    .dataframe tbody tr th:only-of-type {\n",
       "        vertical-align: middle;\n",
       "    }\n",
       "\n",
       "    .dataframe tbody tr th {\n",
       "        vertical-align: top;\n",
       "    }\n",
       "\n",
       "    .dataframe thead th {\n",
       "        text-align: right;\n",
       "    }\n",
       "</style>\n",
       "<table border=\"1\" class=\"dataframe\">\n",
       "  <thead>\n",
       "    <tr style=\"text-align: right;\">\n",
       "      <th></th>\n",
       "      <th>cons_12m</th>\n",
       "      <th>churn</th>\n",
       "    </tr>\n",
       "  </thead>\n",
       "  <tbody>\n",
       "    <tr>\n",
       "      <th>0</th>\n",
       "      <td>309275</td>\n",
       "      <td>0</td>\n",
       "    </tr>\n",
       "    <tr>\n",
       "      <th>2</th>\n",
       "      <td>4660</td>\n",
       "      <td>0</td>\n",
       "    </tr>\n",
       "    <tr>\n",
       "      <th>3</th>\n",
       "      <td>544</td>\n",
       "      <td>0</td>\n",
       "    </tr>\n",
       "    <tr>\n",
       "      <th>4</th>\n",
       "      <td>1584</td>\n",
       "      <td>0</td>\n",
       "    </tr>\n",
       "    <tr>\n",
       "      <th>5</th>\n",
       "      <td>121335</td>\n",
       "      <td>0</td>\n",
       "    </tr>\n",
       "  </tbody>\n",
       "</table>\n",
       "</div>"
      ],
      "text/plain": [
       "   cons_12m  churn\n",
       "0    309275      0\n",
       "2      4660      0\n",
       "3       544      0\n",
       "4      1584      0\n",
       "5    121335      0"
      ]
     },
     "execution_count": 76,
     "metadata": {},
     "output_type": "execute_result"
    }
   ],
   "source": [
    "cons_12m_0.head()"
   ]
  },
  {
   "cell_type": "code",
   "execution_count": 77,
   "id": "b943f90d",
   "metadata": {},
   "outputs": [],
   "source": [
    "cons_gas_12m = my_data[['cons_gas_12m', 'churn']]\n",
    "cons_gas_12m_1 = cons_gas_12m[cons_gas_12m['churn'] == 1]\n",
    "cons_gas_12m_0 = cons_gas_12m[cons_gas_12m['churn'] == 0]"
   ]
  },
  {
   "cell_type": "code",
   "execution_count": 78,
   "id": "6d147af4",
   "metadata": {},
   "outputs": [],
   "source": [
    "cons_last_month = my_data[['cons_last_month', 'churn']]\n",
    "cons_last_month_0 = cons_last_month[cons_last_month['churn'] == 0]\n",
    "cons_last_month_1 = cons_last_month[cons_last_month['churn'] == 1]"
   ]
  },
  {
   "cell_type": "code",
   "execution_count": 79,
   "id": "aeae27ba",
   "metadata": {},
   "outputs": [],
   "source": [
    "forecast_cons_12m = my_data[['forecast_cons_12m', 'churn']]\n",
    "forecast_cons_12m_1 =forecast_cons_12m[forecast_cons_12m['churn']==1]\n",
    "forecast_cons_12m_0 = forecast_cons_12m[forecast_cons_12m['churn'] == 0]"
   ]
  },
  {
   "cell_type": "code",
   "execution_count": 80,
   "id": "c6a34bf8",
   "metadata": {},
   "outputs": [],
   "source": [
    "forecast_cons_year = my_data[['forecast_cons_year', 'churn']]\n",
    "forecast_cons_year_1 =forecast_cons_year[forecast_cons_year['churn']==1]\n",
    "forecast_cons_year_0 = forecast_cons_year[forecast_cons_year['churn'] == 0]"
   ]
  },
  {
   "cell_type": "code",
   "execution_count": 81,
   "id": "a4bc5989",
   "metadata": {},
   "outputs": [
    {
     "data": {
      "text/html": [
       "<div>\n",
       "<style scoped>\n",
       "    .dataframe tbody tr th:only-of-type {\n",
       "        vertical-align: middle;\n",
       "    }\n",
       "\n",
       "    .dataframe tbody tr th {\n",
       "        vertical-align: top;\n",
       "    }\n",
       "\n",
       "    .dataframe thead th {\n",
       "        text-align: right;\n",
       "    }\n",
       "</style>\n",
       "<table border=\"1\" class=\"dataframe\">\n",
       "  <thead>\n",
       "    <tr style=\"text-align: right;\">\n",
       "      <th></th>\n",
       "      <th>churn_customer_cons</th>\n",
       "      <th>stay_customer_cons</th>\n",
       "      <th>tot_customer_cons</th>\n",
       "    </tr>\n",
       "  </thead>\n",
       "  <tbody>\n",
       "    <tr>\n",
       "      <th>ele_cons_12m</th>\n",
       "      <td>87770.348129</td>\n",
       "      <td>194395.015570</td>\n",
       "      <td>183776.316451</td>\n",
       "    </tr>\n",
       "    <tr>\n",
       "      <th>gas_cons_12m</th>\n",
       "      <td>9878.878884</td>\n",
       "      <td>30899.530299</td>\n",
       "      <td>28806.093780</td>\n",
       "    </tr>\n",
       "    <tr>\n",
       "      <th>ele_cons_last_month</th>\n",
       "      <td>7555.204185</td>\n",
       "      <td>18823.033665</td>\n",
       "      <td>17700.875971</td>\n",
       "    </tr>\n",
       "    <tr>\n",
       "      <th>forecast_cons_12m</th>\n",
       "      <td>2306.116398</td>\n",
       "      <td>2275.275401</td>\n",
       "      <td>2278.346841</td>\n",
       "    </tr>\n",
       "    <tr>\n",
       "      <th>forecast_cons_year</th>\n",
       "      <td>1641.769816</td>\n",
       "      <td>1742.567050</td>\n",
       "      <td>1732.528702</td>\n",
       "    </tr>\n",
       "  </tbody>\n",
       "</table>\n",
       "</div>"
      ],
      "text/plain": [
       "                     churn_customer_cons  stay_customer_cons  \\\n",
       "ele_cons_12m                87770.348129       194395.015570   \n",
       "gas_cons_12m                 9878.878884        30899.530299   \n",
       "ele_cons_last_month          7555.204185        18823.033665   \n",
       "forecast_cons_12m            2306.116398         2275.275401   \n",
       "forecast_cons_year           1641.769816         1742.567050   \n",
       "\n",
       "                     tot_customer_cons  \n",
       "ele_cons_12m             183776.316451  \n",
       "gas_cons_12m              28806.093780  \n",
       "ele_cons_last_month       17700.875971  \n",
       "forecast_cons_12m          2278.346841  \n",
       "forecast_cons_year         1732.528702  "
      ]
     },
     "execution_count": 81,
     "metadata": {},
     "output_type": "execute_result"
    }
   ],
   "source": [
    "avg_cons_12m = pd.DataFrame({'churn_customer_cons':[cons_12m_1.cons_12m.mean(),cons_gas_12m_1.cons_gas_12m.mean(), cons_last_month_1.cons_last_month.mean(), forecast_cons_12m_1.forecast_cons_12m.mean(), forecast_cons_year_1.forecast_cons_year.mean() ], 'stay_customer_cons': [cons_12m_0.cons_12m.mean(),cons_gas_12m_0.cons_gas_12m.mean(), cons_last_month_0.cons_last_month.mean(), forecast_cons_12m_0.forecast_cons_12m.mean(), forecast_cons_year_0.forecast_cons_year.mean()], 'tot_customer_cons':[my_data['cons_12m'].mean(), my_data['cons_gas_12m'].mean(), my_data['cons_last_month'].mean(), my_data['forecast_cons_12m'].mean(), my_data['forecast_cons_year'].mean()]}, index = ['ele_cons_12m', 'gas_cons_12m', 'ele_cons_last_month', 'forecast_cons_12m', 'forecast_cons_year'])\n",
    "avg_cons_12m"
   ]
  },
  {
   "cell_type": "code",
   "execution_count": 82,
   "id": "656e3433",
   "metadata": {},
   "outputs": [
    {
     "data": {
      "text/plain": [
       "<AxesSubplot:title={'center':'Average ele and gas consumption for last 12 months'}>"
      ]
     },
     "execution_count": 82,
     "metadata": {},
     "output_type": "execute_result"
    },
    {
     "data": {
      "image/png": "[encoded data removed]",
      "text/plain": [
       "<Figure size 864x432 with 1 Axes>"
      ]
     },
     "metadata": {
      "needs_background": "light"
     },
     "output_type": "display_data"
    }
   ],
   "source": [
    "avg_cons_12m.plot(kind = 'bar', figsize = (12, 6), title = 'Average ele and gas consumption for last 12 months')"
   ]
  },
  {
   "cell_type": "markdown",
   "id": "6a95e057",
   "metadata": {},
   "source": [
    "From above we can see thatthe average consumption of electricity and gas of the churn customers were mush less than the customers who stay with the company in the last 12 months. The reason could be the churn customers didn't use the services that much for the last 12 months.\n",
    "\n",
    "On the other hand, the the average consumptions of the forecast for 12 months or year doesn't say much difference about the churn group.\n",
    "\n"
   ]
  },
  {
   "cell_type": "code",
   "execution_count": 83,
   "id": "e7b632d9",
   "metadata": {},
   "outputs": [],
   "source": [
    "my_data = my_data.drop(['forecast_cons_year'], axis = 1)"
   ]
  },
  {
   "cell_type": "code",
   "execution_count": 84,
   "id": "c71bf30e",
   "metadata": {},
   "outputs": [
    {
     "data": {
      "text/plain": [
       "69.80823808020206"
      ]
     },
     "execution_count": 84,
     "metadata": {},
     "output_type": "execute_result"
    }
   ],
   "source": [
    "my_data['forecast_meter_rent_12m'].mean()"
   ]
  },
  {
   "cell_type": "code",
   "execution_count": 85,
   "id": "e4f95915",
   "metadata": {},
   "outputs": [],
   "source": [
    "forecast_priceng_p1 = my_data[['forecast_price_energy_p1', 'churn']]\n",
    "forecast_priceng_p1_1 = forecast_priceng_p1[forecast_priceng_p1['churn'] == 1]\n",
    "forecast_priceng_p1_0 = forecast_priceng_p1[forecast_priceng_p1['churn'] == 0]\n",
    "\n",
    "forecast_priceng_p2 = my_data[['forecast_price_energy_p2', 'churn']]\n",
    "forecast_priceng_p2_1 = forecast_priceng_p2[forecast_priceng_p2['churn'] == 1]\n",
    "forecast_priceng_p2_0 = forecast_priceng_p2[forecast_priceng_p2['churn'] == 0]\n",
    "\n",
    "forecast_pricepower_p1 = my_data[['forecast_price_pow_p1', 'churn']]\n",
    "forecast_pricepower_p1_1 = forecast_pricepower_p1[forecast_pricepower_p1['churn'] == 1]\n",
    "forecast_pricepower_p1_0 = forecast_pricepower_p1[forecast_pricepower_p1['churn'] == 0]"
   ]
  },
  {
   "cell_type": "code",
   "execution_count": 86,
   "id": "4b77987a",
   "metadata": {},
   "outputs": [],
   "source": [
    "#avg_forcast_p1p2 = pd.DataFrame({'forecast_energy_price_churn': [forecast_priceng_p1_1.forecast_price_energy_p1.mean(), forecast_priceng_p2_1.forecast_price_energy_p2.mean()], 'forecast_energy_price_stay':[forecast_priceng_p1_0.forecast_price_energy_p1.mean(), forecast_priceng_p2_0.forecast_price_energy_p1.mean()] }, index =['energy price p1', 'energy price p2'])"
   ]
  },
  {
   "cell_type": "code",
   "execution_count": 87,
   "id": "c2c73b26",
   "metadata": {},
   "outputs": [
    {
     "data": {
      "text/html": [
       "<div>\n",
       "<style scoped>\n",
       "    .dataframe tbody tr th:only-of-type {\n",
       "        vertical-align: middle;\n",
       "    }\n",
       "\n",
       "    .dataframe tbody tr th {\n",
       "        vertical-align: top;\n",
       "    }\n",
       "\n",
       "    .dataframe thead th {\n",
       "        text-align: right;\n",
       "    }\n",
       "</style>\n",
       "<table border=\"1\" class=\"dataframe\">\n",
       "  <thead>\n",
       "    <tr style=\"text-align: right;\">\n",
       "      <th></th>\n",
       "      <th>forecast_avg_price_churn</th>\n",
       "      <th>forecast_avg_price_stay</th>\n",
       "    </tr>\n",
       "  </thead>\n",
       "  <tbody>\n",
       "    <tr>\n",
       "      <th>energy_price_p1</th>\n",
       "      <td>0.135397</td>\n",
       "      <td>0.136806</td>\n",
       "    </tr>\n",
       "    <tr>\n",
       "      <th>energy_price_p2</th>\n",
       "      <td>0.056502</td>\n",
       "      <td>0.052740</td>\n",
       "    </tr>\n",
       "    <tr>\n",
       "      <th>power_price_p1</th>\n",
       "      <td>43.552390</td>\n",
       "      <td>43.811869</td>\n",
       "    </tr>\n",
       "  </tbody>\n",
       "</table>\n",
       "</div>"
      ],
      "text/plain": [
       "                 forecast_avg_price_churn  forecast_avg_price_stay\n",
       "energy_price_p1                  0.135397                 0.136806\n",
       "energy_price_p2                  0.056502                 0.052740\n",
       "power_price_p1                  43.552390                43.811869"
      ]
     },
     "execution_count": 87,
     "metadata": {},
     "output_type": "execute_result"
    }
   ],
   "source": [
    "avg_price = pd.DataFrame({'forecast_avg_price_churn': [forecast_priceng_p1_1.forecast_price_energy_p1.mean(),forecast_priceng_p2_1.forecast_price_energy_p2.mean(), forecast_pricepower_p1_1.forecast_price_pow_p1.mean()],'forecast_avg_price_stay':[forecast_priceng_p1_0.forecast_price_energy_p1.mean(),forecast_priceng_p2_0.forecast_price_energy_p2.mean(), forecast_pricepower_p1_0.forecast_price_pow_p1.mean()]}, index =['energy_price_p1', 'energy_price_p2', 'power_price_p1'])\n",
    "avg_price"
   ]
  },
  {
   "cell_type": "code",
   "execution_count": 88,
   "id": "19b09436",
   "metadata": {},
   "outputs": [
    {
     "data": {
      "text/plain": [
       "<AxesSubplot:title={'center':'forecast average price for p1 and p2'}>"
      ]
     },
     "execution_count": 88,
     "metadata": {},
     "output_type": "execute_result"
    },
    {
     "data": {
      "image/png": "[encoded data removed]",
      "text/plain": [
       "<Figure size 576x432 with 1 Axes>"
      ]
     },
     "metadata": {
      "needs_background": "light"
     },
     "output_type": "display_data"
    }
   ],
   "source": [
    "avg_price.plot(kind = 'bar', figsize = (8,6), title = 'forecast average price for p1 and p2')"
   ]
  },
  {
   "cell_type": "markdown",
   "id": "9f2548cc",
   "metadata": {},
   "source": [
    "From above we can see that there are not much price difference between the churn customers and nonchurn customers."
   ]
  },
  {
   "cell_type": "code",
   "execution_count": 89,
   "id": "e44d9192",
   "metadata": {},
   "outputs": [
    {
     "data": {
      "text/plain": [
       "Index(['id', 'channel_sales', 'cons_12m', 'cons_gas_12m', 'cons_last_month',\n",
       "       'date_activ', 'date_end', 'date_modif_prod', 'date_renewal',\n",
       "       'forecast_cons_12m', 'forecast_meter_rent_12m',\n",
       "       'forecast_price_energy_p1', 'forecast_price_energy_p2',\n",
       "       'forecast_price_pow_p1', 'has_gas', 'imp_cons', 'margin_gross_pow_ele',\n",
       "       'margin_net_pow_ele', 'nb_prod_act', 'net_margin', 'num_years_antig',\n",
       "       'origin_up', 'pow_max', 'churn', 'end_month'],\n",
       "      dtype='object')"
      ]
     },
     "execution_count": 89,
     "metadata": {},
     "output_type": "execute_result"
    }
   ],
   "source": [
    "my_data.columns"
   ]
  },
  {
   "cell_type": "markdown",
   "id": "f0b55480",
   "metadata": {},
   "source": [
    "#### channel_sales vs churn"
   ]
  },
  {
   "cell_type": "code",
   "execution_count": 90,
   "id": "1ac4e521",
   "metadata": {},
   "outputs": [
    {
     "data": {
      "text/plain": [
       "foosdfpfkusacimwkcsosbicdxkicaua    7315\n",
       "n/a                                 4091\n",
       "lmkebamcaaclubfxadlmueccxoimlema    2018\n",
       "usilxuppasemubllopkaafesmlibmsdf    1434\n",
       "ewpakwlliwisiwduibdlfmalxowmwpci     959\n",
       "sddiedcslfslkckwlfkdpoeeailfpeds      12\n",
       "epumfxlbckeskwekxbiuasklxalciiuu       4\n",
       "fixdbufsefwooaasfcxdxadsiekoceaa       2\n",
       "Name: channel_sales, dtype: int64"
      ]
     },
     "execution_count": 90,
     "metadata": {},
     "output_type": "execute_result"
    }
   ],
   "source": [
    "my_data.channel_sales.value_counts()"
   ]
  },
  {
   "cell_type": "code",
   "execution_count": 91,
   "id": "6f6897e4",
   "metadata": {},
   "outputs": [
    {
     "data": {
      "text/html": [
       "<div>\n",
       "<style scoped>\n",
       "    .dataframe tbody tr th:only-of-type {\n",
       "        vertical-align: middle;\n",
       "    }\n",
       "\n",
       "    .dataframe tbody tr th {\n",
       "        vertical-align: top;\n",
       "    }\n",
       "\n",
       "    .dataframe thead th {\n",
       "        text-align: right;\n",
       "    }\n",
       "</style>\n",
       "<table border=\"1\" class=\"dataframe\">\n",
       "  <thead>\n",
       "    <tr style=\"text-align: right;\">\n",
       "      <th>churn</th>\n",
       "      <th>0</th>\n",
       "      <th>1</th>\n",
       "    </tr>\n",
       "    <tr>\n",
       "      <th>channel_sales</th>\n",
       "      <th></th>\n",
       "      <th></th>\n",
       "    </tr>\n",
       "  </thead>\n",
       "  <tbody>\n",
       "    <tr>\n",
       "      <th>epumfxlbckeskwekxbiuasklxalciiuu</th>\n",
       "      <td>4.0</td>\n",
       "      <td>0.0</td>\n",
       "    </tr>\n",
       "    <tr>\n",
       "      <th>ewpakwlliwisiwduibdlfmalxowmwpci</th>\n",
       "      <td>877.0</td>\n",
       "      <td>82.0</td>\n",
       "    </tr>\n",
       "    <tr>\n",
       "      <th>fixdbufsefwooaasfcxdxadsiekoceaa</th>\n",
       "      <td>2.0</td>\n",
       "      <td>0.0</td>\n",
       "    </tr>\n",
       "    <tr>\n",
       "      <th>foosdfpfkusacimwkcsosbicdxkicaua</th>\n",
       "      <td>6404.0</td>\n",
       "      <td>911.0</td>\n",
       "    </tr>\n",
       "    <tr>\n",
       "      <th>lmkebamcaaclubfxadlmueccxoimlema</th>\n",
       "      <td>1904.0</td>\n",
       "      <td>114.0</td>\n",
       "    </tr>\n",
       "    <tr>\n",
       "      <th>n/a</th>\n",
       "      <td>3767.0</td>\n",
       "      <td>324.0</td>\n",
       "    </tr>\n",
       "    <tr>\n",
       "      <th>sddiedcslfslkckwlfkdpoeeailfpeds</th>\n",
       "      <td>12.0</td>\n",
       "      <td>0.0</td>\n",
       "    </tr>\n",
       "    <tr>\n",
       "      <th>usilxuppasemubllopkaafesmlibmsdf</th>\n",
       "      <td>1288.0</td>\n",
       "      <td>146.0</td>\n",
       "    </tr>\n",
       "  </tbody>\n",
       "</table>\n",
       "</div>"
      ],
      "text/plain": [
       "churn                                  0      1\n",
       "channel_sales                                  \n",
       "epumfxlbckeskwekxbiuasklxalciiuu     4.0    0.0\n",
       "ewpakwlliwisiwduibdlfmalxowmwpci   877.0   82.0\n",
       "fixdbufsefwooaasfcxdxadsiekoceaa     2.0    0.0\n",
       "foosdfpfkusacimwkcsosbicdxkicaua  6404.0  911.0\n",
       "lmkebamcaaclubfxadlmueccxoimlema  1904.0  114.0\n",
       "n/a                               3767.0  324.0\n",
       "sddiedcslfslkckwlfkdpoeeailfpeds    12.0    0.0\n",
       "usilxuppasemubllopkaafesmlibmsdf  1288.0  146.0"
      ]
     },
     "execution_count": 91,
     "metadata": {},
     "output_type": "execute_result"
    }
   ],
   "source": [
    "channel = my_data[['id', 'channel_sales', 'churn']]\n",
    "\n",
    "channel = channel.groupby([channel['channel_sales'], channel['churn']])['id'].count().unstack(level =1).fillna(0)\n",
    "channel"
   ]
  },
  {
   "cell_type": "code",
   "execution_count": 92,
   "id": "1f989f6d",
   "metadata": {},
   "outputs": [],
   "source": [
    "channel_churn = (channel.div(channel.sum(axis=1), axis=0)*100).sort_values(by=[1], ascending=False)"
   ]
  },
  {
   "cell_type": "code",
   "execution_count": 93,
   "id": "e9f6d79b",
   "metadata": {},
   "outputs": [
    {
     "data": {
      "image/png": "[encoded data removed]",
      "text/plain": [
       "<Figure size 1296x720 with 1 Axes>"
      ]
     },
     "metadata": {
      "needs_background": "light"
     },
     "output_type": "display_data"
    }
   ],
   "source": [
    "plot_stacked_bars(channel_churn, \"Sales Channel\", rot_=30)\n"
   ]
  },
  {
   "cell_type": "code",
   "execution_count": 94,
   "id": "daaf0279",
   "metadata": {},
   "outputs": [
    {
     "data": {
      "text/html": [
       "<div>\n",
       "<style scoped>\n",
       "    .dataframe tbody tr th:only-of-type {\n",
       "        vertical-align: middle;\n",
       "    }\n",
       "\n",
       "    .dataframe tbody tr th {\n",
       "        vertical-align: top;\n",
       "    }\n",
       "\n",
       "    .dataframe thead th {\n",
       "        text-align: right;\n",
       "    }\n",
       "</style>\n",
       "<table border=\"1\" class=\"dataframe\">\n",
       "  <thead>\n",
       "    <tr style=\"text-align: right;\">\n",
       "      <th></th>\n",
       "      <th>Churn percentage</th>\n",
       "      <th>Total companies</th>\n",
       "    </tr>\n",
       "    <tr>\n",
       "      <th>channel_sales</th>\n",
       "      <th></th>\n",
       "      <th></th>\n",
       "    </tr>\n",
       "  </thead>\n",
       "  <tbody>\n",
       "    <tr>\n",
       "      <th>foosdfpfkusacimwkcsosbicdxkicaua</th>\n",
       "      <td>12.453862</td>\n",
       "      <td>7315.0</td>\n",
       "    </tr>\n",
       "    <tr>\n",
       "      <th>usilxuppasemubllopkaafesmlibmsdf</th>\n",
       "      <td>10.181311</td>\n",
       "      <td>1434.0</td>\n",
       "    </tr>\n",
       "    <tr>\n",
       "      <th>ewpakwlliwisiwduibdlfmalxowmwpci</th>\n",
       "      <td>8.550574</td>\n",
       "      <td>959.0</td>\n",
       "    </tr>\n",
       "    <tr>\n",
       "      <th>n/a</th>\n",
       "      <td>7.919824</td>\n",
       "      <td>4091.0</td>\n",
       "    </tr>\n",
       "    <tr>\n",
       "      <th>lmkebamcaaclubfxadlmueccxoimlema</th>\n",
       "      <td>5.649158</td>\n",
       "      <td>2018.0</td>\n",
       "    </tr>\n",
       "    <tr>\n",
       "      <th>epumfxlbckeskwekxbiuasklxalciiuu</th>\n",
       "      <td>0.000000</td>\n",
       "      <td>4.0</td>\n",
       "    </tr>\n",
       "    <tr>\n",
       "      <th>fixdbufsefwooaasfcxdxadsiekoceaa</th>\n",
       "      <td>0.000000</td>\n",
       "      <td>2.0</td>\n",
       "    </tr>\n",
       "    <tr>\n",
       "      <th>sddiedcslfslkckwlfkdpoeeailfpeds</th>\n",
       "      <td>0.000000</td>\n",
       "      <td>12.0</td>\n",
       "    </tr>\n",
       "  </tbody>\n",
       "</table>\n",
       "</div>"
      ],
      "text/plain": [
       "                                  Churn percentage  Total companies\n",
       "channel_sales                                                      \n",
       "foosdfpfkusacimwkcsosbicdxkicaua         12.453862           7315.0\n",
       "usilxuppasemubllopkaafesmlibmsdf         10.181311           1434.0\n",
       "ewpakwlliwisiwduibdlfmalxowmwpci          8.550574            959.0\n",
       "n/a                                       7.919824           4091.0\n",
       "lmkebamcaaclubfxadlmueccxoimlema          5.649158           2018.0\n",
       "epumfxlbckeskwekxbiuasklxalciiuu          0.000000              4.0\n",
       "fixdbufsefwooaasfcxdxadsiekoceaa          0.000000              2.0\n",
       "sddiedcslfslkckwlfkdpoeeailfpeds          0.000000             12.0"
      ]
     },
     "execution_count": 94,
     "metadata": {},
     "output_type": "execute_result"
    }
   ],
   "source": [
    "channel_total = channel.fillna(0)[0]+channel.fillna(0)[1]\n",
    "channel_percentage = channel.fillna(0)[1]/(channel_total)*100\n",
    "pd.DataFrame({\"Churn percentage\": channel_percentage,\n",
    " \"Total companies\": channel_total }).sort_values(by=\"Churn percentage\",\n",
    " ascending=False).head(10)"
   ]
  },
  {
   "cell_type": "markdown",
   "id": "dc986b8a",
   "metadata": {},
   "source": [
    "#### contract type (electricity, gas) vs churn"
   ]
  },
  {
   "cell_type": "code",
   "execution_count": 95,
   "id": "4d6437e8",
   "metadata": {},
   "outputs": [],
   "source": [
    "contract_type = my_data[[\"id\", \"has_gas\", \"churn\"]]\n"
   ]
  },
  {
   "cell_type": "code",
   "execution_count": 96,
   "id": "8f471a1d",
   "metadata": {},
   "outputs": [
    {
     "data": {
      "text/html": [
       "<div>\n",
       "<style scoped>\n",
       "    .dataframe tbody tr th:only-of-type {\n",
       "        vertical-align: middle;\n",
       "    }\n",
       "\n",
       "    .dataframe tbody tr th {\n",
       "        vertical-align: top;\n",
       "    }\n",
       "\n",
       "    .dataframe thead th {\n",
       "        text-align: right;\n",
       "    }\n",
       "</style>\n",
       "<table border=\"1\" class=\"dataframe\">\n",
       "  <thead>\n",
       "    <tr style=\"text-align: right;\">\n",
       "      <th>churn</th>\n",
       "      <th>0</th>\n",
       "      <th>1</th>\n",
       "    </tr>\n",
       "    <tr>\n",
       "      <th>has_gas</th>\n",
       "      <th></th>\n",
       "      <th></th>\n",
       "    </tr>\n",
       "  </thead>\n",
       "  <tbody>\n",
       "    <tr>\n",
       "      <th>f</th>\n",
       "      <td>11594</td>\n",
       "      <td>1345</td>\n",
       "    </tr>\n",
       "    <tr>\n",
       "      <th>t</th>\n",
       "      <td>2664</td>\n",
       "      <td>232</td>\n",
       "    </tr>\n",
       "  </tbody>\n",
       "</table>\n",
       "</div>"
      ],
      "text/plain": [
       "churn        0     1\n",
       "has_gas             \n",
       "f        11594  1345\n",
       "t         2664   232"
      ]
     },
     "execution_count": 96,
     "metadata": {},
     "output_type": "execute_result"
    }
   ],
   "source": [
    "contract = contract_type.groupby([contract_type[\"churn\"], contract_type[\"has_gas\"]])[\"id\"].count().unstack(level=0)\n",
    "contract"
   ]
  },
  {
   "cell_type": "code",
   "execution_count": 97,
   "id": "b7b95026",
   "metadata": {},
   "outputs": [
    {
     "data": {
      "text/html": [
       "<div>\n",
       "<style scoped>\n",
       "    .dataframe tbody tr th:only-of-type {\n",
       "        vertical-align: middle;\n",
       "    }\n",
       "\n",
       "    .dataframe tbody tr th {\n",
       "        vertical-align: top;\n",
       "    }\n",
       "\n",
       "    .dataframe thead th {\n",
       "        text-align: right;\n",
       "    }\n",
       "</style>\n",
       "<table border=\"1\" class=\"dataframe\">\n",
       "  <thead>\n",
       "    <tr style=\"text-align: right;\">\n",
       "      <th>churn</th>\n",
       "      <th>0</th>\n",
       "      <th>1</th>\n",
       "    </tr>\n",
       "    <tr>\n",
       "      <th>has_gas</th>\n",
       "      <th></th>\n",
       "      <th></th>\n",
       "    </tr>\n",
       "  </thead>\n",
       "  <tbody>\n",
       "    <tr>\n",
       "      <th>f</th>\n",
       "      <td>89.60507</td>\n",
       "      <td>10.39493</td>\n",
       "    </tr>\n",
       "    <tr>\n",
       "      <th>t</th>\n",
       "      <td>91.98895</td>\n",
       "      <td>8.01105</td>\n",
       "    </tr>\n",
       "  </tbody>\n",
       "</table>\n",
       "</div>"
      ],
      "text/plain": [
       "churn           0         1\n",
       "has_gas                    \n",
       "f        89.60507  10.39493\n",
       "t        91.98895   8.01105"
      ]
     },
     "execution_count": 97,
     "metadata": {},
     "output_type": "execute_result"
    }
   ],
   "source": [
    "contract_percentage = (contract.div(contract.sum(axis=1), axis=0)*100).sort_values(by=[1], ascending=False)\n",
    "contract_percentage"
   ]
  },
  {
   "cell_type": "code",
   "execution_count": 98,
   "id": "f587ee69",
   "metadata": {},
   "outputs": [
    {
     "data": {
      "image/png": "[encoded data removed]",
      "text/plain": [
       "<Figure size 1296x720 with 1 Axes>"
      ]
     },
     "metadata": {
      "needs_background": "light"
     },
     "output_type": "display_data"
    }
   ],
   "source": [
    "plot_stacked_bars(contract_percentage, \"Contract type (with gas)\")\n"
   ]
  },
  {
   "cell_type": "markdown",
   "id": "d4fa5dc7",
   "metadata": {},
   "source": [
    "#### subscribed power vs churn"
   ]
  },
  {
   "cell_type": "code",
   "execution_count": 99,
   "id": "5b0e46c5",
   "metadata": {},
   "outputs": [],
   "source": [
    "power = my_data[[\"id\",\"pow_max\", \"churn\"]]"
   ]
  },
  {
   "cell_type": "code",
   "execution_count": 100,
   "id": "d51e7fae",
   "metadata": {},
   "outputs": [
    {
     "data": {
      "image/png": "[encoded data removed]",
      "text/plain": [
       "<Figure size 1296x720 with 1 Axes>"
      ]
     },
     "metadata": {
      "needs_background": "light"
     },
     "output_type": "display_data"
    }
   ],
   "source": [
    "#set a temp\n",
    "temp = pd.DataFrame({\"Retention\": power[power[\"churn\"]==0]['pow_max'],\n",
    " \"Churn\":power[power[\"churn\"]==1]['pow_max']})\n",
    "#plot\n",
    "fig, axs = plt.subplots(nrows=1, figsize=(18,10))\n",
    "temp[[\"Retention\",\"Churn\"]].plot(kind='hist', bins=50, ax=axs, stacked=True)\n",
    "axs.set_xlabel('pow_max')\n",
    "axs.ticklabel_format(style='plain', axis='x')\n"
   ]
  },
  {
   "cell_type": "markdown",
   "id": "828aae8f",
   "metadata": {},
   "source": [
    "#### others vs churn"
   ]
  },
  {
   "cell_type": "code",
   "execution_count": 101,
   "id": "f019cf70",
   "metadata": {},
   "outputs": [],
   "source": [
    "others = my_data[[\"id\",\"nb_prod_act\",\"num_years_antig\", \"origin_up\", \"churn\"]]"
   ]
  },
  {
   "cell_type": "code",
   "execution_count": 102,
   "id": "c19aaa73",
   "metadata": {},
   "outputs": [
    {
     "data": {
      "text/plain": [
       "1    12372\n",
       "2     2686\n",
       "3      553\n",
       "4      170\n",
       "5       37\n",
       "6        9\n",
       "8        8\n",
       "Name: nb_prod_act, dtype: int64"
      ]
     },
     "execution_count": 102,
     "metadata": {},
     "output_type": "execute_result"
    }
   ],
   "source": [
    "my_data.nb_prod_act.value_counts()"
   ]
  },
  {
   "cell_type": "code",
   "execution_count": 103,
   "id": "711653af",
   "metadata": {},
   "outputs": [
    {
     "data": {
      "image/png": "[encoded data removed]",
      "text/plain": [
       "<Figure size 1296x720 with 1 Axes>"
      ]
     },
     "metadata": {
      "needs_background": "light"
     },
     "output_type": "display_data"
    }
   ],
   "source": [
    "products = others.groupby([others[\"nb_prod_act\"],others[\"churn\"]])[\"id\"].count().unstack(level=1)\n",
    "products_percentage = (products.div(products.sum(axis=1), axis=0)*100).sort_values(by=[1], ascending=False)\n",
    "plot_stacked_bars(products_percentage, \"Number of products\")\n"
   ]
  },
  {
   "cell_type": "code",
   "execution_count": 104,
   "id": "55f12ba1",
   "metadata": {},
   "outputs": [
    {
     "data": {
      "text/plain": [
       "6     4999\n",
       "4     4296\n",
       "3     2706\n",
       "5     2479\n",
       "7      634\n",
       "11     234\n",
       "8      187\n",
       "12     127\n",
       "10     109\n",
       "9       37\n",
       "13      13\n",
       "2       11\n",
       "16       1\n",
       "1        1\n",
       "15       1\n",
       "Name: num_years_antig, dtype: int64"
      ]
     },
     "execution_count": 104,
     "metadata": {},
     "output_type": "execute_result"
    }
   ],
   "source": [
    "my_data.num_years_antig.value_counts()"
   ]
  },
  {
   "cell_type": "code",
   "execution_count": 105,
   "id": "4575a709",
   "metadata": {},
   "outputs": [
    {
     "data": {
      "image/png": "[encoded data removed]",
      "text/plain": [
       "<Figure size 1296x720 with 1 Axes>"
      ]
     },
     "metadata": {
      "needs_background": "light"
     },
     "output_type": "display_data"
    }
   ],
   "source": [
    "years_antig = others.groupby([others[\"num_years_antig\"],others[\"churn\"]])[\"id\"].count().unstack(level=1)\n",
    "years_antig_percentage = (years_antig.div(years_antig.sum(axis=1), axis=0)*100)\n",
    "plot_stacked_bars(years_antig_percentage, \"Number years\")"
   ]
  },
  {
   "cell_type": "code",
   "execution_count": 106,
   "id": "883fc363",
   "metadata": {},
   "outputs": [
    {
     "data": {
      "text/html": [
       "<div>\n",
       "<style scoped>\n",
       "    .dataframe tbody tr th:only-of-type {\n",
       "        vertical-align: middle;\n",
       "    }\n",
       "\n",
       "    .dataframe tbody tr th {\n",
       "        vertical-align: top;\n",
       "    }\n",
       "\n",
       "    .dataframe thead th {\n",
       "        text-align: right;\n",
       "    }\n",
       "</style>\n",
       "<table border=\"1\" class=\"dataframe\">\n",
       "  <thead>\n",
       "    <tr style=\"text-align: right;\">\n",
       "      <th>churn</th>\n",
       "      <th>0</th>\n",
       "      <th>1</th>\n",
       "    </tr>\n",
       "    <tr>\n",
       "      <th>num_years_antig</th>\n",
       "      <th></th>\n",
       "      <th></th>\n",
       "    </tr>\n",
       "  </thead>\n",
       "  <tbody>\n",
       "    <tr>\n",
       "      <th>1</th>\n",
       "      <td>1.0</td>\n",
       "      <td>NaN</td>\n",
       "    </tr>\n",
       "    <tr>\n",
       "      <th>2</th>\n",
       "      <td>8.0</td>\n",
       "      <td>3.0</td>\n",
       "    </tr>\n",
       "    <tr>\n",
       "      <th>3</th>\n",
       "      <td>2343.0</td>\n",
       "      <td>363.0</td>\n",
       "    </tr>\n",
       "    <tr>\n",
       "      <th>4</th>\n",
       "      <td>3772.0</td>\n",
       "      <td>524.0</td>\n",
       "    </tr>\n",
       "    <tr>\n",
       "      <th>5</th>\n",
       "      <td>2263.0</td>\n",
       "      <td>216.0</td>\n",
       "    </tr>\n",
       "    <tr>\n",
       "      <th>6</th>\n",
       "      <td>4631.0</td>\n",
       "      <td>368.0</td>\n",
       "    </tr>\n",
       "    <tr>\n",
       "      <th>7</th>\n",
       "      <td>582.0</td>\n",
       "      <td>52.0</td>\n",
       "    </tr>\n",
       "    <tr>\n",
       "      <th>8</th>\n",
       "      <td>175.0</td>\n",
       "      <td>12.0</td>\n",
       "    </tr>\n",
       "    <tr>\n",
       "      <th>9</th>\n",
       "      <td>36.0</td>\n",
       "      <td>1.0</td>\n",
       "    </tr>\n",
       "    <tr>\n",
       "      <th>10</th>\n",
       "      <td>102.0</td>\n",
       "      <td>7.0</td>\n",
       "    </tr>\n",
       "    <tr>\n",
       "      <th>11</th>\n",
       "      <td>218.0</td>\n",
       "      <td>16.0</td>\n",
       "    </tr>\n",
       "    <tr>\n",
       "      <th>12</th>\n",
       "      <td>113.0</td>\n",
       "      <td>14.0</td>\n",
       "    </tr>\n",
       "    <tr>\n",
       "      <th>13</th>\n",
       "      <td>12.0</td>\n",
       "      <td>1.0</td>\n",
       "    </tr>\n",
       "    <tr>\n",
       "      <th>15</th>\n",
       "      <td>1.0</td>\n",
       "      <td>NaN</td>\n",
       "    </tr>\n",
       "    <tr>\n",
       "      <th>16</th>\n",
       "      <td>1.0</td>\n",
       "      <td>NaN</td>\n",
       "    </tr>\n",
       "  </tbody>\n",
       "</table>\n",
       "</div>"
      ],
      "text/plain": [
       "churn                 0      1\n",
       "num_years_antig               \n",
       "1                   1.0    NaN\n",
       "2                   8.0    3.0\n",
       "3                2343.0  363.0\n",
       "4                3772.0  524.0\n",
       "5                2263.0  216.0\n",
       "6                4631.0  368.0\n",
       "7                 582.0   52.0\n",
       "8                 175.0   12.0\n",
       "9                  36.0    1.0\n",
       "10                102.0    7.0\n",
       "11                218.0   16.0\n",
       "12                113.0   14.0\n",
       "13                 12.0    1.0\n",
       "15                  1.0    NaN\n",
       "16                  1.0    NaN"
      ]
     },
     "execution_count": 106,
     "metadata": {},
     "output_type": "execute_result"
    }
   ],
   "source": [
    "years_antig"
   ]
  },
  {
   "cell_type": "code",
   "execution_count": 107,
   "id": "d01fc415",
   "metadata": {},
   "outputs": [
    {
     "data": {
      "text/plain": [
       "num_years_antig\n",
       "1        1.0\n",
       "2       11.0\n",
       "3     2706.0\n",
       "4     4296.0\n",
       "5     2479.0\n",
       "6     4999.0\n",
       "7      634.0\n",
       "8      187.0\n",
       "9       37.0\n",
       "10     109.0\n",
       "11     234.0\n",
       "12     127.0\n",
       "13      13.0\n",
       "15       1.0\n",
       "16       1.0\n",
       "dtype: float64"
      ]
     },
     "execution_count": 107,
     "metadata": {},
     "output_type": "execute_result"
    }
   ],
   "source": [
    "years_antig.sum(axis=1)"
   ]
  },
  {
   "cell_type": "code",
   "execution_count": 108,
   "id": "4fc8866e",
   "metadata": {},
   "outputs": [
    {
     "data": {
      "text/plain": [
       "lxidpiddsbxsbosboudacockeimpuepw    7698\n",
       "kamkkxfxxuwbdslkwifmmcsiusiuosws    4479\n",
       "ldkssxwpmemidmecebumciepifcamkci    3569\n",
       "n/a                                   86\n",
       "usapbepcfoloekilkwsdiboslwaxobdp       2\n",
       "ewxeelcelemmiwuafmddpobolfuxioce       1\n",
       "Name: origin_up, dtype: int64"
      ]
     },
     "execution_count": 108,
     "metadata": {},
     "output_type": "execute_result"
    }
   ],
   "source": [
    "my_data.origin_up.value_counts()"
   ]
  },
  {
   "cell_type": "code",
   "execution_count": 109,
   "id": "32eee430",
   "metadata": {
    "scrolled": true
   },
   "outputs": [
    {
     "data": {
      "image/png": "[encoded data removed]",
      "text/plain": [
       "<Figure size 1296x720 with 1 Axes>"
      ]
     },
     "metadata": {
      "needs_background": "light"
     },
     "output_type": "display_data"
    }
   ],
   "source": [
    "origin = others.groupby([others[\"origin_up\"],others[\"churn\"]])[\"id\"].count().unstack(level=1)\n",
    "origin_percentage = (origin.div(origin.sum(axis=1), axis=0)*100)\n",
    "plot_stacked_bars(origin_percentage, \"Origin contract/offer\")\n"
   ]
  },
  {
   "cell_type": "markdown",
   "id": "197d7d96",
   "metadata": {},
   "source": [
    "### dates vs churn"
   ]
  },
  {
   "cell_type": "code",
   "execution_count": 110,
   "id": "f09c002d",
   "metadata": {
    "scrolled": true
   },
   "outputs": [],
   "source": [
    "my_data['date_end'].replace({'n/a': my_data['date_end'].value_counts().index[0]}, inplace = True)"
   ]
  },
  {
   "cell_type": "code",
   "execution_count": 111,
   "id": "dd38ffa9",
   "metadata": {},
   "outputs": [],
   "source": [
    "my_data['date_renewal'].replace({'n/a': my_data['date_renewal'].value_counts().index[0]}, inplace = True)"
   ]
  },
  {
   "cell_type": "code",
   "execution_count": 112,
   "id": "d95a7e2e",
   "metadata": {},
   "outputs": [],
   "source": [
    "my_data[\"date_end\"] = pd.to_datetime(my_data[\"date_end\"], format='%Y-%m-%d')\n",
    "my_data[\"date_activ\"] = pd.to_datetime(my_data[\"date_activ\"], format = '%Y-%m-%d')\n",
    "my_data[\"date_modif_prod\"] = pd.to_datetime(my_data[\"date_modif_prod\"], format = '%Y-%m-%d')\n",
    "my_data[\"date_renewal\"] = pd.to_datetime(my_data[\"date_renewal\"], format = '%Y-%m-%d')"
   ]
  },
  {
   "cell_type": "code",
   "execution_count": 113,
   "id": "e80778cc",
   "metadata": {},
   "outputs": [],
   "source": [
    "dates = my_data[[\"id\",\"date_activ\",\"date_end\", \"date_modif_prod\",\"date_renewal\",\"churn\"]].copy()\n"
   ]
  },
  {
   "cell_type": "code",
   "execution_count": 114,
   "id": "d374dbec",
   "metadata": {},
   "outputs": [],
   "source": [
    "def line_format(label):\n",
    "    \"\"\"\n",
    "    Convert time label to the format of pandas line plot\n",
    "    \"\"\"\n",
    "    month = label.month_name()[:1]\n",
    "    if label.month_name() == \"January\":\n",
    "        month += f'\\n{label.year}'\n",
    "    return month"
   ]
  },
  {
   "cell_type": "markdown",
   "id": "038054f2",
   "metadata": {},
   "source": [
    "Plot date_activ vs churn"
   ]
  },
  {
   "cell_type": "code",
   "execution_count": 115,
   "id": "6d89ac0b",
   "metadata": {},
   "outputs": [
    {
     "data": {
      "image/png": "[encoded data removed]",
      "text/plain": [
       "<Figure size 1296x720 with 1 Axes>"
      ]
     },
     "metadata": {
      "needs_background": "light"
     },
     "output_type": "display_data"
    }
   ],
   "source": [
    "#  Group by month\n",
    "temp = dates[['date_activ', 'churn', 'id']].set_index('date_activ').groupby([pd.Grouper(freq ='M'), 'churn']).count().unstack(level =1)\n",
    "\n",
    "#Plot\n",
    "ax=temp.plot(kind=\"bar\", stacked=True, figsize=(18,10), rot=0)\n",
    "# Change x-axis labels to months\n",
    "ax.set_xticklabels(map(lambda x: line_format(x), temp.index))\n",
    "# Change xlabel size\n",
    "plt.xticks(fontsize=8)\n",
    "# Rename y-axis\n",
    "plt.ylabel(\"Number of companies\")\n",
    "# Rename legend\n",
    "plt.legend([\"Retention\", \"Churn\"], loc=\"upper right\")\n",
    "plt.show()"
   ]
  },
  {
   "cell_type": "markdown",
   "id": "cd7f741d",
   "metadata": {},
   "source": [
    "Define a function to plot dates vs churn"
   ]
  },
  {
   "cell_type": "code",
   "execution_count": 116,
   "id": "3deaa66f",
   "metadata": {},
   "outputs": [],
   "source": [
    "def plot_dates(dataframe, column, fontsize_=12):\n",
    "    \"\"\"\n",
    "    Plot monthly churn and retention distribution\n",
    "    \"\"\"\n",
    "    # Group by month\n",
    "    temp = dataframe[[column,\n",
    "                      \"churn\",\n",
    "         \"id\"]].set_index(column).groupby([pd.Grouper(freq='M'), \"churn\"]).count().unstack(level=1)\n",
    "    # Plot\n",
    "    ax=temp.plot(kind=\"bar\", stacked=True, figsize=(18,10), rot=0)\n",
    "    # Change x-axis labels to months\n",
    "    ax.set_xticklabels(map(lambda x: line_format(x), temp.index))\n",
    "    # Change xlabel size\n",
    "    plt.xticks(fontsize=fontsize_)\n",
    "    # Rename y-axis\n",
    "    plt.ylabel(\"Number of companies\")\n",
    "    # Rename legend\n",
    "    plt.legend([\"Retention\", \"Churn\"], loc=\"upper right\")\n",
    "    plt.show()\n",
    "    \n",
    "def line_format(label):\n",
    "    \"\"\"\n",
    "    Convert time label to the format of pandas line plot\n",
    "    \"\"\"\n",
    "    month = label.month_name()[:1]\n",
    "    if label.month_name() == \"January\":\n",
    "        month += f'\\n{label.year}'\n",
    "    return month\n"
   ]
  },
  {
   "cell_type": "code",
   "execution_count": 117,
   "id": "3b03ce14",
   "metadata": {},
   "outputs": [
    {
     "data": {
      "image/png": "[encoded data removed]",
      "text/plain": [
       "<Figure size 1296x720 with 1 Axes>"
      ]
     },
     "metadata": {
      "needs_background": "light"
     },
     "output_type": "display_data"
    }
   ],
   "source": [
    "plot_dates(dates, \"date_activ\", fontsize_=8)\n"
   ]
  },
  {
   "cell_type": "code",
   "execution_count": 118,
   "id": "4a6da8eb",
   "metadata": {},
   "outputs": [
    {
     "data": {
      "image/png": "[encoded data removed]",
      "text/plain": [
       "<Figure size 1296x720 with 1 Axes>"
      ]
     },
     "metadata": {
      "needs_background": "light"
     },
     "output_type": "display_data"
    }
   ],
   "source": [
    "plot_dates(dates, \"date_end\")"
   ]
  },
  {
   "cell_type": "code",
   "execution_count": 119,
   "id": "14827cbd",
   "metadata": {},
   "outputs": [
    {
     "data": {
      "image/png": "[encoded data removed]",
      "text/plain": [
       "<Figure size 1296x720 with 1 Axes>"
      ]
     },
     "metadata": {
      "needs_background": "light"
     },
     "output_type": "display_data"
    }
   ],
   "source": [
    "plot_dates(dates, \"date_modif_prod\", fontsize_=8)"
   ]
  },
  {
   "cell_type": "code",
   "execution_count": 120,
   "id": "015cecdf",
   "metadata": {},
   "outputs": [
    {
     "data": {
      "image/png": "[encoded data removed]",
      "text/plain": [
       "<Figure size 1296x720 with 1 Axes>"
      ]
     },
     "metadata": {
      "needs_background": "light"
     },
     "output_type": "display_data"
    }
   ],
   "source": [
    "plot_dates(dates, \"date_renewal\")\n"
   ]
  },
  {
   "cell_type": "markdown",
   "id": "39bea1ff",
   "metadata": {},
   "source": [
    "### History data"
   ]
  },
  {
   "cell_type": "code",
   "execution_count": 121,
   "id": "a81b6551",
   "metadata": {},
   "outputs": [],
   "source": [
    "hist_data = pd.read_csv('C:/Users/Guoli/Documents/Data Science Material/Projects/BCG/Task 2/ml_case_training_hist_data.csv')"
   ]
  },
  {
   "cell_type": "code",
   "execution_count": 122,
   "id": "760ecb18",
   "metadata": {},
   "outputs": [
    {
     "data": {
      "text/html": [
       "<div>\n",
       "<style scoped>\n",
       "    .dataframe tbody tr th:only-of-type {\n",
       "        vertical-align: middle;\n",
       "    }\n",
       "\n",
       "    .dataframe tbody tr th {\n",
       "        vertical-align: top;\n",
       "    }\n",
       "\n",
       "    .dataframe thead th {\n",
       "        text-align: right;\n",
       "    }\n",
       "</style>\n",
       "<table border=\"1\" class=\"dataframe\">\n",
       "  <thead>\n",
       "    <tr style=\"text-align: right;\">\n",
       "      <th></th>\n",
       "      <th>id</th>\n",
       "      <th>price_date</th>\n",
       "      <th>price_p1_var</th>\n",
       "      <th>price_p2_var</th>\n",
       "      <th>price_p3_var</th>\n",
       "      <th>price_p1_fix</th>\n",
       "      <th>price_p2_fix</th>\n",
       "      <th>price_p3_fix</th>\n",
       "    </tr>\n",
       "  </thead>\n",
       "  <tbody>\n",
       "    <tr>\n",
       "      <th>0</th>\n",
       "      <td>038af19179925da21a25619c5a24b745</td>\n",
       "      <td>2015-01-01</td>\n",
       "      <td>0.151367</td>\n",
       "      <td>0.0</td>\n",
       "      <td>0.0</td>\n",
       "      <td>44.266931</td>\n",
       "      <td>0.0</td>\n",
       "      <td>0.0</td>\n",
       "    </tr>\n",
       "    <tr>\n",
       "      <th>1</th>\n",
       "      <td>038af19179925da21a25619c5a24b745</td>\n",
       "      <td>2015-02-01</td>\n",
       "      <td>0.151367</td>\n",
       "      <td>0.0</td>\n",
       "      <td>0.0</td>\n",
       "      <td>44.266931</td>\n",
       "      <td>0.0</td>\n",
       "      <td>0.0</td>\n",
       "    </tr>\n",
       "    <tr>\n",
       "      <th>2</th>\n",
       "      <td>038af19179925da21a25619c5a24b745</td>\n",
       "      <td>2015-03-01</td>\n",
       "      <td>0.151367</td>\n",
       "      <td>0.0</td>\n",
       "      <td>0.0</td>\n",
       "      <td>44.266931</td>\n",
       "      <td>0.0</td>\n",
       "      <td>0.0</td>\n",
       "    </tr>\n",
       "    <tr>\n",
       "      <th>3</th>\n",
       "      <td>038af19179925da21a25619c5a24b745</td>\n",
       "      <td>2015-04-01</td>\n",
       "      <td>0.149626</td>\n",
       "      <td>0.0</td>\n",
       "      <td>0.0</td>\n",
       "      <td>44.266931</td>\n",
       "      <td>0.0</td>\n",
       "      <td>0.0</td>\n",
       "    </tr>\n",
       "    <tr>\n",
       "      <th>4</th>\n",
       "      <td>038af19179925da21a25619c5a24b745</td>\n",
       "      <td>2015-05-01</td>\n",
       "      <td>0.149626</td>\n",
       "      <td>0.0</td>\n",
       "      <td>0.0</td>\n",
       "      <td>44.266931</td>\n",
       "      <td>0.0</td>\n",
       "      <td>0.0</td>\n",
       "    </tr>\n",
       "  </tbody>\n",
       "</table>\n",
       "</div>"
      ],
      "text/plain": [
       "                                 id  price_date  price_p1_var  price_p2_var  \\\n",
       "0  038af19179925da21a25619c5a24b745  2015-01-01      0.151367           0.0   \n",
       "1  038af19179925da21a25619c5a24b745  2015-02-01      0.151367           0.0   \n",
       "2  038af19179925da21a25619c5a24b745  2015-03-01      0.151367           0.0   \n",
       "3  038af19179925da21a25619c5a24b745  2015-04-01      0.149626           0.0   \n",
       "4  038af19179925da21a25619c5a24b745  2015-05-01      0.149626           0.0   \n",
       "\n",
       "   price_p3_var  price_p1_fix  price_p2_fix  price_p3_fix  \n",
       "0           0.0     44.266931           0.0           0.0  \n",
       "1           0.0     44.266931           0.0           0.0  \n",
       "2           0.0     44.266931           0.0           0.0  \n",
       "3           0.0     44.266931           0.0           0.0  \n",
       "4           0.0     44.266931           0.0           0.0  "
      ]
     },
     "execution_count": 122,
     "metadata": {},
     "output_type": "execute_result"
    }
   ],
   "source": [
    "hist_data.head()"
   ]
  },
  {
   "cell_type": "code",
   "execution_count": 123,
   "id": "e8424dbf",
   "metadata": {},
   "outputs": [
    {
     "data": {
      "text/plain": [
       "(193002, 8)"
      ]
     },
     "execution_count": 123,
     "metadata": {},
     "output_type": "execute_result"
    }
   ],
   "source": [
    "hist_data.shape"
   ]
  },
  {
   "cell_type": "markdown",
   "id": "eeb0eb5f",
   "metadata": {},
   "source": [
    "#### Missing values"
   ]
  },
  {
   "cell_type": "code",
   "execution_count": 124,
   "id": "445ff57b",
   "metadata": {},
   "outputs": [
    {
     "data": {
      "text/plain": [
       "id                 0\n",
       "price_date         0\n",
       "price_p1_var    1359\n",
       "price_p2_var    1359\n",
       "price_p3_var    1359\n",
       "price_p1_fix    1359\n",
       "price_p2_fix    1359\n",
       "price_p3_fix    1359\n",
       "dtype: int64"
      ]
     },
     "execution_count": 124,
     "metadata": {},
     "output_type": "execute_result"
    }
   ],
   "source": [
    "null_hist = hist_data.isna().sum()\n",
    "null_hist"
   ]
  },
  {
   "cell_type": "code",
   "execution_count": 125,
   "id": "50f47322",
   "metadata": {},
   "outputs": [
    {
     "data": {
      "text/html": [
       "<div>\n",
       "<style scoped>\n",
       "    .dataframe tbody tr th:only-of-type {\n",
       "        vertical-align: middle;\n",
       "    }\n",
       "\n",
       "    .dataframe tbody tr th {\n",
       "        vertical-align: top;\n",
       "    }\n",
       "\n",
       "    .dataframe thead th {\n",
       "        text-align: right;\n",
       "    }\n",
       "</style>\n",
       "<table border=\"1\" class=\"dataframe\">\n",
       "  <thead>\n",
       "    <tr style=\"text-align: right;\">\n",
       "      <th></th>\n",
       "      <th>Number of null hist</th>\n",
       "      <th>Percentage</th>\n",
       "    </tr>\n",
       "  </thead>\n",
       "  <tbody>\n",
       "    <tr>\n",
       "      <th>price_p1_var</th>\n",
       "      <td>1359</td>\n",
       "      <td>0.7</td>\n",
       "    </tr>\n",
       "    <tr>\n",
       "      <th>price_p2_var</th>\n",
       "      <td>1359</td>\n",
       "      <td>0.7</td>\n",
       "    </tr>\n",
       "    <tr>\n",
       "      <th>price_p3_var</th>\n",
       "      <td>1359</td>\n",
       "      <td>0.7</td>\n",
       "    </tr>\n",
       "    <tr>\n",
       "      <th>price_p1_fix</th>\n",
       "      <td>1359</td>\n",
       "      <td>0.7</td>\n",
       "    </tr>\n",
       "    <tr>\n",
       "      <th>price_p2_fix</th>\n",
       "      <td>1359</td>\n",
       "      <td>0.7</td>\n",
       "    </tr>\n",
       "    <tr>\n",
       "      <th>price_p3_fix</th>\n",
       "      <td>1359</td>\n",
       "      <td>0.7</td>\n",
       "    </tr>\n",
       "  </tbody>\n",
       "</table>\n",
       "</div>"
      ],
      "text/plain": [
       "              Number of null hist  Percentage\n",
       "price_p1_var                 1359         0.7\n",
       "price_p2_var                 1359         0.7\n",
       "price_p3_var                 1359         0.7\n",
       "price_p1_fix                 1359         0.7\n",
       "price_p2_fix                 1359         0.7\n",
       "price_p3_fix                 1359         0.7"
      ]
     },
     "execution_count": 125,
     "metadata": {},
     "output_type": "execute_result"
    }
   ],
   "source": [
    "null_hist = null_hist[null_hist > 0]\n",
    "null_hist_percentage = round(null_hist / len(hist_data), 4) *100\n",
    "null_hist_frame = pd.DataFrame({'Number of null hist': null_hist, 'Percentage': null_hist_percentage})\n",
    "null_hist_frame"
   ]
  },
  {
   "cell_type": "code",
   "execution_count": 126,
   "id": "994b8805",
   "metadata": {},
   "outputs": [],
   "source": [
    "hist_data.loc[hist_data[\"price_p1_var\"].isnull(),\"price_p1_var\"] = hist_data[\"price_p1_var\"].median()\n",
    "hist_data.loc[hist_data[\"price_p2_var\"].isnull(),\"price_p2_var\"] = hist_data[\"price_p2_var\"].median()\n",
    "hist_data.loc[hist_data[\"price_p3_var\"].isnull(),\"price_p3_var\"] = hist_data[\"price_p3_var\"].median()\n",
    "hist_data.loc[hist_data[\"price_p1_fix\"].isnull(),\"price_p1_fix\"] = hist_data[\"price_p1_fix\"].median()\n",
    "hist_data.loc[hist_data[\"price_p2_fix\"].isnull(),\"price_p2_fix\"] = hist_data[\"price_p2_fix\"].median()\n",
    "hist_data.loc[hist_data[\"price_p3_fix\"].isnull(),\"price_p3_fix\"] = hist_data[\"price_p3_fix\"].median()\n"
   ]
  },
  {
   "cell_type": "code",
   "execution_count": 127,
   "id": "b0153ee1",
   "metadata": {},
   "outputs": [
    {
     "data": {
      "text/plain": [
       "id              0\n",
       "price_date      0\n",
       "price_p1_var    0\n",
       "price_p2_var    0\n",
       "price_p3_var    0\n",
       "price_p1_fix    0\n",
       "price_p2_fix    0\n",
       "price_p3_fix    0\n",
       "dtype: int64"
      ]
     },
     "execution_count": 127,
     "metadata": {},
     "output_type": "execute_result"
    }
   ],
   "source": [
    "hist_data.isna().sum()"
   ]
  },
  {
   "cell_type": "markdown",
   "id": "924e80b5",
   "metadata": {},
   "source": [
    "#### Formatting dates for history data"
   ]
  },
  {
   "cell_type": "code",
   "execution_count": 128,
   "id": "9076f7a1",
   "metadata": {},
   "outputs": [],
   "source": [
    "hist_data[\"price_date\"] = pd.to_datetime(hist_data[\"price_date\"], format='%Y-%m-%d')"
   ]
  },
  {
   "cell_type": "markdown",
   "id": "3b296fd3",
   "metadata": {},
   "source": [
    "#### Negative data"
   ]
  },
  {
   "cell_type": "code",
   "execution_count": 129,
   "id": "071562ca",
   "metadata": {},
   "outputs": [
    {
     "data": {
      "text/html": [
       "<div>\n",
       "<style scoped>\n",
       "    .dataframe tbody tr th:only-of-type {\n",
       "        vertical-align: middle;\n",
       "    }\n",
       "\n",
       "    .dataframe tbody tr th {\n",
       "        vertical-align: top;\n",
       "    }\n",
       "\n",
       "    .dataframe thead th {\n",
       "        text-align: right;\n",
       "    }\n",
       "</style>\n",
       "<table border=\"1\" class=\"dataframe\">\n",
       "  <thead>\n",
       "    <tr style=\"text-align: right;\">\n",
       "      <th></th>\n",
       "      <th>price_p1_var</th>\n",
       "      <th>price_p2_var</th>\n",
       "      <th>price_p3_var</th>\n",
       "      <th>price_p1_fix</th>\n",
       "      <th>price_p2_fix</th>\n",
       "      <th>price_p3_fix</th>\n",
       "    </tr>\n",
       "  </thead>\n",
       "  <tbody>\n",
       "    <tr>\n",
       "      <th>count</th>\n",
       "      <td>193002.000000</td>\n",
       "      <td>193002.000000</td>\n",
       "      <td>193002.000000</td>\n",
       "      <td>193002.000000</td>\n",
       "      <td>193002.000000</td>\n",
       "      <td>193002.000000</td>\n",
       "    </tr>\n",
       "    <tr>\n",
       "      <th>mean</th>\n",
       "      <td>0.141027</td>\n",
       "      <td>0.054630</td>\n",
       "      <td>0.030496</td>\n",
       "      <td>43.332175</td>\n",
       "      <td>10.622871</td>\n",
       "      <td>6.409981</td>\n",
       "    </tr>\n",
       "    <tr>\n",
       "      <th>std</th>\n",
       "      <td>0.025032</td>\n",
       "      <td>0.049924</td>\n",
       "      <td>0.036298</td>\n",
       "      <td>5.419345</td>\n",
       "      <td>12.841899</td>\n",
       "      <td>7.773595</td>\n",
       "    </tr>\n",
       "    <tr>\n",
       "      <th>min</th>\n",
       "      <td>0.000000</td>\n",
       "      <td>0.000000</td>\n",
       "      <td>0.000000</td>\n",
       "      <td>-0.177779</td>\n",
       "      <td>-0.097752</td>\n",
       "      <td>-0.065172</td>\n",
       "    </tr>\n",
       "    <tr>\n",
       "      <th>25%</th>\n",
       "      <td>0.125976</td>\n",
       "      <td>0.000000</td>\n",
       "      <td>0.000000</td>\n",
       "      <td>40.728885</td>\n",
       "      <td>0.000000</td>\n",
       "      <td>0.000000</td>\n",
       "    </tr>\n",
       "    <tr>\n",
       "      <th>50%</th>\n",
       "      <td>0.146033</td>\n",
       "      <td>0.085483</td>\n",
       "      <td>0.000000</td>\n",
       "      <td>44.266930</td>\n",
       "      <td>0.000000</td>\n",
       "      <td>0.000000</td>\n",
       "    </tr>\n",
       "    <tr>\n",
       "      <th>75%</th>\n",
       "      <td>0.151635</td>\n",
       "      <td>0.101673</td>\n",
       "      <td>0.072558</td>\n",
       "      <td>44.444710</td>\n",
       "      <td>24.339581</td>\n",
       "      <td>16.226389</td>\n",
       "    </tr>\n",
       "    <tr>\n",
       "      <th>max</th>\n",
       "      <td>0.280700</td>\n",
       "      <td>0.229788</td>\n",
       "      <td>0.114102</td>\n",
       "      <td>59.444710</td>\n",
       "      <td>36.490692</td>\n",
       "      <td>17.458221</td>\n",
       "    </tr>\n",
       "  </tbody>\n",
       "</table>\n",
       "</div>"
      ],
      "text/plain": [
       "        price_p1_var   price_p2_var   price_p3_var   price_p1_fix  \\\n",
       "count  193002.000000  193002.000000  193002.000000  193002.000000   \n",
       "mean        0.141027       0.054630       0.030496      43.332175   \n",
       "std         0.025032       0.049924       0.036298       5.419345   \n",
       "min         0.000000       0.000000       0.000000      -0.177779   \n",
       "25%         0.125976       0.000000       0.000000      40.728885   \n",
       "50%         0.146033       0.085483       0.000000      44.266930   \n",
       "75%         0.151635       0.101673       0.072558      44.444710   \n",
       "max         0.280700       0.229788       0.114102      59.444710   \n",
       "\n",
       "        price_p2_fix   price_p3_fix  \n",
       "count  193002.000000  193002.000000  \n",
       "mean       10.622871       6.409981  \n",
       "std        12.841899       7.773595  \n",
       "min        -0.097752      -0.065172  \n",
       "25%         0.000000       0.000000  \n",
       "50%         0.000000       0.000000  \n",
       "75%        24.339581      16.226389  \n",
       "max        36.490692      17.458221  "
      ]
     },
     "execution_count": 129,
     "metadata": {},
     "output_type": "execute_result"
    }
   ],
   "source": [
    "hist_data.describe()"
   ]
  },
  {
   "cell_type": "markdown",
   "id": "f2b66483",
   "metadata": {},
   "source": [
    "We can see that there are negative values for price_p1_fix , price_p2_fix and price_p3_fix ."
   ]
  },
  {
   "cell_type": "code",
   "execution_count": 130,
   "id": "f14b96f4",
   "metadata": {},
   "outputs": [
    {
     "data": {
      "text/html": [
       "<div>\n",
       "<style scoped>\n",
       "    .dataframe tbody tr th:only-of-type {\n",
       "        vertical-align: middle;\n",
       "    }\n",
       "\n",
       "    .dataframe tbody tr th {\n",
       "        vertical-align: top;\n",
       "    }\n",
       "\n",
       "    .dataframe thead th {\n",
       "        text-align: right;\n",
       "    }\n",
       "</style>\n",
       "<table border=\"1\" class=\"dataframe\">\n",
       "  <thead>\n",
       "    <tr style=\"text-align: right;\">\n",
       "      <th></th>\n",
       "      <th>id</th>\n",
       "      <th>price_date</th>\n",
       "      <th>price_p1_var</th>\n",
       "      <th>price_p2_var</th>\n",
       "      <th>price_p3_var</th>\n",
       "      <th>price_p1_fix</th>\n",
       "      <th>price_p2_fix</th>\n",
       "      <th>price_p3_fix</th>\n",
       "    </tr>\n",
       "  </thead>\n",
       "  <tbody>\n",
       "    <tr>\n",
       "      <th>23138</th>\n",
       "      <td>951d99fe07ca94c2139f43bc37095139</td>\n",
       "      <td>2015-03-01</td>\n",
       "      <td>0.125976</td>\n",
       "      <td>0.103395</td>\n",
       "      <td>0.071536</td>\n",
       "      <td>-0.162916</td>\n",
       "      <td>-0.097749</td>\n",
       "      <td>-0.065166</td>\n",
       "    </tr>\n",
       "    <tr>\n",
       "      <th>28350</th>\n",
       "      <td>f7bdc6fa1067cd26fd80bfb9f3fca28f</td>\n",
       "      <td>2015-03-01</td>\n",
       "      <td>0.131032</td>\n",
       "      <td>0.108896</td>\n",
       "      <td>0.076955</td>\n",
       "      <td>-0.162916</td>\n",
       "      <td>-0.097749</td>\n",
       "      <td>-0.065166</td>\n",
       "    </tr>\n",
       "    <tr>\n",
       "      <th>98575</th>\n",
       "      <td>9b523ad5ba8aa2e524dcda5b3d54dab2</td>\n",
       "      <td>2015-02-01</td>\n",
       "      <td>0.129444</td>\n",
       "      <td>0.106863</td>\n",
       "      <td>0.075004</td>\n",
       "      <td>-0.162916</td>\n",
       "      <td>-0.097749</td>\n",
       "      <td>-0.065166</td>\n",
       "    </tr>\n",
       "    <tr>\n",
       "      <th>113467</th>\n",
       "      <td>cfd098ee6c567eb32374c77d20571bc7</td>\n",
       "      <td>2015-02-01</td>\n",
       "      <td>0.123086</td>\n",
       "      <td>0.100505</td>\n",
       "      <td>0.068646</td>\n",
       "      <td>-0.162916</td>\n",
       "      <td>-0.097749</td>\n",
       "      <td>-0.065166</td>\n",
       "    </tr>\n",
       "    <tr>\n",
       "      <th>118467</th>\n",
       "      <td>51d7d8a0bf6b8bd94f8c1de7942c66ea</td>\n",
       "      <td>2015-07-01</td>\n",
       "      <td>0.128132</td>\n",
       "      <td>0.105996</td>\n",
       "      <td>0.074056</td>\n",
       "      <td>-0.162912</td>\n",
       "      <td>-0.097752</td>\n",
       "      <td>-0.065172</td>\n",
       "    </tr>\n",
       "    <tr>\n",
       "      <th>125819</th>\n",
       "      <td>decc0a647016e183ded972595cd2b9fb</td>\n",
       "      <td>2015-03-01</td>\n",
       "      <td>0.124937</td>\n",
       "      <td>0.102814</td>\n",
       "      <td>0.069071</td>\n",
       "      <td>-0.162916</td>\n",
       "      <td>-0.097749</td>\n",
       "      <td>-0.065166</td>\n",
       "    </tr>\n",
       "    <tr>\n",
       "      <th>128761</th>\n",
       "      <td>cc214d7c05de3ee17a7691e274ac488e</td>\n",
       "      <td>2015-06-01</td>\n",
       "      <td>0.124675</td>\n",
       "      <td>0.102539</td>\n",
       "      <td>0.070596</td>\n",
       "      <td>-0.162912</td>\n",
       "      <td>-0.097752</td>\n",
       "      <td>-0.065172</td>\n",
       "    </tr>\n",
       "    <tr>\n",
       "      <th>141011</th>\n",
       "      <td>2a4ed325054472e03cdcc9a34693be4b</td>\n",
       "      <td>2015-02-01</td>\n",
       "      <td>0.167317</td>\n",
       "      <td>0.083347</td>\n",
       "      <td>0.000000</td>\n",
       "      <td>-0.177779</td>\n",
       "      <td>0.000000</td>\n",
       "      <td>0.000000</td>\n",
       "    </tr>\n",
       "    <tr>\n",
       "      <th>160827</th>\n",
       "      <td>395a6f41bbd1a0f23a64f00645264e78</td>\n",
       "      <td>2015-04-01</td>\n",
       "      <td>0.121352</td>\n",
       "      <td>0.098771</td>\n",
       "      <td>0.066912</td>\n",
       "      <td>-0.162916</td>\n",
       "      <td>-0.097749</td>\n",
       "      <td>-0.065166</td>\n",
       "    </tr>\n",
       "    <tr>\n",
       "      <th>181811</th>\n",
       "      <td>d4a84ff4ec620151ef05bdef0cf27eab</td>\n",
       "      <td>2015-05-01</td>\n",
       "      <td>0.125976</td>\n",
       "      <td>0.103395</td>\n",
       "      <td>0.071536</td>\n",
       "      <td>-0.162916</td>\n",
       "      <td>-0.097749</td>\n",
       "      <td>-0.065166</td>\n",
       "    </tr>\n",
       "  </tbody>\n",
       "</table>\n",
       "</div>"
      ],
      "text/plain": [
       "                                      id price_date  price_p1_var  \\\n",
       "23138   951d99fe07ca94c2139f43bc37095139 2015-03-01      0.125976   \n",
       "28350   f7bdc6fa1067cd26fd80bfb9f3fca28f 2015-03-01      0.131032   \n",
       "98575   9b523ad5ba8aa2e524dcda5b3d54dab2 2015-02-01      0.129444   \n",
       "113467  cfd098ee6c567eb32374c77d20571bc7 2015-02-01      0.123086   \n",
       "118467  51d7d8a0bf6b8bd94f8c1de7942c66ea 2015-07-01      0.128132   \n",
       "125819  decc0a647016e183ded972595cd2b9fb 2015-03-01      0.124937   \n",
       "128761  cc214d7c05de3ee17a7691e274ac488e 2015-06-01      0.124675   \n",
       "141011  2a4ed325054472e03cdcc9a34693be4b 2015-02-01      0.167317   \n",
       "160827  395a6f41bbd1a0f23a64f00645264e78 2015-04-01      0.121352   \n",
       "181811  d4a84ff4ec620151ef05bdef0cf27eab 2015-05-01      0.125976   \n",
       "\n",
       "        price_p2_var  price_p3_var  price_p1_fix  price_p2_fix  price_p3_fix  \n",
       "23138       0.103395      0.071536     -0.162916     -0.097749     -0.065166  \n",
       "28350       0.108896      0.076955     -0.162916     -0.097749     -0.065166  \n",
       "98575       0.106863      0.075004     -0.162916     -0.097749     -0.065166  \n",
       "113467      0.100505      0.068646     -0.162916     -0.097749     -0.065166  \n",
       "118467      0.105996      0.074056     -0.162912     -0.097752     -0.065172  \n",
       "125819      0.102814      0.069071     -0.162916     -0.097749     -0.065166  \n",
       "128761      0.102539      0.070596     -0.162912     -0.097752     -0.065172  \n",
       "141011      0.083347      0.000000     -0.177779      0.000000      0.000000  \n",
       "160827      0.098771      0.066912     -0.162916     -0.097749     -0.065166  \n",
       "181811      0.103395      0.071536     -0.162916     -0.097749     -0.065166  "
      ]
     },
     "execution_count": 130,
     "metadata": {},
     "output_type": "execute_result"
    }
   ],
   "source": [
    "hist_data[(hist_data.price_p1_fix < 0) | (hist_data.price_p2_fix < 0) | (hist_data.price_p3_fix < 0)]"
   ]
  },
  {
   "cell_type": "markdown",
   "id": "959663af",
   "metadata": {},
   "source": [
    "we can see there are only about 10 entries which are negative. This is more likely to be due to corrupted data rather than\n",
    "a \"price discount\".\n",
    "\n",
    "We will replace the negative values with the median (most frequent value)\n"
   ]
  },
  {
   "cell_type": "code",
   "execution_count": 131,
   "id": "8a60ecce",
   "metadata": {},
   "outputs": [],
   "source": [
    "hist_data.loc[hist_data[\"price_p1_fix\"] < 0,\"price_p1_fix\"] = hist_data[\"price_p1_fix\"].median()\n",
    "hist_data.loc[hist_data[\"price_p2_fix\"] < 0,\"price_p2_fix\"] = hist_data[\"price_p2_fix\"].median()\n",
    "hist_data.loc[hist_data[\"price_p3_fix\"] < 0,\"price_p3_fix\"] = hist_data[\"price_p3_fix\"].median()\n"
   ]
  },
  {
   "cell_type": "markdown",
   "id": "e848d2d4",
   "metadata": {},
   "source": [
    "### Save data files for further use"
   ]
  },
  {
   "cell_type": "code",
   "execution_count": 133,
   "id": "840654e8",
   "metadata": {},
   "outputs": [],
   "source": [
    "my_data.to_csv('C:/Users/Guoli/Documents/Data Science Material/Projects/BCG/Task 2/my_data.csv', index =False)"
   ]
  },
  {
   "cell_type": "code",
   "execution_count": 134,
   "id": "1e6bd1ac",
   "metadata": {},
   "outputs": [],
   "source": [
    "hist_data.to_csv('C:/Users/Guoli/Documents/Data Science Material/Projects/BCG/Task 2/hist_data.csv', index = False)"
   ]
  },
  {
   "cell_type": "code",
   "execution_count": null,
   "id": "1756143a",
   "metadata": {},
   "outputs": [],
   "source": []
  },
  {
   "cell_type": "code",
   "execution_count": null,
   "id": "6895b27a",
   "metadata": {},
   "outputs": [],
   "source": []
  },
  {
   "cell_type": "code",
   "execution_count": null,
   "id": "648cc1fb",
   "metadata": {},
   "outputs": [],
   "source": []
  },
  {
   "cell_type": "code",
   "execution_count": null,
   "id": "d1678d79",
   "metadata": {},
   "outputs": [],
   "source": []
  }
 ],
 "metadata": {
  "kernelspec": {
   "display_name": "Python 3",
   "language": "python",
   "name": "python3"
  },
  "language_info": {
   "codemirror_mode": {
    "name": "ipython",
    "version": 3
   },
   "file_extension": ".py",
   "mimetype": "text/x-python",
   "name": "python",
   "nbconvert_exporter": "python",
   "pygments_lexer": "ipython3",
   "version": "3.8.8"
  }
 },
 "nbformat": 4,
 "nbformat_minor": 5
}
